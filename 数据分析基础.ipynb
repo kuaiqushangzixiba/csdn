{
 "cells": [
  {
   "cell_type": "code",
   "execution_count": 10,
   "metadata": {},
   "outputs": [],
   "source": [
    "import numpy as np\n",
    "import pandas as pd \n",
    "import matplotlib.pyplot as plt\n",
    "import seaborn as sns\n",
    "# %matplotlib inline "
   ]
  },
  {
   "cell_type": "markdown",
   "metadata": {},
   "source": [
    "## numpy"
   ]
  },
  {
   "cell_type": "code",
   "execution_count": 11,
   "metadata": {},
   "outputs": [],
   "source": [
    "n = np.array([[1,3,5],[2,4,6]])"
   ]
  },
  {
   "cell_type": "code",
   "execution_count": 12,
   "metadata": {},
   "outputs": [
    {
     "data": {
      "text/plain": [
       "(2, 3)"
      ]
     },
     "execution_count": 12,
     "metadata": {},
     "output_type": "execute_result"
    }
   ],
   "source": [
    "n.shape"
   ]
  },
  {
   "cell_type": "code",
   "execution_count": 13,
   "metadata": {},
   "outputs": [
    {
     "data": {
      "text/plain": [
       "2"
      ]
     },
     "execution_count": 13,
     "metadata": {},
     "output_type": "execute_result"
    }
   ],
   "source": [
    "n.ndim"
   ]
  },
  {
   "cell_type": "code",
   "execution_count": 14,
   "metadata": {},
   "outputs": [
    {
     "data": {
      "text/plain": [
       "4"
      ]
     },
     "execution_count": 14,
     "metadata": {},
     "output_type": "execute_result"
    }
   ],
   "source": [
    "n.itemsize"
   ]
  },
  {
   "cell_type": "code",
   "execution_count": 15,
   "metadata": {},
   "outputs": [
    {
     "data": {
      "text/plain": [
       "6"
      ]
     },
     "execution_count": 15,
     "metadata": {},
     "output_type": "execute_result"
    }
   ],
   "source": [
    "n.size"
   ]
  },
  {
   "cell_type": "code",
   "execution_count": 16,
   "metadata": {},
   "outputs": [
    {
     "data": {
      "text/plain": [
       "dtype('int32')"
      ]
     },
     "execution_count": 16,
     "metadata": {},
     "output_type": "execute_result"
    }
   ],
   "source": [
    "n.dtype"
   ]
  },
  {
   "cell_type": "code",
   "execution_count": 17,
   "metadata": {},
   "outputs": [
    {
     "data": {
      "text/plain": [
       "array([[ 0.,  0.,  0.,  0.],\n",
       "       [ 0.,  0.,  0.,  0.]])"
      ]
     },
     "execution_count": 17,
     "metadata": {},
     "output_type": "execute_result"
    }
   ],
   "source": [
    "np.zeros([2,4])"
   ]
  },
  {
   "cell_type": "code",
   "execution_count": 18,
   "metadata": {},
   "outputs": [
    {
     "data": {
      "text/plain": [
       "array([[ 1.,  1.,  1.,  1.,  1.],\n",
       "       [ 1.,  1.,  1.,  1.,  1.],\n",
       "       [ 1.,  1.,  1.,  1.,  1.]])"
      ]
     },
     "execution_count": 18,
     "metadata": {},
     "output_type": "execute_result"
    }
   ],
   "source": [
    "np.ones([3,5])"
   ]
  },
  {
   "cell_type": "code",
   "execution_count": 19,
   "metadata": {},
   "outputs": [
    {
     "data": {
      "text/plain": [
       "array([[ 0.62368065,  0.1494322 ,  0.59697212,  0.62259435],\n",
       "       [ 0.65879373,  0.66898376,  0.81123966,  0.82707551]])"
      ]
     },
     "execution_count": 19,
     "metadata": {},
     "output_type": "execute_result"
    }
   ],
   "source": [
    "np.random.rand(2,4)"
   ]
  },
  {
   "cell_type": "code",
   "execution_count": 20,
   "metadata": {},
   "outputs": [
    {
     "data": {
      "text/plain": [
       "0.553709757012233"
      ]
     },
     "execution_count": 20,
     "metadata": {},
     "output_type": "execute_result"
    }
   ],
   "source": [
    "np.random.rand()\n",
    "# rand(d0,d1,..,dn)\t根据d0‐dn创建随机数数组，浮点数， [0,1)，均匀分布"
   ]
  },
  {
   "cell_type": "code",
   "execution_count": 21,
   "metadata": {},
   "outputs": [
    {
     "data": {
      "text/plain": [
       "8"
      ]
     },
     "execution_count": 21,
     "metadata": {},
     "output_type": "execute_result"
    }
   ],
   "source": [
    "np.random.randint(1,10)\n",
    "#randint(low[,high,shape])\t根据shape创建随机整数或整数数组，范围是[low, high)"
   ]
  },
  {
   "cell_type": "code",
   "execution_count": 22,
   "metadata": {},
   "outputs": [
    {
     "data": {
      "text/plain": [
       "array([7, 3, 3])"
      ]
     },
     "execution_count": 22,
     "metadata": {},
     "output_type": "execute_result"
    }
   ],
   "source": [
    "np.random.randint(1,10,3)"
   ]
  },
  {
   "cell_type": "code",
   "execution_count": 23,
   "metadata": {},
   "outputs": [
    {
     "data": {
      "text/plain": [
       "array([[ -1.85899677e-03,   1.97552950e+00,   2.91628233e-01,\n",
       "          7.77773223e-01],\n",
       "       [  1.99370158e+00,  -3.38962005e-01,   1.16083413e+00,\n",
       "          8.73269783e-01]])"
      ]
     },
     "execution_count": 23,
     "metadata": {},
     "output_type": "execute_result"
    }
   ],
   "source": [
    "np.random.randn(2,4)\n",
    "#randn(d0,d1,..,dn)\t根据d0‐dn创建随机数数组，标准正态分布"
   ]
  },
  {
   "cell_type": "code",
   "execution_count": 24,
   "metadata": {},
   "outputs": [
    {
     "data": {
      "text/plain": [
       "3"
      ]
     },
     "execution_count": 24,
     "metadata": {},
     "output_type": "execute_result"
    }
   ],
   "source": [
    "np.random.choice([1,2,3,4])   \n",
    "#choice(a[,size,replace,p]) 从一维数组a中以概率p抽取元素，形成size形状新数组\n",
    "#replace表示是否可以重用元素,默认为False"
   ]
  },
  {
   "cell_type": "code",
   "execution_count": 25,
   "metadata": {},
   "outputs": [
    {
     "data": {
      "text/plain": [
       "array([ 0.05349314,  0.16939604,  0.02313048,  0.03296001,  0.1125785 ,\n",
       "        0.02163581,  0.04406022,  0.12652661,  0.12821706,  0.02311517,\n",
       "        0.21418642,  0.05192464,  0.0215187 ,  0.1492451 ,  0.03639702,\n",
       "        0.02708147,  0.00276286,  0.07209267,  0.2989669 ,  0.09167316,\n",
       "        0.18593904,  0.18004136,  0.09943533,  0.01551833,  0.18230424,\n",
       "        0.14259584,  0.20935401,  0.01546011,  0.0648086 ,  0.03819485,\n",
       "        0.08053549,  0.30626827,  0.04279777,  0.1464338 ,  0.05984511,\n",
       "        0.12447047,  0.01156616,  0.00764857,  0.01301647,  0.01545134,\n",
       "        0.00873064,  0.04284918,  0.02551163,  0.12290833,  0.08811356,\n",
       "        0.04425094,  0.0763893 ,  0.00336265,  0.08953829,  0.04558652,\n",
       "        0.01246647,  0.26877086,  0.0972881 ,  0.02939449,  0.10483423,\n",
       "        0.01999419,  0.00559055,  0.02335733,  0.07104771,  0.01096446,\n",
       "        0.14663274,  0.07353477,  0.11144828,  0.09191962,  0.22134842,\n",
       "        0.11297622,  0.09314566,  0.00234492,  0.13874797,  0.02255571,\n",
       "        0.01169057,  0.06859005,  0.00652307,  0.07742589,  0.11371244,\n",
       "        0.09088314,  0.05384896,  0.08607914,  0.15182135,  0.10054031,\n",
       "        0.03108846,  0.33389671,  0.03895432,  0.00372467,  0.01247341,\n",
       "        0.12249432,  0.10357863,  0.01594943,  0.10153247,  0.04581124,\n",
       "        0.04874354,  0.05758869,  0.06555455,  0.03816361,  0.07808676,\n",
       "        0.04613179,  0.06671208,  0.08747107,  0.08161222,  0.03171374])"
      ]
     },
     "execution_count": 25,
     "metadata": {},
     "output_type": "execute_result"
    }
   ],
   "source": [
    "np.random.beta(1,10,100)"
   ]
  },
  {
   "cell_type": "code",
   "execution_count": 26,
   "metadata": {},
   "outputs": [
    {
     "data": {
      "text/plain": [
       "array([ 0.65037424,  0.50545337,  0.87860147,  0.18184023,  0.85223307])"
      ]
     },
     "execution_count": 26,
     "metadata": {},
     "output_type": "execute_result"
    }
   ],
   "source": [
    "# numpy.random.seed()\n",
    "\n",
    "# np.random.seed()的作用：使得随机数据可预测。\n",
    "# 当我们设置相同的seed，每次生成的随机数相同。如果不设置seed，则每次会生成不同的随机数\n",
    "np.random.seed(18)\n",
    "np.random.rand(5)"
   ]
  },
  {
   "cell_type": "code",
   "execution_count": 27,
   "metadata": {},
   "outputs": [
    {
     "data": {
      "text/plain": [
       "array([ 0.54340494,  0.27836939,  0.42451759,  0.84477613,  0.00471886])"
      ]
     },
     "execution_count": 27,
     "metadata": {},
     "output_type": "execute_result"
    }
   ],
   "source": [
    "np.random.seed(100)\n",
    "np.random.rand(5)"
   ]
  },
  {
   "cell_type": "code",
   "execution_count": 28,
   "metadata": {},
   "outputs": [
    {
     "data": {
      "text/plain": [
       "array([ 0.54340494,  0.27836939,  0.42451759,  0.84477613,  0.00471886])"
      ]
     },
     "execution_count": 28,
     "metadata": {},
     "output_type": "execute_result"
    }
   ],
   "source": [
    "np.random.seed(100)\n",
    "np.random.rand(5)"
   ]
  },
  {
   "cell_type": "code",
   "execution_count": 29,
   "metadata": {},
   "outputs": [],
   "source": [
    "lst = np.arange(1,11).reshape(2,-1)"
   ]
  },
  {
   "cell_type": "code",
   "execution_count": 30,
   "metadata": {},
   "outputs": [
    {
     "data": {
      "text/plain": [
       "array([[  2.71828183e+00,   7.38905610e+00,   2.00855369e+01,\n",
       "          5.45981500e+01,   1.48413159e+02],\n",
       "       [  4.03428793e+02,   1.09663316e+03,   2.98095799e+03,\n",
       "          8.10308393e+03,   2.20264658e+04]])"
      ]
     },
     "execution_count": 30,
     "metadata": {},
     "output_type": "execute_result"
    }
   ],
   "source": [
    "np.exp(lst)"
   ]
  },
  {
   "cell_type": "code",
   "execution_count": 31,
   "metadata": {},
   "outputs": [
    {
     "data": {
      "text/plain": [
       "array([[    2.,     4.,     8.,    16.,    32.],\n",
       "       [   64.,   128.,   256.,   512.,  1024.]])"
      ]
     },
     "execution_count": 31,
     "metadata": {},
     "output_type": "execute_result"
    }
   ],
   "source": [
    "np.exp2(lst)"
   ]
  },
  {
   "cell_type": "code",
   "execution_count": 32,
   "metadata": {},
   "outputs": [
    {
     "data": {
      "text/plain": [
       "array([[    2.,     4.,     8.,    16.,    32.],\n",
       "       [   64.,   128.,   256.,   512.,  1024.]])"
      ]
     },
     "execution_count": 32,
     "metadata": {},
     "output_type": "execute_result"
    }
   ],
   "source": [
    "np.exp2(lst)"
   ]
  },
  {
   "cell_type": "code",
   "execution_count": 33,
   "metadata": {},
   "outputs": [
    {
     "data": {
      "text/plain": [
       "array([[ 0.        ,  0.69314718,  1.09861229,  1.38629436,  1.60943791],\n",
       "       [ 1.79175947,  1.94591015,  2.07944154,  2.19722458,  2.30258509]])"
      ]
     },
     "execution_count": 33,
     "metadata": {},
     "output_type": "execute_result"
    }
   ],
   "source": [
    "np.log(lst)"
   ]
  },
  {
   "cell_type": "code",
   "execution_count": 34,
   "metadata": {},
   "outputs": [
    {
     "data": {
      "text/plain": [
       "array([[ 1.        ,  1.41421356,  1.73205081,  2.        ,  2.23606798],\n",
       "       [ 2.44948974,  2.64575131,  2.82842712,  3.        ,  3.16227766]])"
      ]
     },
     "execution_count": 34,
     "metadata": {},
     "output_type": "execute_result"
    }
   ],
   "source": [
    "np.sqrt(lst)"
   ]
  },
  {
   "cell_type": "code",
   "execution_count": 35,
   "metadata": {},
   "outputs": [
    {
     "data": {
      "text/plain": [
       "array([ 7,  9, 11, 13, 15])"
      ]
     },
     "execution_count": 35,
     "metadata": {},
     "output_type": "execute_result"
    }
   ],
   "source": [
    "lst.sum(axis=0)"
   ]
  },
  {
   "cell_type": "code",
   "execution_count": 36,
   "metadata": {},
   "outputs": [],
   "source": [
    "lst2 = np.array([4,3,2,1])"
   ]
  },
  {
   "cell_type": "code",
   "execution_count": 37,
   "metadata": {},
   "outputs": [
    {
     "data": {
      "text/plain": [
       "30"
      ]
     },
     "execution_count": 37,
     "metadata": {},
     "output_type": "execute_result"
    }
   ],
   "source": [
    "np.dot(lst2,lst2)"
   ]
  },
  {
   "cell_type": "code",
   "execution_count": 38,
   "metadata": {},
   "outputs": [],
   "source": [
    "from numpy.linalg import *"
   ]
  },
  {
   "cell_type": "code",
   "execution_count": 39,
   "metadata": {},
   "outputs": [
    {
     "data": {
      "text/plain": [
       "array([[1, 2],\n",
       "       [3, 4]])"
      ]
     },
     "execution_count": 39,
     "metadata": {},
     "output_type": "execute_result"
    }
   ],
   "source": [
    "lst = np.array([[1,2],[3,4]])\n",
    "lst"
   ]
  },
  {
   "cell_type": "code",
   "execution_count": 40,
   "metadata": {},
   "outputs": [
    {
     "data": {
      "text/plain": [
       "array([[-2. ,  1. ],\n",
       "       [ 1.5, -0.5]])"
      ]
     },
     "execution_count": 40,
     "metadata": {},
     "output_type": "execute_result"
    }
   ],
   "source": [
    "inv(lst)"
   ]
  },
  {
   "cell_type": "code",
   "execution_count": 41,
   "metadata": {},
   "outputs": [
    {
     "data": {
      "text/plain": [
       "array([[  1.00000000e+00,   4.44089210e-16],\n",
       "       [  0.00000000e+00,   1.00000000e+00]])"
      ]
     },
     "execution_count": 41,
     "metadata": {},
     "output_type": "execute_result"
    }
   ],
   "source": [
    "np.dot(inv(lst),lst)"
   ]
  },
  {
   "cell_type": "code",
   "execution_count": 42,
   "metadata": {},
   "outputs": [
    {
     "data": {
      "text/plain": [
       "array([[1, 3],\n",
       "       [2, 4]])"
      ]
     },
     "execution_count": 42,
     "metadata": {},
     "output_type": "execute_result"
    }
   ],
   "source": [
    "lst.transpose()"
   ]
  },
  {
   "cell_type": "code",
   "execution_count": 43,
   "metadata": {},
   "outputs": [
    {
     "data": {
      "text/plain": [
       "-2.0000000000000004"
      ]
     },
     "execution_count": 43,
     "metadata": {},
     "output_type": "execute_result"
    }
   ],
   "source": [
    "det(lst)   #行列式"
   ]
  },
  {
   "cell_type": "code",
   "execution_count": 44,
   "metadata": {},
   "outputs": [
    {
     "data": {
      "text/plain": [
       "(array([-0.37228132,  5.37228132]), array([[-0.82456484, -0.41597356],\n",
       "        [ 0.56576746, -0.90937671]]))"
      ]
     },
     "execution_count": 44,
     "metadata": {},
     "output_type": "execute_result"
    }
   ],
   "source": [
    "eig(lst)  #特征值,特征向量"
   ]
  },
  {
   "cell_type": "code",
   "execution_count": 45,
   "metadata": {},
   "outputs": [],
   "source": [
    "y = np.array([[5,],[7,]])"
   ]
  },
  {
   "cell_type": "code",
   "execution_count": 46,
   "metadata": {},
   "outputs": [
    {
     "data": {
      "text/plain": [
       "array([[-3.],\n",
       "       [ 4.]])"
      ]
     },
     "execution_count": 46,
     "metadata": {},
     "output_type": "execute_result"
    }
   ],
   "source": [
    "solve(lst,y)  #解"
   ]
  },
  {
   "cell_type": "code",
   "execution_count": 47,
   "metadata": {},
   "outputs": [
    {
     "data": {
      "text/plain": [
       "array([ 8.+0.j,  0.+0.j,  0.+0.j,  0.+0.j,  0.+0.j,  0.+0.j,  0.+0.j,\n",
       "        0.+0.j])"
      ]
     },
     "execution_count": 47,
     "metadata": {},
     "output_type": "execute_result"
    }
   ],
   "source": [
    "np.fft.fft(np.array([1,1,1,1,1,1,1,1,]))  #阶跃"
   ]
  },
  {
   "cell_type": "code",
   "execution_count": 48,
   "metadata": {},
   "outputs": [
    {
     "data": {
      "text/plain": [
       "array([[ 1.       , -0.8660254],\n",
       "       [-0.8660254,  1.       ]])"
      ]
     },
     "execution_count": 48,
     "metadata": {},
     "output_type": "execute_result"
    }
   ],
   "source": [
    "np.corrcoef([1,0,1],[0,2,1])  #相关系数"
   ]
  },
  {
   "cell_type": "code",
   "execution_count": 49,
   "metadata": {},
   "outputs": [
    {
     "name": "stdout",
     "output_type": "stream",
     "text": [
      "   2\n",
      "2 x + 1 x + 3\n"
     ]
    }
   ],
   "source": [
    "print(np.poly1d([2,1,3]))"
   ]
  },
  {
   "cell_type": "code",
   "execution_count": 50,
   "metadata": {},
   "outputs": [
    {
     "name": "stdout",
     "output_type": "stream",
     "text": [
      "   3     2\n",
      "4 x + 2 x + 3 x + 3\n"
     ]
    }
   ],
   "source": [
    "print(np.poly1d([4,2,3,3]))"
   ]
  },
  {
   "cell_type": "markdown",
   "metadata": {},
   "source": [
    "## matplotlib"
   ]
  },
  {
   "cell_type": "markdown",
   "metadata": {},
   "source": [
    "#### 折线图"
   ]
  },
  {
   "cell_type": "code",
   "execution_count": 51,
   "metadata": {},
   "outputs": [
    {
     "data": {
      "text/plain": [
       "Text(10,30,'cos(1)')"
      ]
     },
     "execution_count": 51,
     "metadata": {},
     "output_type": "execute_result"
    },
    {
     "data": {
      "image/png": "[encoded data removed]",
      "text/plain": [
       "<matplotlib.figure.Figure at 0x19f6820c828>"
      ]
     },
     "metadata": {
      "needs_background": "light"
     },
     "output_type": "display_data"
    }
   ],
   "source": [
    "x = np.linspace(-np.pi,np.pi,256,endpoint=True)\n",
    "\n",
    "c,s = np.cos(x),np.sin(x)\n",
    "\n",
    "plt.figure(1)\n",
    "\n",
    "plt.plot(x,c,color='blue',linewidth=1.0,linestyle='-',label = 'cos',alpha = 0.5)\n",
    "plt.plot(x,s,'r*',label = 'sin',)\n",
    "\n",
    "plt.title('cos & sin')\n",
    "ax = plt.gca()\n",
    "ax.spines['right'].set_color('none')\n",
    "ax.spines['top'].set_color('none')\n",
    "ax.spines['left'].set_position(('data',0))\n",
    "ax.spines['bottom'].set_position(('data',0))\n",
    "ax.xaxis.set_ticks_position('bottom')\n",
    "ax.yaxis.set_ticks_position('left')\n",
    "plt.xticks([-np.pi,-np.pi/2,0,np.pi/2,np.pi],[r'$-\\pi$',r'$-\\pi/2$',0,r'$\\pi/2$',r'$\\pi$'])\n",
    "plt.yticks(np.linspace(-1,1,5,endpoint=True))\n",
    "for label in ax.get_xticklabels()+ax.get_yticklabels():\n",
    "    label.set_fontsize(16)\n",
    "    label.set_bbox(dict(facecolor='grey',edgecolor='red',alpha = 0.2))   #label的小方块\n",
    "\n",
    "#图例\n",
    "plt.legend('upper left')\n",
    "\n",
    "#栅格\n",
    "plt.grid()\n",
    "\n",
    "#显示范围\n",
    "# plt.axis([-1,1,-0.5,1])\n",
    "\n",
    "plt.fill_between(x,np.abs(x)<0.5,c,c>0.5,alpha=0.5)\n",
    "\n",
    "t = 1\n",
    "plt.plot([t,t],[0,np.cos(t)],'y',linewidth=3,linestyle='--')\n",
    "plt.annotate('cos(1)',xy = (t,np.cos(1)),xycoords = 'data',xytext=(+10,+30),textcoords='offset points',\n",
    "             arrowprops = dict(arrowstyle = '->',connectionstyle = 'arc3,rad=.2'))"
   ]
  },
  {
   "cell_type": "markdown",
   "metadata": {},
   "source": [
    "#### 散点图"
   ]
  },
  {
   "cell_type": "code",
   "execution_count": 52,
   "metadata": {},
   "outputs": [
    {
     "data": {
      "image/png": "[encoded data removed]",
      "text/plain": [
       "<matplotlib.figure.Figure at 0x19f68776978>"
      ]
     },
     "metadata": {
      "needs_background": "light"
     },
     "output_type": "display_data"
    }
   ],
   "source": [
    "#scatter\n",
    "fig = plt.figure()\n",
    "ax = fig.add_subplot(3,3,1)\n",
    "n = 128\n",
    "X = np.random.normal(0,1,n)\n",
    "Y = np.random.normal(0,1,n)\n",
    "T = np.arctan2(Y,X)\n",
    "# plt.axes([0.025,0.025,0.95,0.95])\n",
    "ax.scatter(X,Y,s = 75,c = T,alpha=0.5)\n",
    "#范围,轴上的字\n",
    "plt.xlim(-1.5,1.5),plt.xticks([])\n",
    "plt.ylim(-1.5,1.5)\n",
    "plt.yticks([])\n",
    "\n",
    "plt.axis()\n",
    "plt.title('scatter')\n",
    "plt.xlabel('X')\n",
    "plt.ylabel('Y')\n",
    "\n",
    "#bar\n",
    "fig.add_subplot(332)\n",
    "n = 10\n",
    "X = np.arange(n)\n",
    "Y1 = (1-X/float(n))*np.random.uniform(0.5,1.0,n)\n",
    "Y2 = (1-X/float(n))*np.random.uniform(0.5,1.0,n)\n",
    "plt.bar(X,+Y1)\n",
    "plt.bar(X,-Y2)\n",
    "\n",
    "#pie\n",
    "#正圆,不随画布形变\n",
    "fig.add_subplot(333)\n",
    "Z = np.ones(20)\n",
    "plt.pie(Z)\n",
    "plt.gca().set_aspect('equal')\n",
    "\n",
    "#polar\n",
    "fig.add_subplot(334,polar=True)\n",
    "n = 20\n",
    "theta = np.arange(0.0,2*np.pi,2*np.pi/n)\n",
    "radii = 10*np.random.rand(n)\n",
    "plt.polar(theta,radii)\n",
    "# plt.plot(theta,radii)\n",
    "\n",
    "#heatmap\n",
    "fig.add_subplot(335)\n",
    "from matplotlib import cm    #颜色模块\n",
    "data = np.random.rand(3,3)\n",
    "cmap = cm.Blues\n",
    "map = plt.imshow(data,interpolation='nearest',cmap=cmap,aspect='auto',vmin=0,vmax=1)\n",
    "\n",
    "#3d\n",
    "from mpl_toolkits.mplot3d import Axes3D\n",
    "ax = fig.add_subplot(336,projection='3d')\n",
    "ax.scatter(1,1,3,s=100)\n",
    "\n",
    "#hot map \n",
    "fig.add_subplot(313)\n",
    "def f(x , y):\n",
    "    return (1-x/2+x**5+y**3)*np.exp(-x**2-y**2)\n",
    "n = 256\n",
    "x = np.linspace(-3,3,n)\n",
    "y = np.linspace(-3,3,n)\n",
    "X,Y = np.meshgrid(x,y)\n",
    "plt.contourf(X,Y,f(X,Y),8,alpha=.75,cmap=plt.cm.hot)\n",
    "plt.savefig('./data/fig.png')   #保存图片"
   ]
  },
  {
   "cell_type": "markdown",
   "metadata": {},
   "source": [
    "###  scipy"
   ]
  },
  {
   "cell_type": "code",
   "execution_count": 53,
   "metadata": {},
   "outputs": [],
   "source": [
    "#积分(1,2,n维)\n",
    "from scipy.integrate import quad,dblquad,nquad   "
   ]
  },
  {
   "cell_type": "code",
   "execution_count": 54,
   "metadata": {},
   "outputs": [
    {
     "name": "stdout",
     "output_type": "stream",
     "text": [
      "(1.0000000000000002, 5.842606996763696e-11)\n"
     ]
    }
   ],
   "source": [
    "print(quad(lambda x:np.exp(-x),0,np.inf))\n",
    "#值, 误差范围"
   ]
  },
  {
   "cell_type": "code",
   "execution_count": 55,
   "metadata": {},
   "outputs": [
    {
     "name": "stdout",
     "output_type": "stream",
     "text": [
      "(0.33333333325010883, 1.3888461883425516e-08)\n"
     ]
    }
   ],
   "source": [
    "print(dblquad(lambda t,x: np.exp(-x*t)/t**3,0,np.inf,lambda x:1,lambda x:np.inf))"
   ]
  },
  {
   "cell_type": "code",
   "execution_count": 56,
   "metadata": {},
   "outputs": [
    {
     "name": "stdout",
     "output_type": "stream",
     "text": [
      "(0.010416666666666668, 4.101620128472366e-16)\n"
     ]
    }
   ],
   "source": [
    "def f(x,y):\n",
    "    return x*y\n",
    "def bound_y():\n",
    "    return [0,0.5]\n",
    "def bound_x(y):\n",
    "    return [0,1-2*y]\n",
    "print(nquad(f,[bound_x,bound_y]))\n",
    "    "
   ]
  },
  {
   "cell_type": "code",
   "execution_count": 57,
   "metadata": {},
   "outputs": [
    {
     "name": "stdout",
     "output_type": "stream",
     "text": [
      "Optimization terminated successfully.\n",
      "         Current function value: 0.000000\n",
      "         Iterations: 339\n",
      "         Function evaluations: 571\n"
     ]
    }
   ],
   "source": [
    "from scipy.optimize import  minimize\n",
    "def rosen(x):\n",
    "    return sum(100.0*(x[1:]-x[:-1]**2.0)**2.0+(1-x[:-1])**2.0)\n",
    "x0 = np.array([1.3,0.7,0.8,1.9,1.2])\n",
    "res = minimize(rosen,x0,method = 'nelder-mead',options={'xtol':1e-8,'disp':True})\n"
   ]
  },
  {
   "cell_type": "markdown",
   "metadata": {},
   "source": [
    "暂停,跳到线性"
   ]
  },
  {
   "cell_type": "code",
   "execution_count": 58,
   "metadata": {},
   "outputs": [],
   "source": [
    "from scipy import  linalg as lg"
   ]
  },
  {
   "cell_type": "code",
   "execution_count": 59,
   "metadata": {},
   "outputs": [
    {
     "data": {
      "text/plain": [
       "-2.0"
      ]
     },
     "execution_count": 59,
     "metadata": {},
     "output_type": "execute_result"
    }
   ],
   "source": [
    "arr = np.array([[1,2],[3,4]])\n",
    "lg.det(arr)    #行列式值"
   ]
  },
  {
   "cell_type": "code",
   "execution_count": 60,
   "metadata": {},
   "outputs": [
    {
     "name": "stdout",
     "output_type": "stream",
     "text": [
      "[[-2.   1. ]\n",
      " [ 1.5 -0.5]]\n"
     ]
    },
    {
     "data": {
      "text/plain": [
       "array([[  1.00000000e+00,   0.00000000e+00],\n",
       "       [  2.22044605e-16,   1.00000000e+00]])"
      ]
     },
     "execution_count": 60,
     "metadata": {},
     "output_type": "execute_result"
    }
   ],
   "source": [
    "a = lg.inv(arr)   #逆矩阵\n",
    "print(a)\n",
    "a.dot(arr)"
   ]
  },
  {
   "cell_type": "code",
   "execution_count": 61,
   "metadata": {},
   "outputs": [
    {
     "data": {
      "text/plain": [
       "array([ 2.,  2.])"
      ]
     },
     "execution_count": 61,
     "metadata": {},
     "output_type": "execute_result"
    }
   ],
   "source": [
    "b = np.array([6,14])   #解线性方程组\n",
    "lg.solve(arr,b)"
   ]
  },
  {
   "cell_type": "code",
   "execution_count": 62,
   "metadata": {},
   "outputs": [
    {
     "data": {
      "text/plain": [
       "(array([-0.37228132+0.j,  5.37228132+0.j]), array([[-0.82456484, -0.41597356],\n",
       "        [ 0.56576746, -0.90937671]]))"
      ]
     },
     "execution_count": 62,
     "metadata": {},
     "output_type": "execute_result"
    }
   ],
   "source": [
    "lg.eig(arr)\n",
    "#特征向量,特征值"
   ]
  },
  {
   "cell_type": "code",
   "execution_count": 63,
   "metadata": {},
   "outputs": [
    {
     "name": "stdout",
     "output_type": "stream",
     "text": [
      "(array([[ 0.,  1.],\n",
      "       [ 1.,  0.]]), array([[ 1.        ,  0.        ],\n",
      "       [ 0.33333333,  1.        ]]), array([[ 3.        ,  4.        ],\n",
      "       [ 0.        ,  0.66666667]]))\n",
      "(array([[-0.31622777, -0.9486833 ],\n",
      "       [-0.9486833 ,  0.31622777]]), array([[-3.16227766, -4.42718872],\n",
      "       [ 0.        , -0.63245553]]))\n",
      "(array([[-0.40455358, -0.9145143 ],\n",
      "       [-0.9145143 ,  0.40455358]]), array([ 5.4649857 ,  0.36596619]), array([[-0.57604844, -0.81741556],\n",
      "       [ 0.81741556, -0.57604844]]))\n",
      "(array([[-0.37228132, -1.        ],\n",
      "       [ 0.        ,  5.37228132]]), array([[-0.82456484, -0.56576746],\n",
      "       [ 0.56576746, -0.82456484]]))\n"
     ]
    }
   ],
   "source": [
    "#分解\n",
    "print(lg.lu(arr))\n",
    "print(lg.qr(arr))\n",
    "print(lg.svd(arr))\n",
    "print(lg.schur(arr))"
   ]
  },
  {
   "cell_type": "code",
   "execution_count": 64,
   "metadata": {},
   "outputs": [
    {
     "data": {
      "text/plain": [
       "array([  0.00000000e+00,   1.31268478e-01,   2.58058896e-01,\n",
       "         3.79095818e-01,   4.93103803e-01,   5.98807414e-01,\n",
       "         6.94931212e-01,   7.80199759e-01,   8.53337617e-01,\n",
       "         9.13069347e-01,   9.58119510e-01,   9.87213058e-01,\n",
       "         9.99462682e-01,   9.95096409e-01,   9.74541587e-01,\n",
       "         9.38225564e-01,   8.86575689e-01,   8.20078818e-01,\n",
       "         7.39913600e-01,   6.47705004e-01,   5.45085433e-01,\n",
       "         4.33687295e-01,   3.15143957e-01,   1.91245093e-01,\n",
       "         6.41081509e-02,  -6.41081509e-02,  -1.91245093e-01,\n",
       "        -3.15143957e-01,  -4.33687295e-01,  -5.45085433e-01,\n",
       "        -6.47705004e-01,  -7.39913600e-01,  -8.20078818e-01,\n",
       "        -8.86575689e-01,  -9.38225564e-01,  -9.74541587e-01,\n",
       "        -9.95096409e-01,  -9.99462682e-01,  -9.87213058e-01,\n",
       "        -9.58119510e-01,  -9.13069347e-01,  -8.53337617e-01,\n",
       "        -7.80199759e-01,  -6.94931212e-01,  -5.98807414e-01,\n",
       "        -4.93103803e-01,  -3.79095818e-01,  -2.58058896e-01,\n",
       "        -1.31268478e-01,  -2.44929360e-16])"
      ]
     },
     "execution_count": 64,
     "metadata": {},
     "output_type": "execute_result"
    }
   ],
   "source": [
    "#插值\n",
    "from pylab import *       #matplotlib   常用函数\n",
    "x  = np.linspace(0,1,10)\n",
    "y = np.sin(2*np.pi*x)\n",
    "from scipy.interpolate import interp1d\n",
    "li = interp1d(x,y,kind='cubic')    #cubic 3次函数插值,默认线性插值\n",
    "x_new = np.linspace(0,1,50)\n",
    "y_new = li(x_new)\n",
    "y_new"
   ]
  },
  {
   "cell_type": "code",
   "execution_count": 65,
   "metadata": {},
   "outputs": [
    {
     "data": {
      "text/plain": [
       "[<matplotlib.lines.Line2D at 0x19f689be8d0>]"
      ]
     },
     "execution_count": 65,
     "metadata": {},
     "output_type": "execute_result"
    },
    {
     "data": {
      "image/png": "[encoded data removed]",
      "text/plain": [
       "<matplotlib.figure.Figure at 0x19f687f9240>"
      ]
     },
     "metadata": {
      "needs_background": "light"
     },
     "output_type": "display_data"
    }
   ],
   "source": [
    "figure()\n",
    "plot(x,y,'r')\n",
    "plot(x_new,y_new,'k')\n"
   ]
  },
  {
   "cell_type": "code",
   "execution_count": 66,
   "metadata": {},
   "outputs": [
    {
     "name": "stdout",
     "output_type": "stream",
     "text": [
      "[  0.00000000e+00   1.31268478e-01   2.58058896e-01   3.79095818e-01\n",
      "   4.93103803e-01   5.98807414e-01   6.94931212e-01   7.80199759e-01\n",
      "   8.53337617e-01   9.13069347e-01   9.58119510e-01   9.87213058e-01\n",
      "   9.99462682e-01   9.95096409e-01   9.74541587e-01   9.38225564e-01\n",
      "   8.86575689e-01   8.20078818e-01   7.39913600e-01   6.47705004e-01\n",
      "   5.45085433e-01   4.33687295e-01   3.15143957e-01   1.91245093e-01\n",
      "   6.41081509e-02  -6.41081509e-02  -1.91245093e-01  -3.15143957e-01\n",
      "  -4.33687295e-01  -5.45085433e-01  -6.47705004e-01  -7.39913600e-01\n",
      "  -8.20078818e-01  -8.86575689e-01  -9.38225564e-01  -9.74541587e-01\n",
      "  -9.95096409e-01  -9.99462682e-01  -9.87213058e-01  -9.58119510e-01\n",
      "  -9.13069347e-01  -8.53337617e-01  -7.80199759e-01  -6.94931212e-01\n",
      "  -5.98807414e-01  -4.93103803e-01  -3.79095818e-01  -2.58058896e-01\n",
      "  -1.31268478e-01  -2.44929360e-16]\n"
     ]
    }
   ],
   "source": [
    "print(y_new)"
   ]
  },
  {
   "cell_type": "markdown",
   "metadata": {},
   "source": [
    "### pandas\n"
   ]
  },
  {
   "cell_type": "code",
   "execution_count": 67,
   "metadata": {},
   "outputs": [
    {
     "name": "stdout",
     "output_type": "stream",
     "text": [
      "<class 'pandas.core.series.Series'>\n"
     ]
    }
   ],
   "source": [
    "#series & dataframe\n",
    "s = pd.Series([i*2 for i in range(1,11)])\n",
    "print(type(s))"
   ]
  },
  {
   "cell_type": "code",
   "execution_count": 68,
   "metadata": {},
   "outputs": [
    {
     "name": "stdout",
     "output_type": "stream",
     "text": [
      "DatetimeIndex(['2017-03-01', '2017-03-02', '2017-03-03', '2017-03-04',\n",
      "               '2017-03-05', '2017-03-06', '2017-03-07', '2017-03-08'],\n",
      "              dtype='datetime64[ns]', freq='D')\n"
     ]
    },
    {
     "data": {
      "text/html": [
       "<div>\n",
       "<style scoped>\n",
       "    .dataframe tbody tr th:only-of-type {\n",
       "        vertical-align: middle;\n",
       "    }\n",
       "\n",
       "    .dataframe tbody tr th {\n",
       "        vertical-align: top;\n",
       "    }\n",
       "\n",
       "    .dataframe thead th {\n",
       "        text-align: right;\n",
       "    }\n",
       "</style>\n",
       "<table border=\"1\" class=\"dataframe\">\n",
       "  <thead>\n",
       "    <tr style=\"text-align: right;\">\n",
       "      <th></th>\n",
       "      <th>A</th>\n",
       "      <th>B</th>\n",
       "      <th>C</th>\n",
       "      <th>D</th>\n",
       "      <th>E</th>\n",
       "    </tr>\n",
       "  </thead>\n",
       "  <tbody>\n",
       "    <tr>\n",
       "      <th>2017-03-01</th>\n",
       "      <td>-0.548492</td>\n",
       "      <td>-0.052635</td>\n",
       "      <td>3.173391</td>\n",
       "      <td>3.334204</td>\n",
       "      <td>1.603372</td>\n",
       "    </tr>\n",
       "    <tr>\n",
       "      <th>2017-03-02</th>\n",
       "      <td>1.012896</td>\n",
       "      <td>1.844523</td>\n",
       "      <td>-0.336144</td>\n",
       "      <td>0.498750</td>\n",
       "      <td>-1.077826</td>\n",
       "    </tr>\n",
       "    <tr>\n",
       "      <th>2017-03-03</th>\n",
       "      <td>0.576934</td>\n",
       "      <td>0.086525</td>\n",
       "      <td>0.383789</td>\n",
       "      <td>1.334731</td>\n",
       "      <td>1.671791</td>\n",
       "    </tr>\n",
       "    <tr>\n",
       "      <th>2017-03-04</th>\n",
       "      <td>-0.313008</td>\n",
       "      <td>0.123553</td>\n",
       "      <td>1.547729</td>\n",
       "      <td>-0.107889</td>\n",
       "      <td>1.003398</td>\n",
       "    </tr>\n",
       "    <tr>\n",
       "      <th>2017-03-05</th>\n",
       "      <td>0.887672</td>\n",
       "      <td>0.088650</td>\n",
       "      <td>-1.324578</td>\n",
       "      <td>0.238385</td>\n",
       "      <td>1.196661</td>\n",
       "    </tr>\n",
       "    <tr>\n",
       "      <th>2017-03-06</th>\n",
       "      <td>-0.464843</td>\n",
       "      <td>-1.136673</td>\n",
       "      <td>0.248495</td>\n",
       "      <td>0.350693</td>\n",
       "      <td>-0.132077</td>\n",
       "    </tr>\n",
       "    <tr>\n",
       "      <th>2017-03-07</th>\n",
       "      <td>-0.525645</td>\n",
       "      <td>-0.584889</td>\n",
       "      <td>-0.929247</td>\n",
       "      <td>0.398416</td>\n",
       "      <td>-1.355908</td>\n",
       "    </tr>\n",
       "    <tr>\n",
       "      <th>2017-03-08</th>\n",
       "      <td>-1.711583</td>\n",
       "      <td>0.158599</td>\n",
       "      <td>2.132487</td>\n",
       "      <td>2.721334</td>\n",
       "      <td>-1.972864</td>\n",
       "    </tr>\n",
       "  </tbody>\n",
       "</table>\n",
       "</div>"
      ],
      "text/plain": [
       "                   A         B         C         D         E\n",
       "2017-03-01 -0.548492 -0.052635  3.173391  3.334204  1.603372\n",
       "2017-03-02  1.012896  1.844523 -0.336144  0.498750 -1.077826\n",
       "2017-03-03  0.576934  0.086525  0.383789  1.334731  1.671791\n",
       "2017-03-04 -0.313008  0.123553  1.547729 -0.107889  1.003398\n",
       "2017-03-05  0.887672  0.088650 -1.324578  0.238385  1.196661\n",
       "2017-03-06 -0.464843 -1.136673  0.248495  0.350693 -0.132077\n",
       "2017-03-07 -0.525645 -0.584889 -0.929247  0.398416 -1.355908\n",
       "2017-03-08 -1.711583  0.158599  2.132487  2.721334 -1.972864"
      ]
     },
     "execution_count": 68,
     "metadata": {},
     "output_type": "execute_result"
    }
   ],
   "source": [
    "dates =  pd.date_range('20170301',periods = 8)\n",
    "print(dates)\n",
    "df = pd.DataFrame(np.random.randn(8,5),index = dates , columns=list('ABCDE'))\n",
    "df"
   ]
  },
  {
   "cell_type": "code",
   "execution_count": 69,
   "metadata": {},
   "outputs": [
    {
     "data": {
      "text/html": [
       "<div>\n",
       "<style scoped>\n",
       "    .dataframe tbody tr th:only-of-type {\n",
       "        vertical-align: middle;\n",
       "    }\n",
       "\n",
       "    .dataframe tbody tr th {\n",
       "        vertical-align: top;\n",
       "    }\n",
       "\n",
       "    .dataframe thead th {\n",
       "        text-align: right;\n",
       "    }\n",
       "</style>\n",
       "<table border=\"1\" class=\"dataframe\">\n",
       "  <thead>\n",
       "    <tr style=\"text-align: right;\">\n",
       "      <th></th>\n",
       "      <th>A</th>\n",
       "      <th>B</th>\n",
       "      <th>C</th>\n",
       "      <th>D</th>\n",
       "      <th>E</th>\n",
       "    </tr>\n",
       "  </thead>\n",
       "  <tbody>\n",
       "    <tr>\n",
       "      <th>2017-03-04</th>\n",
       "      <td>-0.313008</td>\n",
       "      <td>0.123553</td>\n",
       "      <td>1.547729</td>\n",
       "      <td>-0.107889</td>\n",
       "      <td>1.003398</td>\n",
       "    </tr>\n",
       "    <tr>\n",
       "      <th>2017-03-05</th>\n",
       "      <td>0.887672</td>\n",
       "      <td>0.088650</td>\n",
       "      <td>-1.324578</td>\n",
       "      <td>0.238385</td>\n",
       "      <td>1.196661</td>\n",
       "    </tr>\n",
       "    <tr>\n",
       "      <th>2017-03-06</th>\n",
       "      <td>-0.464843</td>\n",
       "      <td>-1.136673</td>\n",
       "      <td>0.248495</td>\n",
       "      <td>0.350693</td>\n",
       "      <td>-0.132077</td>\n",
       "    </tr>\n",
       "    <tr>\n",
       "      <th>2017-03-07</th>\n",
       "      <td>-0.525645</td>\n",
       "      <td>-0.584889</td>\n",
       "      <td>-0.929247</td>\n",
       "      <td>0.398416</td>\n",
       "      <td>-1.355908</td>\n",
       "    </tr>\n",
       "    <tr>\n",
       "      <th>2017-03-08</th>\n",
       "      <td>-1.711583</td>\n",
       "      <td>0.158599</td>\n",
       "      <td>2.132487</td>\n",
       "      <td>2.721334</td>\n",
       "      <td>-1.972864</td>\n",
       "    </tr>\n",
       "  </tbody>\n",
       "</table>\n",
       "</div>"
      ],
      "text/plain": [
       "                   A         B         C         D         E\n",
       "2017-03-04 -0.313008  0.123553  1.547729 -0.107889  1.003398\n",
       "2017-03-05  0.887672  0.088650 -1.324578  0.238385  1.196661\n",
       "2017-03-06 -0.464843 -1.136673  0.248495  0.350693 -0.132077\n",
       "2017-03-07 -0.525645 -0.584889 -0.929247  0.398416 -1.355908\n",
       "2017-03-08 -1.711583  0.158599  2.132487  2.721334 -1.972864"
      ]
     },
     "execution_count": 69,
     "metadata": {},
     "output_type": "execute_result"
    }
   ],
   "source": [
    "df.tail()"
   ]
  },
  {
   "cell_type": "code",
   "execution_count": 70,
   "metadata": {},
   "outputs": [
    {
     "data": {
      "text/html": [
       "<div>\n",
       "<style scoped>\n",
       "    .dataframe tbody tr th:only-of-type {\n",
       "        vertical-align: middle;\n",
       "    }\n",
       "\n",
       "    .dataframe tbody tr th {\n",
       "        vertical-align: top;\n",
       "    }\n",
       "\n",
       "    .dataframe thead th {\n",
       "        text-align: right;\n",
       "    }\n",
       "</style>\n",
       "<table border=\"1\" class=\"dataframe\">\n",
       "  <thead>\n",
       "    <tr style=\"text-align: right;\">\n",
       "      <th></th>\n",
       "      <th>A</th>\n",
       "      <th>B</th>\n",
       "      <th>C</th>\n",
       "      <th>D</th>\n",
       "      <th>E</th>\n",
       "    </tr>\n",
       "  </thead>\n",
       "  <tbody>\n",
       "    <tr>\n",
       "      <th>2017-03-01</th>\n",
       "      <td>-0.548492</td>\n",
       "      <td>-0.052635</td>\n",
       "      <td>3.173391</td>\n",
       "      <td>3.334204</td>\n",
       "      <td>1.603372</td>\n",
       "    </tr>\n",
       "    <tr>\n",
       "      <th>2017-03-02</th>\n",
       "      <td>1.012896</td>\n",
       "      <td>1.844523</td>\n",
       "      <td>-0.336144</td>\n",
       "      <td>0.498750</td>\n",
       "      <td>-1.077826</td>\n",
       "    </tr>\n",
       "    <tr>\n",
       "      <th>2017-03-03</th>\n",
       "      <td>0.576934</td>\n",
       "      <td>0.086525</td>\n",
       "      <td>0.383789</td>\n",
       "      <td>1.334731</td>\n",
       "      <td>1.671791</td>\n",
       "    </tr>\n",
       "    <tr>\n",
       "      <th>2017-03-04</th>\n",
       "      <td>-0.313008</td>\n",
       "      <td>0.123553</td>\n",
       "      <td>1.547729</td>\n",
       "      <td>-0.107889</td>\n",
       "      <td>1.003398</td>\n",
       "    </tr>\n",
       "    <tr>\n",
       "      <th>2017-03-05</th>\n",
       "      <td>0.887672</td>\n",
       "      <td>0.088650</td>\n",
       "      <td>-1.324578</td>\n",
       "      <td>0.238385</td>\n",
       "      <td>1.196661</td>\n",
       "    </tr>\n",
       "  </tbody>\n",
       "</table>\n",
       "</div>"
      ],
      "text/plain": [
       "                   A         B         C         D         E\n",
       "2017-03-01 -0.548492 -0.052635  3.173391  3.334204  1.603372\n",
       "2017-03-02  1.012896  1.844523 -0.336144  0.498750 -1.077826\n",
       "2017-03-03  0.576934  0.086525  0.383789  1.334731  1.671791\n",
       "2017-03-04 -0.313008  0.123553  1.547729 -0.107889  1.003398\n",
       "2017-03-05  0.887672  0.088650 -1.324578  0.238385  1.196661"
      ]
     },
     "execution_count": 70,
     "metadata": {},
     "output_type": "execute_result"
    }
   ],
   "source": [
    "df.head()"
   ]
  },
  {
   "cell_type": "code",
   "execution_count": 71,
   "metadata": {},
   "outputs": [
    {
     "data": {
      "text/plain": [
       "DatetimeIndex(['2017-03-01', '2017-03-02', '2017-03-03', '2017-03-04',\n",
       "               '2017-03-05', '2017-03-06', '2017-03-07', '2017-03-08'],\n",
       "              dtype='datetime64[ns]', freq='D')"
      ]
     },
     "execution_count": 71,
     "metadata": {},
     "output_type": "execute_result"
    }
   ],
   "source": [
    "df.index"
   ]
  },
  {
   "cell_type": "code",
   "execution_count": 72,
   "metadata": {},
   "outputs": [
    {
     "data": {
      "text/plain": [
       "array([[-0.54849228, -0.05263497,  3.17339052,  3.33420352,  1.603372  ],\n",
       "       [ 1.01289623,  1.84452321, -0.33614363,  0.49875049, -1.07782608],\n",
       "       [ 0.57693406,  0.08652485,  0.38378885,  1.33473076,  1.67179119],\n",
       "       [-0.31300773,  0.12355263,  1.5477291 , -0.10788918,  1.00339756],\n",
       "       [ 0.88767178,  0.08864979, -1.3245781 ,  0.23838465,  1.19666146],\n",
       "       [-0.46484257, -1.13667271,  0.24849462,  0.35069281, -0.13207671],\n",
       "       [-0.52564519, -0.58488933, -0.9292472 ,  0.39841642, -1.35590786],\n",
       "       [-1.71158305,  0.1585986 ,  2.13248673,  2.72133361, -1.97286405]])"
      ]
     },
     "execution_count": 72,
     "metadata": {},
     "output_type": "execute_result"
    }
   ],
   "source": [
    "df.values"
   ]
  },
  {
   "cell_type": "code",
   "execution_count": 73,
   "metadata": {},
   "outputs": [
    {
     "data": {
      "text/html": [
       "<div>\n",
       "<style scoped>\n",
       "    .dataframe tbody tr th:only-of-type {\n",
       "        vertical-align: middle;\n",
       "    }\n",
       "\n",
       "    .dataframe tbody tr th {\n",
       "        vertical-align: top;\n",
       "    }\n",
       "\n",
       "    .dataframe thead th {\n",
       "        text-align: right;\n",
       "    }\n",
       "</style>\n",
       "<table border=\"1\" class=\"dataframe\">\n",
       "  <thead>\n",
       "    <tr style=\"text-align: right;\">\n",
       "      <th></th>\n",
       "      <th>2017-03-01 00:00:00</th>\n",
       "      <th>2017-03-02 00:00:00</th>\n",
       "      <th>2017-03-03 00:00:00</th>\n",
       "      <th>2017-03-04 00:00:00</th>\n",
       "      <th>2017-03-05 00:00:00</th>\n",
       "      <th>2017-03-06 00:00:00</th>\n",
       "      <th>2017-03-07 00:00:00</th>\n",
       "      <th>2017-03-08 00:00:00</th>\n",
       "    </tr>\n",
       "  </thead>\n",
       "  <tbody>\n",
       "    <tr>\n",
       "      <th>A</th>\n",
       "      <td>-0.548492</td>\n",
       "      <td>1.012896</td>\n",
       "      <td>0.576934</td>\n",
       "      <td>-0.313008</td>\n",
       "      <td>0.887672</td>\n",
       "      <td>-0.464843</td>\n",
       "      <td>-0.525645</td>\n",
       "      <td>-1.711583</td>\n",
       "    </tr>\n",
       "    <tr>\n",
       "      <th>B</th>\n",
       "      <td>-0.052635</td>\n",
       "      <td>1.844523</td>\n",
       "      <td>0.086525</td>\n",
       "      <td>0.123553</td>\n",
       "      <td>0.088650</td>\n",
       "      <td>-1.136673</td>\n",
       "      <td>-0.584889</td>\n",
       "      <td>0.158599</td>\n",
       "    </tr>\n",
       "    <tr>\n",
       "      <th>C</th>\n",
       "      <td>3.173391</td>\n",
       "      <td>-0.336144</td>\n",
       "      <td>0.383789</td>\n",
       "      <td>1.547729</td>\n",
       "      <td>-1.324578</td>\n",
       "      <td>0.248495</td>\n",
       "      <td>-0.929247</td>\n",
       "      <td>2.132487</td>\n",
       "    </tr>\n",
       "    <tr>\n",
       "      <th>D</th>\n",
       "      <td>3.334204</td>\n",
       "      <td>0.498750</td>\n",
       "      <td>1.334731</td>\n",
       "      <td>-0.107889</td>\n",
       "      <td>0.238385</td>\n",
       "      <td>0.350693</td>\n",
       "      <td>0.398416</td>\n",
       "      <td>2.721334</td>\n",
       "    </tr>\n",
       "    <tr>\n",
       "      <th>E</th>\n",
       "      <td>1.603372</td>\n",
       "      <td>-1.077826</td>\n",
       "      <td>1.671791</td>\n",
       "      <td>1.003398</td>\n",
       "      <td>1.196661</td>\n",
       "      <td>-0.132077</td>\n",
       "      <td>-1.355908</td>\n",
       "      <td>-1.972864</td>\n",
       "    </tr>\n",
       "  </tbody>\n",
       "</table>\n",
       "</div>"
      ],
      "text/plain": [
       "   2017-03-01  2017-03-02  2017-03-03  2017-03-04  2017-03-05  2017-03-06  \\\n",
       "A   -0.548492    1.012896    0.576934   -0.313008    0.887672   -0.464843   \n",
       "B   -0.052635    1.844523    0.086525    0.123553    0.088650   -1.136673   \n",
       "C    3.173391   -0.336144    0.383789    1.547729   -1.324578    0.248495   \n",
       "D    3.334204    0.498750    1.334731   -0.107889    0.238385    0.350693   \n",
       "E    1.603372   -1.077826    1.671791    1.003398    1.196661   -0.132077   \n",
       "\n",
       "   2017-03-07  2017-03-08  \n",
       "A   -0.525645   -1.711583  \n",
       "B   -0.584889    0.158599  \n",
       "C   -0.929247    2.132487  \n",
       "D    0.398416    2.721334  \n",
       "E   -1.355908   -1.972864  "
      ]
     },
     "execution_count": 73,
     "metadata": {},
     "output_type": "execute_result"
    }
   ],
   "source": [
    "df.T"
   ]
  },
  {
   "cell_type": "code",
   "execution_count": 74,
   "metadata": {
    "scrolled": true
   },
   "outputs": [
    {
     "data": {
      "text/html": [
       "<div>\n",
       "<style scoped>\n",
       "    .dataframe tbody tr th:only-of-type {\n",
       "        vertical-align: middle;\n",
       "    }\n",
       "\n",
       "    .dataframe tbody tr th {\n",
       "        vertical-align: top;\n",
       "    }\n",
       "\n",
       "    .dataframe thead th {\n",
       "        text-align: right;\n",
       "    }\n",
       "</style>\n",
       "<table border=\"1\" class=\"dataframe\">\n",
       "  <thead>\n",
       "    <tr style=\"text-align: right;\">\n",
       "      <th></th>\n",
       "      <th>E</th>\n",
       "      <th>D</th>\n",
       "      <th>C</th>\n",
       "      <th>B</th>\n",
       "      <th>A</th>\n",
       "    </tr>\n",
       "  </thead>\n",
       "  <tbody>\n",
       "    <tr>\n",
       "      <th>2017-03-01</th>\n",
       "      <td>1.603372</td>\n",
       "      <td>3.334204</td>\n",
       "      <td>3.173391</td>\n",
       "      <td>-0.052635</td>\n",
       "      <td>-0.548492</td>\n",
       "    </tr>\n",
       "    <tr>\n",
       "      <th>2017-03-02</th>\n",
       "      <td>-1.077826</td>\n",
       "      <td>0.498750</td>\n",
       "      <td>-0.336144</td>\n",
       "      <td>1.844523</td>\n",
       "      <td>1.012896</td>\n",
       "    </tr>\n",
       "    <tr>\n",
       "      <th>2017-03-03</th>\n",
       "      <td>1.671791</td>\n",
       "      <td>1.334731</td>\n",
       "      <td>0.383789</td>\n",
       "      <td>0.086525</td>\n",
       "      <td>0.576934</td>\n",
       "    </tr>\n",
       "    <tr>\n",
       "      <th>2017-03-04</th>\n",
       "      <td>1.003398</td>\n",
       "      <td>-0.107889</td>\n",
       "      <td>1.547729</td>\n",
       "      <td>0.123553</td>\n",
       "      <td>-0.313008</td>\n",
       "    </tr>\n",
       "    <tr>\n",
       "      <th>2017-03-05</th>\n",
       "      <td>1.196661</td>\n",
       "      <td>0.238385</td>\n",
       "      <td>-1.324578</td>\n",
       "      <td>0.088650</td>\n",
       "      <td>0.887672</td>\n",
       "    </tr>\n",
       "    <tr>\n",
       "      <th>2017-03-06</th>\n",
       "      <td>-0.132077</td>\n",
       "      <td>0.350693</td>\n",
       "      <td>0.248495</td>\n",
       "      <td>-1.136673</td>\n",
       "      <td>-0.464843</td>\n",
       "    </tr>\n",
       "    <tr>\n",
       "      <th>2017-03-07</th>\n",
       "      <td>-1.355908</td>\n",
       "      <td>0.398416</td>\n",
       "      <td>-0.929247</td>\n",
       "      <td>-0.584889</td>\n",
       "      <td>-0.525645</td>\n",
       "    </tr>\n",
       "    <tr>\n",
       "      <th>2017-03-08</th>\n",
       "      <td>-1.972864</td>\n",
       "      <td>2.721334</td>\n",
       "      <td>2.132487</td>\n",
       "      <td>0.158599</td>\n",
       "      <td>-1.711583</td>\n",
       "    </tr>\n",
       "  </tbody>\n",
       "</table>\n",
       "</div>"
      ],
      "text/plain": [
       "                   E         D         C         B         A\n",
       "2017-03-01  1.603372  3.334204  3.173391 -0.052635 -0.548492\n",
       "2017-03-02 -1.077826  0.498750 -0.336144  1.844523  1.012896\n",
       "2017-03-03  1.671791  1.334731  0.383789  0.086525  0.576934\n",
       "2017-03-04  1.003398 -0.107889  1.547729  0.123553 -0.313008\n",
       "2017-03-05  1.196661  0.238385 -1.324578  0.088650  0.887672\n",
       "2017-03-06 -0.132077  0.350693  0.248495 -1.136673 -0.464843\n",
       "2017-03-07 -1.355908  0.398416 -0.929247 -0.584889 -0.525645\n",
       "2017-03-08 -1.972864  2.721334  2.132487  0.158599 -1.711583"
      ]
     },
     "execution_count": 74,
     "metadata": {},
     "output_type": "execute_result"
    }
   ],
   "source": [
    "df.sort_index(axis=1,ascending=False)"
   ]
  },
  {
   "cell_type": "code",
   "execution_count": 75,
   "metadata": {},
   "outputs": [
    {
     "data": {
      "text/html": [
       "<div>\n",
       "<style scoped>\n",
       "    .dataframe tbody tr th:only-of-type {\n",
       "        vertical-align: middle;\n",
       "    }\n",
       "\n",
       "    .dataframe tbody tr th {\n",
       "        vertical-align: top;\n",
       "    }\n",
       "\n",
       "    .dataframe thead th {\n",
       "        text-align: right;\n",
       "    }\n",
       "</style>\n",
       "<table border=\"1\" class=\"dataframe\">\n",
       "  <thead>\n",
       "    <tr style=\"text-align: right;\">\n",
       "      <th></th>\n",
       "      <th>A</th>\n",
       "      <th>B</th>\n",
       "      <th>C</th>\n",
       "      <th>D</th>\n",
       "      <th>E</th>\n",
       "    </tr>\n",
       "  </thead>\n",
       "  <tbody>\n",
       "    <tr>\n",
       "      <th>2017-03-05</th>\n",
       "      <td>0.887672</td>\n",
       "      <td>0.088650</td>\n",
       "      <td>-1.324578</td>\n",
       "      <td>0.238385</td>\n",
       "      <td>1.196661</td>\n",
       "    </tr>\n",
       "    <tr>\n",
       "      <th>2017-03-07</th>\n",
       "      <td>-0.525645</td>\n",
       "      <td>-0.584889</td>\n",
       "      <td>-0.929247</td>\n",
       "      <td>0.398416</td>\n",
       "      <td>-1.355908</td>\n",
       "    </tr>\n",
       "    <tr>\n",
       "      <th>2017-03-02</th>\n",
       "      <td>1.012896</td>\n",
       "      <td>1.844523</td>\n",
       "      <td>-0.336144</td>\n",
       "      <td>0.498750</td>\n",
       "      <td>-1.077826</td>\n",
       "    </tr>\n",
       "    <tr>\n",
       "      <th>2017-03-06</th>\n",
       "      <td>-0.464843</td>\n",
       "      <td>-1.136673</td>\n",
       "      <td>0.248495</td>\n",
       "      <td>0.350693</td>\n",
       "      <td>-0.132077</td>\n",
       "    </tr>\n",
       "    <tr>\n",
       "      <th>2017-03-03</th>\n",
       "      <td>0.576934</td>\n",
       "      <td>0.086525</td>\n",
       "      <td>0.383789</td>\n",
       "      <td>1.334731</td>\n",
       "      <td>1.671791</td>\n",
       "    </tr>\n",
       "    <tr>\n",
       "      <th>2017-03-04</th>\n",
       "      <td>-0.313008</td>\n",
       "      <td>0.123553</td>\n",
       "      <td>1.547729</td>\n",
       "      <td>-0.107889</td>\n",
       "      <td>1.003398</td>\n",
       "    </tr>\n",
       "    <tr>\n",
       "      <th>2017-03-08</th>\n",
       "      <td>-1.711583</td>\n",
       "      <td>0.158599</td>\n",
       "      <td>2.132487</td>\n",
       "      <td>2.721334</td>\n",
       "      <td>-1.972864</td>\n",
       "    </tr>\n",
       "    <tr>\n",
       "      <th>2017-03-01</th>\n",
       "      <td>-0.548492</td>\n",
       "      <td>-0.052635</td>\n",
       "      <td>3.173391</td>\n",
       "      <td>3.334204</td>\n",
       "      <td>1.603372</td>\n",
       "    </tr>\n",
       "  </tbody>\n",
       "</table>\n",
       "</div>"
      ],
      "text/plain": [
       "                   A         B         C         D         E\n",
       "2017-03-05  0.887672  0.088650 -1.324578  0.238385  1.196661\n",
       "2017-03-07 -0.525645 -0.584889 -0.929247  0.398416 -1.355908\n",
       "2017-03-02  1.012896  1.844523 -0.336144  0.498750 -1.077826\n",
       "2017-03-06 -0.464843 -1.136673  0.248495  0.350693 -0.132077\n",
       "2017-03-03  0.576934  0.086525  0.383789  1.334731  1.671791\n",
       "2017-03-04 -0.313008  0.123553  1.547729 -0.107889  1.003398\n",
       "2017-03-08 -1.711583  0.158599  2.132487  2.721334 -1.972864\n",
       "2017-03-01 -0.548492 -0.052635  3.173391  3.334204  1.603372"
      ]
     },
     "execution_count": 75,
     "metadata": {},
     "output_type": "execute_result"
    }
   ],
   "source": [
    "df.sort_values(by='C')"
   ]
  },
  {
   "cell_type": "code",
   "execution_count": 76,
   "metadata": {},
   "outputs": [
    {
     "data": {
      "text/html": [
       "<div>\n",
       "<style scoped>\n",
       "    .dataframe tbody tr th:only-of-type {\n",
       "        vertical-align: middle;\n",
       "    }\n",
       "\n",
       "    .dataframe tbody tr th {\n",
       "        vertical-align: top;\n",
       "    }\n",
       "\n",
       "    .dataframe thead th {\n",
       "        text-align: right;\n",
       "    }\n",
       "</style>\n",
       "<table border=\"1\" class=\"dataframe\">\n",
       "  <thead>\n",
       "    <tr style=\"text-align: right;\">\n",
       "      <th></th>\n",
       "      <th>A</th>\n",
       "      <th>B</th>\n",
       "      <th>C</th>\n",
       "      <th>D</th>\n",
       "      <th>E</th>\n",
       "    </tr>\n",
       "  </thead>\n",
       "  <tbody>\n",
       "    <tr>\n",
       "      <th>count</th>\n",
       "      <td>8.000000</td>\n",
       "      <td>8.000000</td>\n",
       "      <td>8.000000</td>\n",
       "      <td>8.000000</td>\n",
       "      <td>8.000000</td>\n",
       "    </tr>\n",
       "    <tr>\n",
       "      <th>mean</th>\n",
       "      <td>-0.135759</td>\n",
       "      <td>0.065957</td>\n",
       "      <td>0.611990</td>\n",
       "      <td>1.096078</td>\n",
       "      <td>0.117068</td>\n",
       "    </tr>\n",
       "    <tr>\n",
       "      <th>std</th>\n",
       "      <td>0.911831</td>\n",
       "      <td>0.850220</td>\n",
       "      <td>1.556423</td>\n",
       "      <td>1.270091</td>\n",
       "      <td>1.444432</td>\n",
       "    </tr>\n",
       "    <tr>\n",
       "      <th>min</th>\n",
       "      <td>-1.711583</td>\n",
       "      <td>-1.136673</td>\n",
       "      <td>-1.324578</td>\n",
       "      <td>-0.107889</td>\n",
       "      <td>-1.972864</td>\n",
       "    </tr>\n",
       "    <tr>\n",
       "      <th>25%</th>\n",
       "      <td>-0.531357</td>\n",
       "      <td>-0.185699</td>\n",
       "      <td>-0.484420</td>\n",
       "      <td>0.322616</td>\n",
       "      <td>-1.147347</td>\n",
       "    </tr>\n",
       "    <tr>\n",
       "      <th>50%</th>\n",
       "      <td>-0.388925</td>\n",
       "      <td>0.087587</td>\n",
       "      <td>0.316142</td>\n",
       "      <td>0.448583</td>\n",
       "      <td>0.435660</td>\n",
       "    </tr>\n",
       "    <tr>\n",
       "      <th>75%</th>\n",
       "      <td>0.654618</td>\n",
       "      <td>0.132314</td>\n",
       "      <td>1.693919</td>\n",
       "      <td>1.681381</td>\n",
       "      <td>1.298339</td>\n",
       "    </tr>\n",
       "    <tr>\n",
       "      <th>max</th>\n",
       "      <td>1.012896</td>\n",
       "      <td>1.844523</td>\n",
       "      <td>3.173391</td>\n",
       "      <td>3.334204</td>\n",
       "      <td>1.671791</td>\n",
       "    </tr>\n",
       "  </tbody>\n",
       "</table>\n",
       "</div>"
      ],
      "text/plain": [
       "              A         B         C         D         E\n",
       "count  8.000000  8.000000  8.000000  8.000000  8.000000\n",
       "mean  -0.135759  0.065957  0.611990  1.096078  0.117068\n",
       "std    0.911831  0.850220  1.556423  1.270091  1.444432\n",
       "min   -1.711583 -1.136673 -1.324578 -0.107889 -1.972864\n",
       "25%   -0.531357 -0.185699 -0.484420  0.322616 -1.147347\n",
       "50%   -0.388925  0.087587  0.316142  0.448583  0.435660\n",
       "75%    0.654618  0.132314  1.693919  1.681381  1.298339\n",
       "max    1.012896  1.844523  3.173391  3.334204  1.671791"
      ]
     },
     "execution_count": 76,
     "metadata": {},
     "output_type": "execute_result"
    }
   ],
   "source": [
    "df.describe()"
   ]
  },
  {
   "cell_type": "code",
   "execution_count": 77,
   "metadata": {},
   "outputs": [
    {
     "name": "stdout",
     "output_type": "stream",
     "text": [
      "2017-03-01   -0.548492\n",
      "2017-03-02    1.012896\n",
      "2017-03-03    0.576934\n",
      "2017-03-04   -0.313008\n",
      "2017-03-05    0.887672\n",
      "2017-03-06   -0.464843\n",
      "2017-03-07   -0.525645\n",
      "2017-03-08   -1.711583\n",
      "Freq: D, Name: A, dtype: float64\n",
      "<class 'pandas.core.series.Series'>\n"
     ]
    }
   ],
   "source": [
    "#select\n",
    "print(df['A'])\n",
    "print(type(df['A']))"
   ]
  },
  {
   "cell_type": "code",
   "execution_count": 78,
   "metadata": {},
   "outputs": [
    {
     "data": {
      "text/html": [
       "<div>\n",
       "<style scoped>\n",
       "    .dataframe tbody tr th:only-of-type {\n",
       "        vertical-align: middle;\n",
       "    }\n",
       "\n",
       "    .dataframe tbody tr th {\n",
       "        vertical-align: top;\n",
       "    }\n",
       "\n",
       "    .dataframe thead th {\n",
       "        text-align: right;\n",
       "    }\n",
       "</style>\n",
       "<table border=\"1\" class=\"dataframe\">\n",
       "  <thead>\n",
       "    <tr style=\"text-align: right;\">\n",
       "      <th></th>\n",
       "      <th>A</th>\n",
       "      <th>B</th>\n",
       "      <th>C</th>\n",
       "      <th>D</th>\n",
       "      <th>E</th>\n",
       "    </tr>\n",
       "  </thead>\n",
       "  <tbody>\n",
       "    <tr>\n",
       "      <th>2017-03-01</th>\n",
       "      <td>-0.548492</td>\n",
       "      <td>-0.052635</td>\n",
       "      <td>3.173391</td>\n",
       "      <td>3.334204</td>\n",
       "      <td>1.603372</td>\n",
       "    </tr>\n",
       "    <tr>\n",
       "      <th>2017-03-02</th>\n",
       "      <td>1.012896</td>\n",
       "      <td>1.844523</td>\n",
       "      <td>-0.336144</td>\n",
       "      <td>0.498750</td>\n",
       "      <td>-1.077826</td>\n",
       "    </tr>\n",
       "    <tr>\n",
       "      <th>2017-03-03</th>\n",
       "      <td>0.576934</td>\n",
       "      <td>0.086525</td>\n",
       "      <td>0.383789</td>\n",
       "      <td>1.334731</td>\n",
       "      <td>1.671791</td>\n",
       "    </tr>\n",
       "  </tbody>\n",
       "</table>\n",
       "</div>"
      ],
      "text/plain": [
       "                   A         B         C         D         E\n",
       "2017-03-01 -0.548492 -0.052635  3.173391  3.334204  1.603372\n",
       "2017-03-02  1.012896  1.844523 -0.336144  0.498750 -1.077826\n",
       "2017-03-03  0.576934  0.086525  0.383789  1.334731  1.671791"
      ]
     },
     "execution_count": 78,
     "metadata": {},
     "output_type": "execute_result"
    }
   ],
   "source": [
    "df[:3]"
   ]
  },
  {
   "cell_type": "code",
   "execution_count": 79,
   "metadata": {},
   "outputs": [
    {
     "data": {
      "text/plain": [
       "3.1733905239619795"
      ]
     },
     "execution_count": 79,
     "metadata": {},
     "output_type": "execute_result"
    }
   ],
   "source": [
    "# df.loc   索引\n",
    "#df.iloc   下标\n",
    "df.at[dates[0],'C']"
   ]
  },
  {
   "cell_type": "code",
   "execution_count": 80,
   "metadata": {},
   "outputs": [
    {
     "data": {
      "text/plain": [
       "-1.0778260770671824"
      ]
     },
     "execution_count": 80,
     "metadata": {},
     "output_type": "execute_result"
    }
   ],
   "source": [
    "df.iloc[1,4]"
   ]
  },
  {
   "cell_type": "code",
   "execution_count": 81,
   "metadata": {},
   "outputs": [
    {
     "data": {
      "text/plain": [
       "-1.0778260770671824"
      ]
     },
     "execution_count": 81,
     "metadata": {},
     "output_type": "execute_result"
    }
   ],
   "source": [
    "df.iat[1,4]"
   ]
  },
  {
   "cell_type": "code",
   "execution_count": 82,
   "metadata": {},
   "outputs": [
    {
     "name": "stderr",
     "output_type": "stream",
     "text": [
      "c:\\python36\\lib\\site-packages\\ipykernel_launcher.py:1: UserWarning: Boolean Series key will be reindexed to match DataFrame index.\n",
      "  \"\"\"Entry point for launching an IPython kernel.\n"
     ]
    },
    {
     "data": {
      "text/html": [
       "<div>\n",
       "<style scoped>\n",
       "    .dataframe tbody tr th:only-of-type {\n",
       "        vertical-align: middle;\n",
       "    }\n",
       "\n",
       "    .dataframe tbody tr th {\n",
       "        vertical-align: top;\n",
       "    }\n",
       "\n",
       "    .dataframe thead th {\n",
       "        text-align: right;\n",
       "    }\n",
       "</style>\n",
       "<table border=\"1\" class=\"dataframe\">\n",
       "  <thead>\n",
       "    <tr style=\"text-align: right;\">\n",
       "      <th></th>\n",
       "      <th>A</th>\n",
       "      <th>B</th>\n",
       "      <th>C</th>\n",
       "      <th>D</th>\n",
       "      <th>E</th>\n",
       "    </tr>\n",
       "  </thead>\n",
       "  <tbody>\n",
       "    <tr>\n",
       "      <th>2017-03-04</th>\n",
       "      <td>-0.313008</td>\n",
       "      <td>0.123553</td>\n",
       "      <td>1.547729</td>\n",
       "      <td>-0.107889</td>\n",
       "      <td>1.003398</td>\n",
       "    </tr>\n",
       "    <tr>\n",
       "      <th>2017-03-08</th>\n",
       "      <td>-1.711583</td>\n",
       "      <td>0.158599</td>\n",
       "      <td>2.132487</td>\n",
       "      <td>2.721334</td>\n",
       "      <td>-1.972864</td>\n",
       "    </tr>\n",
       "  </tbody>\n",
       "</table>\n",
       "</div>"
      ],
      "text/plain": [
       "                   A         B         C         D         E\n",
       "2017-03-04 -0.313008  0.123553  1.547729 -0.107889  1.003398\n",
       "2017-03-08 -1.711583  0.158599  2.132487  2.721334 -1.972864"
      ]
     },
     "execution_count": 82,
     "metadata": {},
     "output_type": "execute_result"
    }
   ],
   "source": [
    "df[df.B>0][df.A<0]"
   ]
  },
  {
   "cell_type": "code",
   "execution_count": 83,
   "metadata": {},
   "outputs": [
    {
     "data": {
      "text/html": [
       "<div>\n",
       "<style scoped>\n",
       "    .dataframe tbody tr th:only-of-type {\n",
       "        vertical-align: middle;\n",
       "    }\n",
       "\n",
       "    .dataframe tbody tr th {\n",
       "        vertical-align: top;\n",
       "    }\n",
       "\n",
       "    .dataframe thead th {\n",
       "        text-align: right;\n",
       "    }\n",
       "</style>\n",
       "<table border=\"1\" class=\"dataframe\">\n",
       "  <thead>\n",
       "    <tr style=\"text-align: right;\">\n",
       "      <th></th>\n",
       "      <th>A</th>\n",
       "      <th>B</th>\n",
       "      <th>C</th>\n",
       "      <th>D</th>\n",
       "      <th>E</th>\n",
       "    </tr>\n",
       "  </thead>\n",
       "  <tbody>\n",
       "    <tr>\n",
       "      <th>2017-03-01</th>\n",
       "      <td>NaN</td>\n",
       "      <td>NaN</td>\n",
       "      <td>3.173391</td>\n",
       "      <td>3.334204</td>\n",
       "      <td>1.603372</td>\n",
       "    </tr>\n",
       "    <tr>\n",
       "      <th>2017-03-02</th>\n",
       "      <td>1.012896</td>\n",
       "      <td>1.844523</td>\n",
       "      <td>NaN</td>\n",
       "      <td>0.498750</td>\n",
       "      <td>NaN</td>\n",
       "    </tr>\n",
       "    <tr>\n",
       "      <th>2017-03-03</th>\n",
       "      <td>0.576934</td>\n",
       "      <td>0.086525</td>\n",
       "      <td>0.383789</td>\n",
       "      <td>1.334731</td>\n",
       "      <td>1.671791</td>\n",
       "    </tr>\n",
       "    <tr>\n",
       "      <th>2017-03-04</th>\n",
       "      <td>NaN</td>\n",
       "      <td>0.123553</td>\n",
       "      <td>1.547729</td>\n",
       "      <td>NaN</td>\n",
       "      <td>1.003398</td>\n",
       "    </tr>\n",
       "    <tr>\n",
       "      <th>2017-03-05</th>\n",
       "      <td>0.887672</td>\n",
       "      <td>0.088650</td>\n",
       "      <td>NaN</td>\n",
       "      <td>0.238385</td>\n",
       "      <td>1.196661</td>\n",
       "    </tr>\n",
       "    <tr>\n",
       "      <th>2017-03-06</th>\n",
       "      <td>NaN</td>\n",
       "      <td>NaN</td>\n",
       "      <td>0.248495</td>\n",
       "      <td>0.350693</td>\n",
       "      <td>NaN</td>\n",
       "    </tr>\n",
       "    <tr>\n",
       "      <th>2017-03-07</th>\n",
       "      <td>NaN</td>\n",
       "      <td>NaN</td>\n",
       "      <td>NaN</td>\n",
       "      <td>0.398416</td>\n",
       "      <td>NaN</td>\n",
       "    </tr>\n",
       "    <tr>\n",
       "      <th>2017-03-08</th>\n",
       "      <td>NaN</td>\n",
       "      <td>0.158599</td>\n",
       "      <td>2.132487</td>\n",
       "      <td>2.721334</td>\n",
       "      <td>NaN</td>\n",
       "    </tr>\n",
       "  </tbody>\n",
       "</table>\n",
       "</div>"
      ],
      "text/plain": [
       "                   A         B         C         D         E\n",
       "2017-03-01       NaN       NaN  3.173391  3.334204  1.603372\n",
       "2017-03-02  1.012896  1.844523       NaN  0.498750       NaN\n",
       "2017-03-03  0.576934  0.086525  0.383789  1.334731  1.671791\n",
       "2017-03-04       NaN  0.123553  1.547729       NaN  1.003398\n",
       "2017-03-05  0.887672  0.088650       NaN  0.238385  1.196661\n",
       "2017-03-06       NaN       NaN  0.248495  0.350693       NaN\n",
       "2017-03-07       NaN       NaN       NaN  0.398416       NaN\n",
       "2017-03-08       NaN  0.158599  2.132487  2.721334       NaN"
      ]
     },
     "execution_count": 83,
     "metadata": {},
     "output_type": "execute_result"
    }
   ],
   "source": [
    "df[df>0]"
   ]
  },
  {
   "cell_type": "code",
   "execution_count": 84,
   "metadata": {},
   "outputs": [
    {
     "name": "stdout",
     "output_type": "stream",
     "text": [
      "Empty DataFrame\n",
      "Columns: [A, B, C, D, E]\n",
      "Index: []\n"
     ]
    }
   ],
   "source": [
    "#类似于sql中的in\n",
    "print(df[df['E'].isin([1,2])])"
   ]
  },
  {
   "cell_type": "code",
   "execution_count": 85,
   "metadata": {},
   "outputs": [
    {
     "data": {
      "text/html": [
       "<div>\n",
       "<style scoped>\n",
       "    .dataframe tbody tr th:only-of-type {\n",
       "        vertical-align: middle;\n",
       "    }\n",
       "\n",
       "    .dataframe tbody tr th {\n",
       "        vertical-align: top;\n",
       "    }\n",
       "\n",
       "    .dataframe thead th {\n",
       "        text-align: right;\n",
       "    }\n",
       "</style>\n",
       "<table border=\"1\" class=\"dataframe\">\n",
       "  <thead>\n",
       "    <tr style=\"text-align: right;\">\n",
       "      <th></th>\n",
       "      <th>A</th>\n",
       "      <th>B</th>\n",
       "      <th>C</th>\n",
       "      <th>D</th>\n",
       "      <th>E</th>\n",
       "      <th>F</th>\n",
       "    </tr>\n",
       "  </thead>\n",
       "  <tbody>\n",
       "    <tr>\n",
       "      <th>2017-03-01</th>\n",
       "      <td>-0.548492</td>\n",
       "      <td>-0.052635</td>\n",
       "      <td>3.173391</td>\n",
       "      <td>3.334204</td>\n",
       "      <td>1.603372</td>\n",
       "      <td>10</td>\n",
       "    </tr>\n",
       "    <tr>\n",
       "      <th>2017-03-02</th>\n",
       "      <td>1.012896</td>\n",
       "      <td>1.844523</td>\n",
       "      <td>-0.336144</td>\n",
       "      <td>0.498750</td>\n",
       "      <td>-1.077826</td>\n",
       "      <td>11</td>\n",
       "    </tr>\n",
       "    <tr>\n",
       "      <th>2017-03-03</th>\n",
       "      <td>0.576934</td>\n",
       "      <td>0.086525</td>\n",
       "      <td>0.383789</td>\n",
       "      <td>1.334731</td>\n",
       "      <td>1.671791</td>\n",
       "      <td>12</td>\n",
       "    </tr>\n",
       "    <tr>\n",
       "      <th>2017-03-04</th>\n",
       "      <td>-0.313008</td>\n",
       "      <td>0.123553</td>\n",
       "      <td>1.547729</td>\n",
       "      <td>-0.107889</td>\n",
       "      <td>1.003398</td>\n",
       "      <td>13</td>\n",
       "    </tr>\n",
       "    <tr>\n",
       "      <th>2017-03-05</th>\n",
       "      <td>0.887672</td>\n",
       "      <td>0.088650</td>\n",
       "      <td>-1.324578</td>\n",
       "      <td>0.238385</td>\n",
       "      <td>1.196661</td>\n",
       "      <td>14</td>\n",
       "    </tr>\n",
       "    <tr>\n",
       "      <th>2017-03-06</th>\n",
       "      <td>-0.464843</td>\n",
       "      <td>-1.136673</td>\n",
       "      <td>0.248495</td>\n",
       "      <td>0.350693</td>\n",
       "      <td>-0.132077</td>\n",
       "      <td>15</td>\n",
       "    </tr>\n",
       "    <tr>\n",
       "      <th>2017-03-07</th>\n",
       "      <td>-0.525645</td>\n",
       "      <td>-0.584889</td>\n",
       "      <td>-0.929247</td>\n",
       "      <td>0.398416</td>\n",
       "      <td>-1.355908</td>\n",
       "      <td>16</td>\n",
       "    </tr>\n",
       "    <tr>\n",
       "      <th>2017-03-08</th>\n",
       "      <td>-1.711583</td>\n",
       "      <td>0.158599</td>\n",
       "      <td>2.132487</td>\n",
       "      <td>2.721334</td>\n",
       "      <td>-1.972864</td>\n",
       "      <td>17</td>\n",
       "    </tr>\n",
       "  </tbody>\n",
       "</table>\n",
       "</div>"
      ],
      "text/plain": [
       "                   A         B         C         D         E   F\n",
       "2017-03-01 -0.548492 -0.052635  3.173391  3.334204  1.603372  10\n",
       "2017-03-02  1.012896  1.844523 -0.336144  0.498750 -1.077826  11\n",
       "2017-03-03  0.576934  0.086525  0.383789  1.334731  1.671791  12\n",
       "2017-03-04 -0.313008  0.123553  1.547729 -0.107889  1.003398  13\n",
       "2017-03-05  0.887672  0.088650 -1.324578  0.238385  1.196661  14\n",
       "2017-03-06 -0.464843 -1.136673  0.248495  0.350693 -0.132077  15\n",
       "2017-03-07 -0.525645 -0.584889 -0.929247  0.398416 -1.355908  16\n",
       "2017-03-08 -1.711583  0.158599  2.132487  2.721334 -1.972864  17"
      ]
     },
     "execution_count": 85,
     "metadata": {},
     "output_type": "execute_result"
    }
   ],
   "source": [
    "#set\n",
    "s1 = pd.Series(list(range(10,18)),index=pd.date_range('20170301',periods=8))\n",
    "df['F'] = s1\n",
    "df"
   ]
  },
  {
   "cell_type": "code",
   "execution_count": 86,
   "metadata": {},
   "outputs": [
    {
     "data": {
      "text/html": [
       "<div>\n",
       "<style scoped>\n",
       "    .dataframe tbody tr th:only-of-type {\n",
       "        vertical-align: middle;\n",
       "    }\n",
       "\n",
       "    .dataframe tbody tr th {\n",
       "        vertical-align: top;\n",
       "    }\n",
       "\n",
       "    .dataframe thead th {\n",
       "        text-align: right;\n",
       "    }\n",
       "</style>\n",
       "<table border=\"1\" class=\"dataframe\">\n",
       "  <thead>\n",
       "    <tr style=\"text-align: right;\">\n",
       "      <th></th>\n",
       "      <th>A</th>\n",
       "      <th>B</th>\n",
       "      <th>C</th>\n",
       "      <th>D</th>\n",
       "      <th>E</th>\n",
       "      <th>F</th>\n",
       "    </tr>\n",
       "  </thead>\n",
       "  <tbody>\n",
       "    <tr>\n",
       "      <th>2017-03-01</th>\n",
       "      <td>0.000000</td>\n",
       "      <td>-0.052635</td>\n",
       "      <td>3.173391</td>\n",
       "      <td>3.334204</td>\n",
       "      <td>1.603372</td>\n",
       "      <td>10</td>\n",
       "    </tr>\n",
       "    <tr>\n",
       "      <th>2017-03-02</th>\n",
       "      <td>1.012896</td>\n",
       "      <td>1.844523</td>\n",
       "      <td>-0.336144</td>\n",
       "      <td>0.498750</td>\n",
       "      <td>-1.077826</td>\n",
       "      <td>11</td>\n",
       "    </tr>\n",
       "    <tr>\n",
       "      <th>2017-03-03</th>\n",
       "      <td>0.576934</td>\n",
       "      <td>0.086525</td>\n",
       "      <td>0.383789</td>\n",
       "      <td>1.334731</td>\n",
       "      <td>1.671791</td>\n",
       "      <td>12</td>\n",
       "    </tr>\n",
       "    <tr>\n",
       "      <th>2017-03-04</th>\n",
       "      <td>-0.313008</td>\n",
       "      <td>0.123553</td>\n",
       "      <td>1.547729</td>\n",
       "      <td>-0.107889</td>\n",
       "      <td>1.003398</td>\n",
       "      <td>13</td>\n",
       "    </tr>\n",
       "    <tr>\n",
       "      <th>2017-03-05</th>\n",
       "      <td>0.887672</td>\n",
       "      <td>0.088650</td>\n",
       "      <td>-1.324578</td>\n",
       "      <td>0.238385</td>\n",
       "      <td>1.196661</td>\n",
       "      <td>14</td>\n",
       "    </tr>\n",
       "    <tr>\n",
       "      <th>2017-03-06</th>\n",
       "      <td>-0.464843</td>\n",
       "      <td>-1.136673</td>\n",
       "      <td>0.248495</td>\n",
       "      <td>0.350693</td>\n",
       "      <td>-0.132077</td>\n",
       "      <td>15</td>\n",
       "    </tr>\n",
       "    <tr>\n",
       "      <th>2017-03-07</th>\n",
       "      <td>-0.525645</td>\n",
       "      <td>-0.584889</td>\n",
       "      <td>-0.929247</td>\n",
       "      <td>0.398416</td>\n",
       "      <td>-1.355908</td>\n",
       "      <td>16</td>\n",
       "    </tr>\n",
       "    <tr>\n",
       "      <th>2017-03-08</th>\n",
       "      <td>-1.711583</td>\n",
       "      <td>0.158599</td>\n",
       "      <td>2.132487</td>\n",
       "      <td>2.721334</td>\n",
       "      <td>-1.972864</td>\n",
       "      <td>17</td>\n",
       "    </tr>\n",
       "  </tbody>\n",
       "</table>\n",
       "</div>"
      ],
      "text/plain": [
       "                   A         B         C         D         E   F\n",
       "2017-03-01  0.000000 -0.052635  3.173391  3.334204  1.603372  10\n",
       "2017-03-02  1.012896  1.844523 -0.336144  0.498750 -1.077826  11\n",
       "2017-03-03  0.576934  0.086525  0.383789  1.334731  1.671791  12\n",
       "2017-03-04 -0.313008  0.123553  1.547729 -0.107889  1.003398  13\n",
       "2017-03-05  0.887672  0.088650 -1.324578  0.238385  1.196661  14\n",
       "2017-03-06 -0.464843 -1.136673  0.248495  0.350693 -0.132077  15\n",
       "2017-03-07 -0.525645 -0.584889 -0.929247  0.398416 -1.355908  16\n",
       "2017-03-08 -1.711583  0.158599  2.132487  2.721334 -1.972864  17"
      ]
     },
     "execution_count": 86,
     "metadata": {},
     "output_type": "execute_result"
    }
   ],
   "source": [
    "df.at[dates[0],'A']=0\n",
    "df"
   ]
  },
  {
   "cell_type": "code",
   "execution_count": 87,
   "metadata": {},
   "outputs": [
    {
     "data": {
      "text/html": [
       "<div>\n",
       "<style scoped>\n",
       "    .dataframe tbody tr th:only-of-type {\n",
       "        vertical-align: middle;\n",
       "    }\n",
       "\n",
       "    .dataframe tbody tr th {\n",
       "        vertical-align: top;\n",
       "    }\n",
       "\n",
       "    .dataframe thead th {\n",
       "        text-align: right;\n",
       "    }\n",
       "</style>\n",
       "<table border=\"1\" class=\"dataframe\">\n",
       "  <thead>\n",
       "    <tr style=\"text-align: right;\">\n",
       "      <th></th>\n",
       "      <th>A</th>\n",
       "      <th>B</th>\n",
       "      <th>C</th>\n",
       "      <th>D</th>\n",
       "      <th>E</th>\n",
       "      <th>F</th>\n",
       "    </tr>\n",
       "  </thead>\n",
       "  <tbody>\n",
       "    <tr>\n",
       "      <th>2017-03-01</th>\n",
       "      <td>0.000000</td>\n",
       "      <td>-0.052635</td>\n",
       "      <td>3.173391</td>\n",
       "      <td>4</td>\n",
       "      <td>1.603372</td>\n",
       "      <td>10</td>\n",
       "    </tr>\n",
       "    <tr>\n",
       "      <th>2017-03-02</th>\n",
       "      <td>1.012896</td>\n",
       "      <td>1.844523</td>\n",
       "      <td>-0.336144</td>\n",
       "      <td>4</td>\n",
       "      <td>-1.077826</td>\n",
       "      <td>11</td>\n",
       "    </tr>\n",
       "    <tr>\n",
       "      <th>2017-03-03</th>\n",
       "      <td>0.576934</td>\n",
       "      <td>0.086525</td>\n",
       "      <td>0.383789</td>\n",
       "      <td>4</td>\n",
       "      <td>1.671791</td>\n",
       "      <td>12</td>\n",
       "    </tr>\n",
       "    <tr>\n",
       "      <th>2017-03-04</th>\n",
       "      <td>-0.313008</td>\n",
       "      <td>0.123553</td>\n",
       "      <td>1.547729</td>\n",
       "      <td>4</td>\n",
       "      <td>1.003398</td>\n",
       "      <td>13</td>\n",
       "    </tr>\n",
       "    <tr>\n",
       "      <th>2017-03-05</th>\n",
       "      <td>0.887672</td>\n",
       "      <td>0.088650</td>\n",
       "      <td>-1.324578</td>\n",
       "      <td>4</td>\n",
       "      <td>1.196661</td>\n",
       "      <td>14</td>\n",
       "    </tr>\n",
       "    <tr>\n",
       "      <th>2017-03-06</th>\n",
       "      <td>-0.464843</td>\n",
       "      <td>-1.136673</td>\n",
       "      <td>0.248495</td>\n",
       "      <td>4</td>\n",
       "      <td>-0.132077</td>\n",
       "      <td>15</td>\n",
       "    </tr>\n",
       "    <tr>\n",
       "      <th>2017-03-07</th>\n",
       "      <td>-0.525645</td>\n",
       "      <td>-0.584889</td>\n",
       "      <td>-0.929247</td>\n",
       "      <td>4</td>\n",
       "      <td>-1.355908</td>\n",
       "      <td>16</td>\n",
       "    </tr>\n",
       "    <tr>\n",
       "      <th>2017-03-08</th>\n",
       "      <td>-1.711583</td>\n",
       "      <td>0.158599</td>\n",
       "      <td>2.132487</td>\n",
       "      <td>4</td>\n",
       "      <td>-1.972864</td>\n",
       "      <td>17</td>\n",
       "    </tr>\n",
       "  </tbody>\n",
       "</table>\n",
       "</div>"
      ],
      "text/plain": [
       "                   A         B         C  D         E   F\n",
       "2017-03-01  0.000000 -0.052635  3.173391  4  1.603372  10\n",
       "2017-03-02  1.012896  1.844523 -0.336144  4 -1.077826  11\n",
       "2017-03-03  0.576934  0.086525  0.383789  4  1.671791  12\n",
       "2017-03-04 -0.313008  0.123553  1.547729  4  1.003398  13\n",
       "2017-03-05  0.887672  0.088650 -1.324578  4  1.196661  14\n",
       "2017-03-06 -0.464843 -1.136673  0.248495  4 -0.132077  15\n",
       "2017-03-07 -0.525645 -0.584889 -0.929247  4 -1.355908  16\n",
       "2017-03-08 -1.711583  0.158599  2.132487  4 -1.972864  17"
      ]
     },
     "execution_count": 87,
     "metadata": {},
     "output_type": "execute_result"
    }
   ],
   "source": [
    "df.loc[:,'D']=np.array([4]*len(df))\n",
    "df"
   ]
  },
  {
   "cell_type": "code",
   "execution_count": 88,
   "metadata": {},
   "outputs": [
    {
     "data": {
      "text/html": [
       "<div>\n",
       "<style scoped>\n",
       "    .dataframe tbody tr th:only-of-type {\n",
       "        vertical-align: middle;\n",
       "    }\n",
       "\n",
       "    .dataframe tbody tr th {\n",
       "        vertical-align: top;\n",
       "    }\n",
       "\n",
       "    .dataframe thead th {\n",
       "        text-align: right;\n",
       "    }\n",
       "</style>\n",
       "<table border=\"1\" class=\"dataframe\">\n",
       "  <thead>\n",
       "    <tr style=\"text-align: right;\">\n",
       "      <th></th>\n",
       "      <th>A</th>\n",
       "      <th>B</th>\n",
       "      <th>C</th>\n",
       "      <th>D</th>\n",
       "      <th>E</th>\n",
       "      <th>F</th>\n",
       "    </tr>\n",
       "  </thead>\n",
       "  <tbody>\n",
       "    <tr>\n",
       "      <th>2017-03-01</th>\n",
       "      <td>0.000000</td>\n",
       "      <td>-0.052635</td>\n",
       "      <td>-3.173391</td>\n",
       "      <td>-4</td>\n",
       "      <td>-1.603372</td>\n",
       "      <td>-10</td>\n",
       "    </tr>\n",
       "    <tr>\n",
       "      <th>2017-03-02</th>\n",
       "      <td>-1.012896</td>\n",
       "      <td>-1.844523</td>\n",
       "      <td>-0.336144</td>\n",
       "      <td>-4</td>\n",
       "      <td>-1.077826</td>\n",
       "      <td>-11</td>\n",
       "    </tr>\n",
       "    <tr>\n",
       "      <th>2017-03-03</th>\n",
       "      <td>-0.576934</td>\n",
       "      <td>-0.086525</td>\n",
       "      <td>-0.383789</td>\n",
       "      <td>-4</td>\n",
       "      <td>-1.671791</td>\n",
       "      <td>-12</td>\n",
       "    </tr>\n",
       "    <tr>\n",
       "      <th>2017-03-04</th>\n",
       "      <td>-0.313008</td>\n",
       "      <td>-0.123553</td>\n",
       "      <td>-1.547729</td>\n",
       "      <td>-4</td>\n",
       "      <td>-1.003398</td>\n",
       "      <td>-13</td>\n",
       "    </tr>\n",
       "    <tr>\n",
       "      <th>2017-03-05</th>\n",
       "      <td>-0.887672</td>\n",
       "      <td>-0.088650</td>\n",
       "      <td>-1.324578</td>\n",
       "      <td>-4</td>\n",
       "      <td>-1.196661</td>\n",
       "      <td>-14</td>\n",
       "    </tr>\n",
       "    <tr>\n",
       "      <th>2017-03-06</th>\n",
       "      <td>-0.464843</td>\n",
       "      <td>-1.136673</td>\n",
       "      <td>-0.248495</td>\n",
       "      <td>-4</td>\n",
       "      <td>-0.132077</td>\n",
       "      <td>-15</td>\n",
       "    </tr>\n",
       "    <tr>\n",
       "      <th>2017-03-07</th>\n",
       "      <td>-0.525645</td>\n",
       "      <td>-0.584889</td>\n",
       "      <td>-0.929247</td>\n",
       "      <td>-4</td>\n",
       "      <td>-1.355908</td>\n",
       "      <td>-16</td>\n",
       "    </tr>\n",
       "    <tr>\n",
       "      <th>2017-03-08</th>\n",
       "      <td>-1.711583</td>\n",
       "      <td>-0.158599</td>\n",
       "      <td>-2.132487</td>\n",
       "      <td>-4</td>\n",
       "      <td>-1.972864</td>\n",
       "      <td>-17</td>\n",
       "    </tr>\n",
       "  </tbody>\n",
       "</table>\n",
       "</div>"
      ],
      "text/plain": [
       "                   A         B         C  D         E   F\n",
       "2017-03-01  0.000000 -0.052635 -3.173391 -4 -1.603372 -10\n",
       "2017-03-02 -1.012896 -1.844523 -0.336144 -4 -1.077826 -11\n",
       "2017-03-03 -0.576934 -0.086525 -0.383789 -4 -1.671791 -12\n",
       "2017-03-04 -0.313008 -0.123553 -1.547729 -4 -1.003398 -13\n",
       "2017-03-05 -0.887672 -0.088650 -1.324578 -4 -1.196661 -14\n",
       "2017-03-06 -0.464843 -1.136673 -0.248495 -4 -0.132077 -15\n",
       "2017-03-07 -0.525645 -0.584889 -0.929247 -4 -1.355908 -16\n",
       "2017-03-08 -1.711583 -0.158599 -2.132487 -4 -1.972864 -17"
      ]
     },
     "execution_count": 88,
     "metadata": {},
     "output_type": "execute_result"
    }
   ],
   "source": [
    "df2 = df.copy()\n",
    "\n",
    "df2[df2>0]=-df2\n",
    "\n",
    "df2"
   ]
  },
  {
   "cell_type": "code",
   "execution_count": 89,
   "metadata": {},
   "outputs": [
    {
     "data": {
      "text/html": [
       "<div>\n",
       "<style scoped>\n",
       "    .dataframe tbody tr th:only-of-type {\n",
       "        vertical-align: middle;\n",
       "    }\n",
       "\n",
       "    .dataframe tbody tr th {\n",
       "        vertical-align: top;\n",
       "    }\n",
       "\n",
       "    .dataframe thead th {\n",
       "        text-align: right;\n",
       "    }\n",
       "</style>\n",
       "<table border=\"1\" class=\"dataframe\">\n",
       "  <thead>\n",
       "    <tr style=\"text-align: right;\">\n",
       "      <th></th>\n",
       "      <th>A</th>\n",
       "      <th>B</th>\n",
       "      <th>C</th>\n",
       "      <th>D</th>\n",
       "      <th>G</th>\n",
       "    </tr>\n",
       "  </thead>\n",
       "  <tbody>\n",
       "    <tr>\n",
       "      <th>2017-03-01</th>\n",
       "      <td>0.000000</td>\n",
       "      <td>-0.052635</td>\n",
       "      <td>3.173391</td>\n",
       "      <td>4</td>\n",
       "      <td>1.0</td>\n",
       "    </tr>\n",
       "    <tr>\n",
       "      <th>2017-03-02</th>\n",
       "      <td>1.012896</td>\n",
       "      <td>1.844523</td>\n",
       "      <td>-0.336144</td>\n",
       "      <td>4</td>\n",
       "      <td>1.0</td>\n",
       "    </tr>\n",
       "    <tr>\n",
       "      <th>2017-03-03</th>\n",
       "      <td>0.576934</td>\n",
       "      <td>0.086525</td>\n",
       "      <td>0.383789</td>\n",
       "      <td>4</td>\n",
       "      <td>NaN</td>\n",
       "    </tr>\n",
       "    <tr>\n",
       "      <th>2017-03-04</th>\n",
       "      <td>-0.313008</td>\n",
       "      <td>0.123553</td>\n",
       "      <td>1.547729</td>\n",
       "      <td>4</td>\n",
       "      <td>NaN</td>\n",
       "    </tr>\n",
       "  </tbody>\n",
       "</table>\n",
       "</div>"
      ],
      "text/plain": [
       "                   A         B         C  D    G\n",
       "2017-03-01  0.000000 -0.052635  3.173391  4  1.0\n",
       "2017-03-02  1.012896  1.844523 -0.336144  4  1.0\n",
       "2017-03-03  0.576934  0.086525  0.383789  4  NaN\n",
       "2017-03-04 -0.313008  0.123553  1.547729  4  NaN"
      ]
     },
     "execution_count": 89,
     "metadata": {},
     "output_type": "execute_result"
    }
   ],
   "source": [
    "df1 = df.reindex(index=dates[:4],columns=list('ABCD')+['G'])\n",
    "df1.loc[dates[0]:dates[1],'G'] = 1\n",
    "# df1.iloc[0:2,4:5] = 1\n",
    "df1"
   ]
  },
  {
   "cell_type": "code",
   "execution_count": 90,
   "metadata": {},
   "outputs": [
    {
     "data": {
      "text/html": [
       "<div>\n",
       "<style scoped>\n",
       "    .dataframe tbody tr th:only-of-type {\n",
       "        vertical-align: middle;\n",
       "    }\n",
       "\n",
       "    .dataframe tbody tr th {\n",
       "        vertical-align: top;\n",
       "    }\n",
       "\n",
       "    .dataframe thead th {\n",
       "        text-align: right;\n",
       "    }\n",
       "</style>\n",
       "<table border=\"1\" class=\"dataframe\">\n",
       "  <thead>\n",
       "    <tr style=\"text-align: right;\">\n",
       "      <th></th>\n",
       "      <th>A</th>\n",
       "      <th>B</th>\n",
       "      <th>C</th>\n",
       "      <th>D</th>\n",
       "      <th>G</th>\n",
       "    </tr>\n",
       "  </thead>\n",
       "  <tbody>\n",
       "    <tr>\n",
       "      <th>2017-03-01</th>\n",
       "      <td>0.000000</td>\n",
       "      <td>-0.052635</td>\n",
       "      <td>3.173391</td>\n",
       "      <td>4</td>\n",
       "      <td>1.0</td>\n",
       "    </tr>\n",
       "    <tr>\n",
       "      <th>2017-03-02</th>\n",
       "      <td>1.012896</td>\n",
       "      <td>1.844523</td>\n",
       "      <td>-0.336144</td>\n",
       "      <td>4</td>\n",
       "      <td>1.0</td>\n",
       "    </tr>\n",
       "  </tbody>\n",
       "</table>\n",
       "</div>"
      ],
      "text/plain": [
       "                   A         B         C  D    G\n",
       "2017-03-01  0.000000 -0.052635  3.173391  4  1.0\n",
       "2017-03-02  1.012896  1.844523 -0.336144  4  1.0"
      ]
     },
     "execution_count": 90,
     "metadata": {},
     "output_type": "execute_result"
    }
   ],
   "source": [
    "df1.dropna()"
   ]
  },
  {
   "cell_type": "code",
   "execution_count": 91,
   "metadata": {},
   "outputs": [
    {
     "data": {
      "text/html": [
       "<div>\n",
       "<style scoped>\n",
       "    .dataframe tbody tr th:only-of-type {\n",
       "        vertical-align: middle;\n",
       "    }\n",
       "\n",
       "    .dataframe tbody tr th {\n",
       "        vertical-align: top;\n",
       "    }\n",
       "\n",
       "    .dataframe thead th {\n",
       "        text-align: right;\n",
       "    }\n",
       "</style>\n",
       "<table border=\"1\" class=\"dataframe\">\n",
       "  <thead>\n",
       "    <tr style=\"text-align: right;\">\n",
       "      <th></th>\n",
       "      <th>A</th>\n",
       "      <th>B</th>\n",
       "      <th>C</th>\n",
       "      <th>D</th>\n",
       "      <th>G</th>\n",
       "    </tr>\n",
       "  </thead>\n",
       "  <tbody>\n",
       "    <tr>\n",
       "      <th>2017-03-01</th>\n",
       "      <td>0.000000</td>\n",
       "      <td>-0.052635</td>\n",
       "      <td>3.173391</td>\n",
       "      <td>4</td>\n",
       "      <td>1</td>\n",
       "    </tr>\n",
       "    <tr>\n",
       "      <th>2017-03-02</th>\n",
       "      <td>1.012896</td>\n",
       "      <td>1.844523</td>\n",
       "      <td>-0.336144</td>\n",
       "      <td>4</td>\n",
       "      <td>1</td>\n",
       "    </tr>\n",
       "    <tr>\n",
       "      <th>2017-03-03</th>\n",
       "      <td>0.576934</td>\n",
       "      <td>0.086525</td>\n",
       "      <td>0.383789</td>\n",
       "      <td>4</td>\n",
       "      <td>2</td>\n",
       "    </tr>\n",
       "    <tr>\n",
       "      <th>2017-03-04</th>\n",
       "      <td>-0.313008</td>\n",
       "      <td>0.123553</td>\n",
       "      <td>1.547729</td>\n",
       "      <td>4</td>\n",
       "      <td>2</td>\n",
       "    </tr>\n",
       "  </tbody>\n",
       "</table>\n",
       "</div>"
      ],
      "text/plain": [
       "                   A         B         C  D  G\n",
       "2017-03-01  0.000000 -0.052635  3.173391  4  1\n",
       "2017-03-02  1.012896  1.844523 -0.336144  4  1\n",
       "2017-03-03  0.576934  0.086525  0.383789  4  2\n",
       "2017-03-04 -0.313008  0.123553  1.547729  4  2"
      ]
     },
     "execution_count": 91,
     "metadata": {},
     "output_type": "execute_result"
    }
   ],
   "source": [
    "df1.fillna('2')"
   ]
  },
  {
   "cell_type": "code",
   "execution_count": 92,
   "metadata": {},
   "outputs": [
    {
     "data": {
      "text/plain": [
       "A    -0.067197\n",
       "B     0.065957\n",
       "C     0.611990\n",
       "D     4.000000\n",
       "E     0.117068\n",
       "F    13.500000\n",
       "dtype: float64"
      ]
     },
     "execution_count": 92,
     "metadata": {},
     "output_type": "execute_result"
    }
   ],
   "source": [
    "#statistic\n",
    "df.mean()"
   ]
  },
  {
   "cell_type": "code",
   "execution_count": 93,
   "metadata": {},
   "outputs": [
    {
     "data": {
      "text/plain": [
       "A    0.804360\n",
       "B    0.722874\n",
       "C    2.422452\n",
       "D    0.000000\n",
       "E    2.086384\n",
       "F    6.000000\n",
       "dtype: float64"
      ]
     },
     "execution_count": 93,
     "metadata": {},
     "output_type": "execute_result"
    }
   ],
   "source": [
    "df.var()"
   ]
  },
  {
   "cell_type": "code",
   "execution_count": 94,
   "metadata": {},
   "outputs": [
    {
     "data": {
      "text/plain": [
       "2017-03-01     1.0\n",
       "2017-03-02     2.0\n",
       "2017-03-03     4.0\n",
       "2017-03-04     NaN\n",
       "2017-03-05     5.0\n",
       "2017-03-06     7.0\n",
       "2017-03-07     9.0\n",
       "2017-03-08    10.0\n",
       "Freq: D, dtype: float64"
      ]
     },
     "execution_count": 94,
     "metadata": {},
     "output_type": "execute_result"
    }
   ],
   "source": [
    "s = pd.Series([1,2,4,np.nan,5,7,9,10],index=dates)\n",
    "s"
   ]
  },
  {
   "cell_type": "code",
   "execution_count": 95,
   "metadata": {},
   "outputs": [
    {
     "data": {
      "text/plain": [
       "2017-03-01    NaN\n",
       "2017-03-02    NaN\n",
       "2017-03-03    1.0\n",
       "2017-03-04    2.0\n",
       "2017-03-05    4.0\n",
       "2017-03-06    NaN\n",
       "2017-03-07    5.0\n",
       "2017-03-08    7.0\n",
       "Freq: D, dtype: float64"
      ]
     },
     "execution_count": 95,
     "metadata": {},
     "output_type": "execute_result"
    }
   ],
   "source": [
    "#移动\n",
    "s.shift(2)"
   ]
  },
  {
   "cell_type": "code",
   "execution_count": 96,
   "metadata": {},
   "outputs": [
    {
     "data": {
      "text/plain": [
       "2017-03-01    NaN\n",
       "2017-03-02    1.0\n",
       "2017-03-03    2.0\n",
       "2017-03-04    NaN\n",
       "2017-03-05    NaN\n",
       "2017-03-06    2.0\n",
       "2017-03-07    2.0\n",
       "2017-03-08    1.0\n",
       "Freq: D, dtype: float64"
      ]
     },
     "execution_count": 96,
     "metadata": {},
     "output_type": "execute_result"
    }
   ],
   "source": [
    "#差分\n",
    "s.diff()"
   ]
  },
  {
   "cell_type": "code",
   "execution_count": 97,
   "metadata": {},
   "outputs": [
    {
     "data": {
      "text/html": [
       "<div>\n",
       "<style scoped>\n",
       "    .dataframe tbody tr th:only-of-type {\n",
       "        vertical-align: middle;\n",
       "    }\n",
       "\n",
       "    .dataframe tbody tr th {\n",
       "        vertical-align: top;\n",
       "    }\n",
       "\n",
       "    .dataframe thead th {\n",
       "        text-align: right;\n",
       "    }\n",
       "</style>\n",
       "<table border=\"1\" class=\"dataframe\">\n",
       "  <thead>\n",
       "    <tr style=\"text-align: right;\">\n",
       "      <th></th>\n",
       "      <th>A</th>\n",
       "      <th>B</th>\n",
       "      <th>C</th>\n",
       "      <th>D</th>\n",
       "      <th>E</th>\n",
       "      <th>F</th>\n",
       "    </tr>\n",
       "  </thead>\n",
       "  <tbody>\n",
       "    <tr>\n",
       "      <th>2017-03-01</th>\n",
       "      <td>0.000000</td>\n",
       "      <td>-0.052635</td>\n",
       "      <td>3.173391</td>\n",
       "      <td>4</td>\n",
       "      <td>1.603372</td>\n",
       "      <td>10</td>\n",
       "    </tr>\n",
       "    <tr>\n",
       "      <th>2017-03-02</th>\n",
       "      <td>1.012896</td>\n",
       "      <td>1.791888</td>\n",
       "      <td>2.837247</td>\n",
       "      <td>8</td>\n",
       "      <td>0.525546</td>\n",
       "      <td>21</td>\n",
       "    </tr>\n",
       "    <tr>\n",
       "      <th>2017-03-03</th>\n",
       "      <td>1.589830</td>\n",
       "      <td>1.878413</td>\n",
       "      <td>3.221036</td>\n",
       "      <td>12</td>\n",
       "      <td>2.197337</td>\n",
       "      <td>33</td>\n",
       "    </tr>\n",
       "    <tr>\n",
       "      <th>2017-03-04</th>\n",
       "      <td>1.276823</td>\n",
       "      <td>2.001966</td>\n",
       "      <td>4.768765</td>\n",
       "      <td>16</td>\n",
       "      <td>3.200735</td>\n",
       "      <td>46</td>\n",
       "    </tr>\n",
       "    <tr>\n",
       "      <th>2017-03-05</th>\n",
       "      <td>2.164494</td>\n",
       "      <td>2.090616</td>\n",
       "      <td>3.444187</td>\n",
       "      <td>20</td>\n",
       "      <td>4.397396</td>\n",
       "      <td>60</td>\n",
       "    </tr>\n",
       "    <tr>\n",
       "      <th>2017-03-06</th>\n",
       "      <td>1.699652</td>\n",
       "      <td>0.953943</td>\n",
       "      <td>3.692681</td>\n",
       "      <td>24</td>\n",
       "      <td>4.265319</td>\n",
       "      <td>75</td>\n",
       "    </tr>\n",
       "    <tr>\n",
       "      <th>2017-03-07</th>\n",
       "      <td>1.174007</td>\n",
       "      <td>0.369053</td>\n",
       "      <td>2.763434</td>\n",
       "      <td>28</td>\n",
       "      <td>2.909412</td>\n",
       "      <td>91</td>\n",
       "    </tr>\n",
       "    <tr>\n",
       "      <th>2017-03-08</th>\n",
       "      <td>-0.537576</td>\n",
       "      <td>0.527652</td>\n",
       "      <td>4.895921</td>\n",
       "      <td>32</td>\n",
       "      <td>0.936548</td>\n",
       "      <td>108</td>\n",
       "    </tr>\n",
       "  </tbody>\n",
       "</table>\n",
       "</div>"
      ],
      "text/plain": [
       "                   A         B         C   D         E    F\n",
       "2017-03-01  0.000000 -0.052635  3.173391   4  1.603372   10\n",
       "2017-03-02  1.012896  1.791888  2.837247   8  0.525546   21\n",
       "2017-03-03  1.589830  1.878413  3.221036  12  2.197337   33\n",
       "2017-03-04  1.276823  2.001966  4.768765  16  3.200735   46\n",
       "2017-03-05  2.164494  2.090616  3.444187  20  4.397396   60\n",
       "2017-03-06  1.699652  0.953943  3.692681  24  4.265319   75\n",
       "2017-03-07  1.174007  0.369053  2.763434  28  2.909412   91\n",
       "2017-03-08 -0.537576  0.527652  4.895921  32  0.936548  108"
      ]
     },
     "execution_count": 97,
     "metadata": {},
     "output_type": "execute_result"
    }
   ],
   "source": [
    "df.apply(np.cumsum)"
   ]
  },
  {
   "cell_type": "code",
   "execution_count": 98,
   "metadata": {},
   "outputs": [
    {
     "data": {
      "text/plain": [
       "A    2.724479\n",
       "B    2.981196\n",
       "C    4.497969\n",
       "D    0.000000\n",
       "E    3.644655\n",
       "F    7.000000\n",
       "dtype: float64"
      ]
     },
     "execution_count": 98,
     "metadata": {},
     "output_type": "execute_result"
    }
   ],
   "source": [
    "df.apply(lambda x:x.max()-x.min())"
   ]
  },
  {
   "cell_type": "code",
   "execution_count": 99,
   "metadata": {},
   "outputs": [],
   "source": [
    "pieces = [df[:3],df[-3:]]"
   ]
  },
  {
   "cell_type": "code",
   "execution_count": 100,
   "metadata": {},
   "outputs": [
    {
     "data": {
      "text/html": [
       "<div>\n",
       "<style scoped>\n",
       "    .dataframe tbody tr th:only-of-type {\n",
       "        vertical-align: middle;\n",
       "    }\n",
       "\n",
       "    .dataframe tbody tr th {\n",
       "        vertical-align: top;\n",
       "    }\n",
       "\n",
       "    .dataframe thead th {\n",
       "        text-align: right;\n",
       "    }\n",
       "</style>\n",
       "<table border=\"1\" class=\"dataframe\">\n",
       "  <thead>\n",
       "    <tr style=\"text-align: right;\">\n",
       "      <th></th>\n",
       "      <th>A</th>\n",
       "      <th>B</th>\n",
       "      <th>C</th>\n",
       "      <th>D</th>\n",
       "      <th>E</th>\n",
       "      <th>F</th>\n",
       "    </tr>\n",
       "  </thead>\n",
       "  <tbody>\n",
       "    <tr>\n",
       "      <th>2017-03-01</th>\n",
       "      <td>0.000000</td>\n",
       "      <td>-0.052635</td>\n",
       "      <td>3.173391</td>\n",
       "      <td>4</td>\n",
       "      <td>1.603372</td>\n",
       "      <td>10</td>\n",
       "    </tr>\n",
       "    <tr>\n",
       "      <th>2017-03-02</th>\n",
       "      <td>1.012896</td>\n",
       "      <td>1.844523</td>\n",
       "      <td>-0.336144</td>\n",
       "      <td>4</td>\n",
       "      <td>-1.077826</td>\n",
       "      <td>11</td>\n",
       "    </tr>\n",
       "    <tr>\n",
       "      <th>2017-03-03</th>\n",
       "      <td>0.576934</td>\n",
       "      <td>0.086525</td>\n",
       "      <td>0.383789</td>\n",
       "      <td>4</td>\n",
       "      <td>1.671791</td>\n",
       "      <td>12</td>\n",
       "    </tr>\n",
       "    <tr>\n",
       "      <th>2017-03-06</th>\n",
       "      <td>-0.464843</td>\n",
       "      <td>-1.136673</td>\n",
       "      <td>0.248495</td>\n",
       "      <td>4</td>\n",
       "      <td>-0.132077</td>\n",
       "      <td>15</td>\n",
       "    </tr>\n",
       "    <tr>\n",
       "      <th>2017-03-07</th>\n",
       "      <td>-0.525645</td>\n",
       "      <td>-0.584889</td>\n",
       "      <td>-0.929247</td>\n",
       "      <td>4</td>\n",
       "      <td>-1.355908</td>\n",
       "      <td>16</td>\n",
       "    </tr>\n",
       "    <tr>\n",
       "      <th>2017-03-08</th>\n",
       "      <td>-1.711583</td>\n",
       "      <td>0.158599</td>\n",
       "      <td>2.132487</td>\n",
       "      <td>4</td>\n",
       "      <td>-1.972864</td>\n",
       "      <td>17</td>\n",
       "    </tr>\n",
       "  </tbody>\n",
       "</table>\n",
       "</div>"
      ],
      "text/plain": [
       "                   A         B         C  D         E   F\n",
       "2017-03-01  0.000000 -0.052635  3.173391  4  1.603372  10\n",
       "2017-03-02  1.012896  1.844523 -0.336144  4 -1.077826  11\n",
       "2017-03-03  0.576934  0.086525  0.383789  4  1.671791  12\n",
       "2017-03-06 -0.464843 -1.136673  0.248495  4 -0.132077  15\n",
       "2017-03-07 -0.525645 -0.584889 -0.929247  4 -1.355908  16\n",
       "2017-03-08 -1.711583  0.158599  2.132487  4 -1.972864  17"
      ]
     },
     "execution_count": 100,
     "metadata": {},
     "output_type": "execute_result"
    }
   ],
   "source": [
    "pd.concat(pieces)"
   ]
  },
  {
   "cell_type": "code",
   "execution_count": 101,
   "metadata": {},
   "outputs": [],
   "source": [
    "left = pd.DataFrame({'key':[\"x\",\"y\"],\"value\":[1,2]})\n",
    "right = pd.DataFrame({'key':[\"x\",\"z\"],\"value\":[3,4]})\n"
   ]
  },
  {
   "cell_type": "code",
   "execution_count": 102,
   "metadata": {},
   "outputs": [
    {
     "data": {
      "text/html": [
       "<div>\n",
       "<style scoped>\n",
       "    .dataframe tbody tr th:only-of-type {\n",
       "        vertical-align: middle;\n",
       "    }\n",
       "\n",
       "    .dataframe tbody tr th {\n",
       "        vertical-align: top;\n",
       "    }\n",
       "\n",
       "    .dataframe thead th {\n",
       "        text-align: right;\n",
       "    }\n",
       "</style>\n",
       "<table border=\"1\" class=\"dataframe\">\n",
       "  <thead>\n",
       "    <tr style=\"text-align: right;\">\n",
       "      <th></th>\n",
       "      <th>key</th>\n",
       "      <th>value</th>\n",
       "    </tr>\n",
       "  </thead>\n",
       "  <tbody>\n",
       "    <tr>\n",
       "      <th>0</th>\n",
       "      <td>x</td>\n",
       "      <td>1</td>\n",
       "    </tr>\n",
       "    <tr>\n",
       "      <th>1</th>\n",
       "      <td>y</td>\n",
       "      <td>2</td>\n",
       "    </tr>\n",
       "  </tbody>\n",
       "</table>\n",
       "</div>"
      ],
      "text/plain": [
       "  key  value\n",
       "0   x      1\n",
       "1   y      2"
      ]
     },
     "execution_count": 102,
     "metadata": {},
     "output_type": "execute_result"
    }
   ],
   "source": [
    "left"
   ]
  },
  {
   "cell_type": "code",
   "execution_count": 103,
   "metadata": {},
   "outputs": [
    {
     "data": {
      "text/html": [
       "<div>\n",
       "<style scoped>\n",
       "    .dataframe tbody tr th:only-of-type {\n",
       "        vertical-align: middle;\n",
       "    }\n",
       "\n",
       "    .dataframe tbody tr th {\n",
       "        vertical-align: top;\n",
       "    }\n",
       "\n",
       "    .dataframe thead th {\n",
       "        text-align: right;\n",
       "    }\n",
       "</style>\n",
       "<table border=\"1\" class=\"dataframe\">\n",
       "  <thead>\n",
       "    <tr style=\"text-align: right;\">\n",
       "      <th></th>\n",
       "      <th>key</th>\n",
       "      <th>value</th>\n",
       "    </tr>\n",
       "  </thead>\n",
       "  <tbody>\n",
       "    <tr>\n",
       "      <th>0</th>\n",
       "      <td>x</td>\n",
       "      <td>3</td>\n",
       "    </tr>\n",
       "    <tr>\n",
       "      <th>1</th>\n",
       "      <td>z</td>\n",
       "      <td>4</td>\n",
       "    </tr>\n",
       "  </tbody>\n",
       "</table>\n",
       "</div>"
      ],
      "text/plain": [
       "  key  value\n",
       "0   x      3\n",
       "1   z      4"
      ]
     },
     "execution_count": 103,
     "metadata": {},
     "output_type": "execute_result"
    }
   ],
   "source": [
    "right"
   ]
  },
  {
   "cell_type": "code",
   "execution_count": 104,
   "metadata": {},
   "outputs": [
    {
     "data": {
      "text/html": [
       "<div>\n",
       "<style scoped>\n",
       "    .dataframe tbody tr th:only-of-type {\n",
       "        vertical-align: middle;\n",
       "    }\n",
       "\n",
       "    .dataframe tbody tr th {\n",
       "        vertical-align: top;\n",
       "    }\n",
       "\n",
       "    .dataframe thead th {\n",
       "        text-align: right;\n",
       "    }\n",
       "</style>\n",
       "<table border=\"1\" class=\"dataframe\">\n",
       "  <thead>\n",
       "    <tr style=\"text-align: right;\">\n",
       "      <th></th>\n",
       "      <th>key</th>\n",
       "      <th>value_x</th>\n",
       "      <th>value_y</th>\n",
       "    </tr>\n",
       "  </thead>\n",
       "  <tbody>\n",
       "    <tr>\n",
       "      <th>0</th>\n",
       "      <td>x</td>\n",
       "      <td>1</td>\n",
       "      <td>3.0</td>\n",
       "    </tr>\n",
       "    <tr>\n",
       "      <th>1</th>\n",
       "      <td>y</td>\n",
       "      <td>2</td>\n",
       "      <td>NaN</td>\n",
       "    </tr>\n",
       "  </tbody>\n",
       "</table>\n",
       "</div>"
      ],
      "text/plain": [
       "  key  value_x  value_y\n",
       "0   x        1      3.0\n",
       "1   y        2      NaN"
      ]
     },
     "execution_count": 104,
     "metadata": {},
     "output_type": "execute_result"
    }
   ],
   "source": [
    "pd.merge(left,right,on='key',how='left')"
   ]
  },
  {
   "cell_type": "code",
   "execution_count": 105,
   "metadata": {},
   "outputs": [
    {
     "data": {
      "text/html": [
       "<div>\n",
       "<style scoped>\n",
       "    .dataframe tbody tr th:only-of-type {\n",
       "        vertical-align: middle;\n",
       "    }\n",
       "\n",
       "    .dataframe tbody tr th {\n",
       "        vertical-align: top;\n",
       "    }\n",
       "\n",
       "    .dataframe thead th {\n",
       "        text-align: right;\n",
       "    }\n",
       "</style>\n",
       "<table border=\"1\" class=\"dataframe\">\n",
       "  <thead>\n",
       "    <tr style=\"text-align: right;\">\n",
       "      <th></th>\n",
       "      <th>key</th>\n",
       "      <th>value_x</th>\n",
       "      <th>value_y</th>\n",
       "    </tr>\n",
       "  </thead>\n",
       "  <tbody>\n",
       "    <tr>\n",
       "      <th>0</th>\n",
       "      <td>x</td>\n",
       "      <td>1</td>\n",
       "      <td>3</td>\n",
       "    </tr>\n",
       "  </tbody>\n",
       "</table>\n",
       "</div>"
      ],
      "text/plain": [
       "  key  value_x  value_y\n",
       "0   x        1        3"
      ]
     },
     "execution_count": 105,
     "metadata": {},
     "output_type": "execute_result"
    }
   ],
   "source": [
    "pd.merge(left,right,on='key',how='inner')"
   ]
  },
  {
   "cell_type": "code",
   "execution_count": 106,
   "metadata": {},
   "outputs": [
    {
     "data": {
      "text/html": [
       "<div>\n",
       "<style scoped>\n",
       "    .dataframe tbody tr th:only-of-type {\n",
       "        vertical-align: middle;\n",
       "    }\n",
       "\n",
       "    .dataframe tbody tr th {\n",
       "        vertical-align: top;\n",
       "    }\n",
       "\n",
       "    .dataframe thead th {\n",
       "        text-align: right;\n",
       "    }\n",
       "</style>\n",
       "<table border=\"1\" class=\"dataframe\">\n",
       "  <thead>\n",
       "    <tr style=\"text-align: right;\">\n",
       "      <th></th>\n",
       "      <th>key</th>\n",
       "      <th>value_x</th>\n",
       "      <th>value_y</th>\n",
       "    </tr>\n",
       "  </thead>\n",
       "  <tbody>\n",
       "    <tr>\n",
       "      <th>0</th>\n",
       "      <td>x</td>\n",
       "      <td>1.0</td>\n",
       "      <td>3.0</td>\n",
       "    </tr>\n",
       "    <tr>\n",
       "      <th>1</th>\n",
       "      <td>y</td>\n",
       "      <td>2.0</td>\n",
       "      <td>NaN</td>\n",
       "    </tr>\n",
       "    <tr>\n",
       "      <th>2</th>\n",
       "      <td>z</td>\n",
       "      <td>NaN</td>\n",
       "      <td>4.0</td>\n",
       "    </tr>\n",
       "  </tbody>\n",
       "</table>\n",
       "</div>"
      ],
      "text/plain": [
       "  key  value_x  value_y\n",
       "0   x      1.0      3.0\n",
       "1   y      2.0      NaN\n",
       "2   z      NaN      4.0"
      ]
     },
     "execution_count": 106,
     "metadata": {},
     "output_type": "execute_result"
    }
   ],
   "source": [
    "pd.merge(left,right,on='key',how='outer')"
   ]
  },
  {
   "cell_type": "code",
   "execution_count": 107,
   "metadata": {},
   "outputs": [
    {
     "data": {
      "text/html": [
       "<div>\n",
       "<style scoped>\n",
       "    .dataframe tbody tr th:only-of-type {\n",
       "        vertical-align: middle;\n",
       "    }\n",
       "\n",
       "    .dataframe tbody tr th {\n",
       "        vertical-align: top;\n",
       "    }\n",
       "\n",
       "    .dataframe thead th {\n",
       "        text-align: right;\n",
       "    }\n",
       "</style>\n",
       "<table border=\"1\" class=\"dataframe\">\n",
       "  <thead>\n",
       "    <tr style=\"text-align: right;\">\n",
       "      <th></th>\n",
       "      <th>B</th>\n",
       "    </tr>\n",
       "    <tr>\n",
       "      <th>A</th>\n",
       "      <th></th>\n",
       "    </tr>\n",
       "  </thead>\n",
       "  <tbody>\n",
       "    <tr>\n",
       "      <th>a</th>\n",
       "      <td>0</td>\n",
       "    </tr>\n",
       "    <tr>\n",
       "      <th>b</th>\n",
       "      <td>4</td>\n",
       "    </tr>\n",
       "    <tr>\n",
       "      <th>c</th>\n",
       "      <td>2</td>\n",
       "    </tr>\n",
       "  </tbody>\n",
       "</table>\n",
       "</div>"
      ],
      "text/plain": [
       "   B\n",
       "A   \n",
       "a  0\n",
       "b  4\n",
       "c  2"
      ]
     },
     "execution_count": 107,
     "metadata": {},
     "output_type": "execute_result"
    }
   ],
   "source": [
    "df3 = pd.DataFrame({\"A\":['a','b','c','b'],'B':list(range(4))})\n",
    "df3.groupby(\"A\").sum()"
   ]
  },
  {
   "cell_type": "code",
   "execution_count": 108,
   "metadata": {},
   "outputs": [],
   "source": [
    "#time Series"
   ]
  },
  {
   "cell_type": "code",
   "execution_count": 109,
   "metadata": {},
   "outputs": [
    {
     "data": {
      "text/plain": [
       "DatetimeIndex(['2017-03-01 00:00:00', '2017-03-01 00:00:01',\n",
       "               '2017-03-01 00:00:02', '2017-03-01 00:00:03',\n",
       "               '2017-03-01 00:00:04', '2017-03-01 00:00:05',\n",
       "               '2017-03-01 00:00:06', '2017-03-01 00:00:07',\n",
       "               '2017-03-01 00:00:08', '2017-03-01 00:00:09'],\n",
       "              dtype='datetime64[ns]', freq='S')"
      ]
     },
     "execution_count": 109,
     "metadata": {},
     "output_type": "execute_result"
    }
   ],
   "source": [
    "t_exam = pd.date_range('20170301',periods=10,freq='S')   #S是秒\n",
    "t_exam"
   ]
  },
  {
   "cell_type": "code",
   "execution_count": 110,
   "metadata": {},
   "outputs": [
    {
     "data": {
      "image/png": "[encoded data removed]",
      "text/plain": [
       "<matplotlib.figure.Figure at 0x19f68a5d278>"
      ]
     },
     "metadata": {
      "needs_background": "light"
     },
     "output_type": "display_data"
    }
   ],
   "source": [
    "#graph\n",
    "ts = pd.Series(np.random.randn(1000),index=pd.date_range('20170301',periods=1000))\n",
    "ts.cumsum()\n",
    "from pylab import *\n",
    "ts.plot()\n",
    "show()"
   ]
  },
  {
   "cell_type": "code",
   "execution_count": 111,
   "metadata": {},
   "outputs": [],
   "source": [
    "#文件读取file\n",
    "# df6 = pd.read_csv('./data/HR.csv')\n",
    "# df7 = pd.read_excel('./000875.xlsx')\n",
    "# df6.to_csv()\n",
    "# df7.to_excel()"
   ]
  },
  {
   "cell_type": "markdown",
   "metadata": {},
   "source": [
    "## sckit-learn"
   ]
  },
  {
   "cell_type": "markdown",
   "metadata": {},
   "source": [
    "鸢尾花数据集"
   ]
  },
  {
   "cell_type": "code",
   "execution_count": 112,
   "metadata": {},
   "outputs": [],
   "source": [
    "from sklearn.datasets import load_iris"
   ]
  },
  {
   "cell_type": "code",
   "execution_count": 113,
   "metadata": {},
   "outputs": [
    {
     "data": {
      "text/plain": [
       "{'data': array([[ 5.1,  3.5,  1.4,  0.2],\n",
       "        [ 4.9,  3. ,  1.4,  0.2],\n",
       "        [ 4.7,  3.2,  1.3,  0.2],\n",
       "        [ 4.6,  3.1,  1.5,  0.2],\n",
       "        [ 5. ,  3.6,  1.4,  0.2],\n",
       "        [ 5.4,  3.9,  1.7,  0.4],\n",
       "        [ 4.6,  3.4,  1.4,  0.3],\n",
       "        [ 5. ,  3.4,  1.5,  0.2],\n",
       "        [ 4.4,  2.9,  1.4,  0.2],\n",
       "        [ 4.9,  3.1,  1.5,  0.1],\n",
       "        [ 5.4,  3.7,  1.5,  0.2],\n",
       "        [ 4.8,  3.4,  1.6,  0.2],\n",
       "        [ 4.8,  3. ,  1.4,  0.1],\n",
       "        [ 4.3,  3. ,  1.1,  0.1],\n",
       "        [ 5.8,  4. ,  1.2,  0.2],\n",
       "        [ 5.7,  4.4,  1.5,  0.4],\n",
       "        [ 5.4,  3.9,  1.3,  0.4],\n",
       "        [ 5.1,  3.5,  1.4,  0.3],\n",
       "        [ 5.7,  3.8,  1.7,  0.3],\n",
       "        [ 5.1,  3.8,  1.5,  0.3],\n",
       "        [ 5.4,  3.4,  1.7,  0.2],\n",
       "        [ 5.1,  3.7,  1.5,  0.4],\n",
       "        [ 4.6,  3.6,  1. ,  0.2],\n",
       "        [ 5.1,  3.3,  1.7,  0.5],\n",
       "        [ 4.8,  3.4,  1.9,  0.2],\n",
       "        [ 5. ,  3. ,  1.6,  0.2],\n",
       "        [ 5. ,  3.4,  1.6,  0.4],\n",
       "        [ 5.2,  3.5,  1.5,  0.2],\n",
       "        [ 5.2,  3.4,  1.4,  0.2],\n",
       "        [ 4.7,  3.2,  1.6,  0.2],\n",
       "        [ 4.8,  3.1,  1.6,  0.2],\n",
       "        [ 5.4,  3.4,  1.5,  0.4],\n",
       "        [ 5.2,  4.1,  1.5,  0.1],\n",
       "        [ 5.5,  4.2,  1.4,  0.2],\n",
       "        [ 4.9,  3.1,  1.5,  0.1],\n",
       "        [ 5. ,  3.2,  1.2,  0.2],\n",
       "        [ 5.5,  3.5,  1.3,  0.2],\n",
       "        [ 4.9,  3.1,  1.5,  0.1],\n",
       "        [ 4.4,  3. ,  1.3,  0.2],\n",
       "        [ 5.1,  3.4,  1.5,  0.2],\n",
       "        [ 5. ,  3.5,  1.3,  0.3],\n",
       "        [ 4.5,  2.3,  1.3,  0.3],\n",
       "        [ 4.4,  3.2,  1.3,  0.2],\n",
       "        [ 5. ,  3.5,  1.6,  0.6],\n",
       "        [ 5.1,  3.8,  1.9,  0.4],\n",
       "        [ 4.8,  3. ,  1.4,  0.3],\n",
       "        [ 5.1,  3.8,  1.6,  0.2],\n",
       "        [ 4.6,  3.2,  1.4,  0.2],\n",
       "        [ 5.3,  3.7,  1.5,  0.2],\n",
       "        [ 5. ,  3.3,  1.4,  0.2],\n",
       "        [ 7. ,  3.2,  4.7,  1.4],\n",
       "        [ 6.4,  3.2,  4.5,  1.5],\n",
       "        [ 6.9,  3.1,  4.9,  1.5],\n",
       "        [ 5.5,  2.3,  4. ,  1.3],\n",
       "        [ 6.5,  2.8,  4.6,  1.5],\n",
       "        [ 5.7,  2.8,  4.5,  1.3],\n",
       "        [ 6.3,  3.3,  4.7,  1.6],\n",
       "        [ 4.9,  2.4,  3.3,  1. ],\n",
       "        [ 6.6,  2.9,  4.6,  1.3],\n",
       "        [ 5.2,  2.7,  3.9,  1.4],\n",
       "        [ 5. ,  2. ,  3.5,  1. ],\n",
       "        [ 5.9,  3. ,  4.2,  1.5],\n",
       "        [ 6. ,  2.2,  4. ,  1. ],\n",
       "        [ 6.1,  2.9,  4.7,  1.4],\n",
       "        [ 5.6,  2.9,  3.6,  1.3],\n",
       "        [ 6.7,  3.1,  4.4,  1.4],\n",
       "        [ 5.6,  3. ,  4.5,  1.5],\n",
       "        [ 5.8,  2.7,  4.1,  1. ],\n",
       "        [ 6.2,  2.2,  4.5,  1.5],\n",
       "        [ 5.6,  2.5,  3.9,  1.1],\n",
       "        [ 5.9,  3.2,  4.8,  1.8],\n",
       "        [ 6.1,  2.8,  4. ,  1.3],\n",
       "        [ 6.3,  2.5,  4.9,  1.5],\n",
       "        [ 6.1,  2.8,  4.7,  1.2],\n",
       "        [ 6.4,  2.9,  4.3,  1.3],\n",
       "        [ 6.6,  3. ,  4.4,  1.4],\n",
       "        [ 6.8,  2.8,  4.8,  1.4],\n",
       "        [ 6.7,  3. ,  5. ,  1.7],\n",
       "        [ 6. ,  2.9,  4.5,  1.5],\n",
       "        [ 5.7,  2.6,  3.5,  1. ],\n",
       "        [ 5.5,  2.4,  3.8,  1.1],\n",
       "        [ 5.5,  2.4,  3.7,  1. ],\n",
       "        [ 5.8,  2.7,  3.9,  1.2],\n",
       "        [ 6. ,  2.7,  5.1,  1.6],\n",
       "        [ 5.4,  3. ,  4.5,  1.5],\n",
       "        [ 6. ,  3.4,  4.5,  1.6],\n",
       "        [ 6.7,  3.1,  4.7,  1.5],\n",
       "        [ 6.3,  2.3,  4.4,  1.3],\n",
       "        [ 5.6,  3. ,  4.1,  1.3],\n",
       "        [ 5.5,  2.5,  4. ,  1.3],\n",
       "        [ 5.5,  2.6,  4.4,  1.2],\n",
       "        [ 6.1,  3. ,  4.6,  1.4],\n",
       "        [ 5.8,  2.6,  4. ,  1.2],\n",
       "        [ 5. ,  2.3,  3.3,  1. ],\n",
       "        [ 5.6,  2.7,  4.2,  1.3],\n",
       "        [ 5.7,  3. ,  4.2,  1.2],\n",
       "        [ 5.7,  2.9,  4.2,  1.3],\n",
       "        [ 6.2,  2.9,  4.3,  1.3],\n",
       "        [ 5.1,  2.5,  3. ,  1.1],\n",
       "        [ 5.7,  2.8,  4.1,  1.3],\n",
       "        [ 6.3,  3.3,  6. ,  2.5],\n",
       "        [ 5.8,  2.7,  5.1,  1.9],\n",
       "        [ 7.1,  3. ,  5.9,  2.1],\n",
       "        [ 6.3,  2.9,  5.6,  1.8],\n",
       "        [ 6.5,  3. ,  5.8,  2.2],\n",
       "        [ 7.6,  3. ,  6.6,  2.1],\n",
       "        [ 4.9,  2.5,  4.5,  1.7],\n",
       "        [ 7.3,  2.9,  6.3,  1.8],\n",
       "        [ 6.7,  2.5,  5.8,  1.8],\n",
       "        [ 7.2,  3.6,  6.1,  2.5],\n",
       "        [ 6.5,  3.2,  5.1,  2. ],\n",
       "        [ 6.4,  2.7,  5.3,  1.9],\n",
       "        [ 6.8,  3. ,  5.5,  2.1],\n",
       "        [ 5.7,  2.5,  5. ,  2. ],\n",
       "        [ 5.8,  2.8,  5.1,  2.4],\n",
       "        [ 6.4,  3.2,  5.3,  2.3],\n",
       "        [ 6.5,  3. ,  5.5,  1.8],\n",
       "        [ 7.7,  3.8,  6.7,  2.2],\n",
       "        [ 7.7,  2.6,  6.9,  2.3],\n",
       "        [ 6. ,  2.2,  5. ,  1.5],\n",
       "        [ 6.9,  3.2,  5.7,  2.3],\n",
       "        [ 5.6,  2.8,  4.9,  2. ],\n",
       "        [ 7.7,  2.8,  6.7,  2. ],\n",
       "        [ 6.3,  2.7,  4.9,  1.8],\n",
       "        [ 6.7,  3.3,  5.7,  2.1],\n",
       "        [ 7.2,  3.2,  6. ,  1.8],\n",
       "        [ 6.2,  2.8,  4.8,  1.8],\n",
       "        [ 6.1,  3. ,  4.9,  1.8],\n",
       "        [ 6.4,  2.8,  5.6,  2.1],\n",
       "        [ 7.2,  3. ,  5.8,  1.6],\n",
       "        [ 7.4,  2.8,  6.1,  1.9],\n",
       "        [ 7.9,  3.8,  6.4,  2. ],\n",
       "        [ 6.4,  2.8,  5.6,  2.2],\n",
       "        [ 6.3,  2.8,  5.1,  1.5],\n",
       "        [ 6.1,  2.6,  5.6,  1.4],\n",
       "        [ 7.7,  3. ,  6.1,  2.3],\n",
       "        [ 6.3,  3.4,  5.6,  2.4],\n",
       "        [ 6.4,  3.1,  5.5,  1.8],\n",
       "        [ 6. ,  3. ,  4.8,  1.8],\n",
       "        [ 6.9,  3.1,  5.4,  2.1],\n",
       "        [ 6.7,  3.1,  5.6,  2.4],\n",
       "        [ 6.9,  3.1,  5.1,  2.3],\n",
       "        [ 5.8,  2.7,  5.1,  1.9],\n",
       "        [ 6.8,  3.2,  5.9,  2.3],\n",
       "        [ 6.7,  3.3,  5.7,  2.5],\n",
       "        [ 6.7,  3. ,  5.2,  2.3],\n",
       "        [ 6.3,  2.5,  5. ,  1.9],\n",
       "        [ 6.5,  3. ,  5.2,  2. ],\n",
       "        [ 6.2,  3.4,  5.4,  2.3],\n",
       "        [ 5.9,  3. ,  5.1,  1.8]]),\n",
       " 'target': array([0, 0, 0, 0, 0, 0, 0, 0, 0, 0, 0, 0, 0, 0, 0, 0, 0, 0, 0, 0, 0, 0, 0,\n",
       "        0, 0, 0, 0, 0, 0, 0, 0, 0, 0, 0, 0, 0, 0, 0, 0, 0, 0, 0, 0, 0, 0, 0,\n",
       "        0, 0, 0, 0, 1, 1, 1, 1, 1, 1, 1, 1, 1, 1, 1, 1, 1, 1, 1, 1, 1, 1, 1,\n",
       "        1, 1, 1, 1, 1, 1, 1, 1, 1, 1, 1, 1, 1, 1, 1, 1, 1, 1, 1, 1, 1, 1, 1,\n",
       "        1, 1, 1, 1, 1, 1, 1, 1, 2, 2, 2, 2, 2, 2, 2, 2, 2, 2, 2, 2, 2, 2, 2,\n",
       "        2, 2, 2, 2, 2, 2, 2, 2, 2, 2, 2, 2, 2, 2, 2, 2, 2, 2, 2, 2, 2, 2, 2,\n",
       "        2, 2, 2, 2, 2, 2, 2, 2, 2, 2, 2, 2]),\n",
       " 'target_names': array(['setosa', 'versicolor', 'virginica'],\n",
       "       dtype='<U10'),\n",
       " 'DESCR': 'Iris Plants Database\\n====================\\n\\nNotes\\n-----\\nData Set Characteristics:\\n    :Number of Instances: 150 (50 in each of three classes)\\n    :Number of Attributes: 4 numeric, predictive attributes and the class\\n    :Attribute Information:\\n        - sepal length in cm\\n        - sepal width in cm\\n        - petal length in cm\\n        - petal width in cm\\n        - class:\\n                - Iris-Setosa\\n                - Iris-Versicolour\\n                - Iris-Virginica\\n    :Summary Statistics:\\n\\n    ============== ==== ==== ======= ===== ====================\\n                    Min  Max   Mean    SD   Class Correlation\\n    ============== ==== ==== ======= ===== ====================\\n    sepal length:   4.3  7.9   5.84   0.83    0.7826\\n    sepal width:    2.0  4.4   3.05   0.43   -0.4194\\n    petal length:   1.0  6.9   3.76   1.76    0.9490  (high!)\\n    petal width:    0.1  2.5   1.20  0.76     0.9565  (high!)\\n    ============== ==== ==== ======= ===== ====================\\n\\n    :Missing Attribute Values: None\\n    :Class Distribution: 33.3% for each of 3 classes.\\n    :Creator: R.A. Fisher\\n    :Donor: Michael Marshall (MARSHALL%PLU@io.arc.nasa.gov)\\n    :Date: July, 1988\\n\\nThis is a copy of UCI ML iris datasets.\\nhttp://archive.ics.uci.edu/ml/datasets/Iris\\n\\nThe famous Iris database, first used by Sir R.A Fisher\\n\\nThis is perhaps the best known database to be found in the\\npattern recognition literature.  Fisher\\'s paper is a classic in the field and\\nis referenced frequently to this day.  (See Duda & Hart, for example.)  The\\ndata set contains 3 classes of 50 instances each, where each class refers to a\\ntype of iris plant.  One class is linearly separable from the other 2; the\\nlatter are NOT linearly separable from each other.\\n\\nReferences\\n----------\\n   - Fisher,R.A. \"The use of multiple measurements in taxonomic problems\"\\n     Annual Eugenics, 7, Part II, 179-188 (1936); also in \"Contributions to\\n     Mathematical Statistics\" (John Wiley, NY, 1950).\\n   - Duda,R.O., & Hart,P.E. (1973) Pattern Classification and Scene Analysis.\\n     (Q327.D83) John Wiley & Sons.  ISBN 0-471-22361-1.  See page 218.\\n   - Dasarathy, B.V. (1980) \"Nosing Around the Neighborhood: A New System\\n     Structure and Classification Rule for Recognition in Partially Exposed\\n     Environments\".  IEEE Transactions on Pattern Analysis and Machine\\n     Intelligence, Vol. PAMI-2, No. 1, 67-71.\\n   - Gates, G.W. (1972) \"The Reduced Nearest Neighbor Rule\".  IEEE Transactions\\n     on Information Theory, May 1972, 431-433.\\n   - See also: 1988 MLC Proceedings, 54-64.  Cheeseman et al\"s AUTOCLASS II\\n     conceptual clustering system finds 3 classes in the data.\\n   - Many, many more ...\\n',\n",
       " 'feature_names': ['sepal length (cm)',\n",
       "  'sepal width (cm)',\n",
       "  'petal length (cm)',\n",
       "  'petal width (cm)']}"
      ]
     },
     "execution_count": 113,
     "metadata": {},
     "output_type": "execute_result"
    }
   ],
   "source": [
    "iris = load_iris()\n",
    "iris"
   ]
  },
  {
   "cell_type": "code",
   "execution_count": 114,
   "metadata": {},
   "outputs": [
    {
     "data": {
      "text/plain": [
       "150"
      ]
     },
     "execution_count": 114,
     "metadata": {},
     "output_type": "execute_result"
    }
   ],
   "source": [
    "len(iris['data'])"
   ]
  },
  {
   "cell_type": "code",
   "execution_count": 132,
   "metadata": {},
   "outputs": [],
   "source": [
    "from sklearn.cross_validation import  train_test_split\n",
    "train_data,test_data,train_target,test_target = train_test_split(iris.data,iris.target,test_size=0.2,random_state=1)"
   ]
  },
  {
   "cell_type": "code",
   "execution_count": 133,
   "metadata": {},
   "outputs": [],
   "source": [
    "from sklearn import tree"
   ]
  },
  {
   "cell_type": "code",
   "execution_count": 134,
   "metadata": {},
   "outputs": [],
   "source": [
    "clf = tree.DecisionTreeClassifier(criterion='entropy')"
   ]
  },
  {
   "cell_type": "code",
   "execution_count": 136,
   "metadata": {},
   "outputs": [
    {
     "data": {
      "text/plain": [
       "array([0, 1, 1, 0, 2, 1, 2, 0, 0, 2, 1, 0, 2, 1, 1, 0, 1, 1, 0, 0, 1, 1, 2,\n",
       "       0, 2, 1, 0, 0, 1, 2])"
      ]
     },
     "execution_count": 136,
     "metadata": {},
     "output_type": "execute_result"
    }
   ],
   "source": [
    "clf.fit(train_data,train_target)\n",
    "y_pred = clf.predict(test_data)\n",
    "y_pred"
   ]
  },
  {
   "cell_type": "code",
   "execution_count": 137,
   "metadata": {},
   "outputs": [],
   "source": [
    "from sklearn import metrics  "
   ]
  },
  {
   "cell_type": "code",
   "execution_count": 138,
   "metadata": {},
   "outputs": [
    {
     "name": "stdout",
     "output_type": "stream",
     "text": [
      "0.966666666667\n"
     ]
    }
   ],
   "source": [
    "#准确率\n",
    "print(metrics.accuracy_score(y_true=test_target,y_pred=y_pred))"
   ]
  },
  {
   "cell_type": "code",
   "execution_count": 139,
   "metadata": {},
   "outputs": [
    {
     "data": {
      "text/plain": [
       "array([[11,  0,  0],\n",
       "       [ 0, 12,  1],\n",
       "       [ 0,  0,  6]], dtype=int64)"
      ]
     },
     "execution_count": 139,
     "metadata": {},
     "output_type": "execute_result"
    }
   ],
   "source": [
    "#混淆矩阵\n",
    "metrics.confusion_matrix(y_true=test_target,y_pred=y_pred)"
   ]
  },
  {
   "cell_type": "code",
   "execution_count": 140,
   "metadata": {},
   "outputs": [],
   "source": [
    "#输出决策树文件\n",
    "with open('./data/tree.dot','w')as fw:\n",
    "    tree.export_graphviz(clf,out_file=fw)"
   ]
  },
  {
   "cell_type": "markdown",
   "metadata": {},
   "source": [
    "### keras\n",
    "\n",
    "是构造映射函数\n"
   ]
  },
  {
   "cell_type": "code",
   "execution_count": 143,
   "metadata": {},
   "outputs": [
    {
     "ename": "ModuleNotFoundError",
     "evalue": "No module named 'keras'",
     "output_type": "error",
     "traceback": [
      "\u001b[1;31m---------------------------------------------------------------------------\u001b[0m",
      "\u001b[1;31mModuleNotFoundError\u001b[0m                       Traceback (most recent call last)",
      "\u001b[1;32m<ipython-input-143-ca4ed2f9c0d9>\u001b[0m in \u001b[0;36m<module>\u001b[1;34m()\u001b[0m\n\u001b[1;32m----> 1\u001b[1;33m \u001b[1;32mfrom\u001b[0m \u001b[0mkeras\u001b[0m\u001b[1;33m.\u001b[0m\u001b[0mmodels\u001b[0m \u001b[1;32mimport\u001b[0m \u001b[0mSequential\u001b[0m\u001b[1;33m\u001b[0m\u001b[0m\n\u001b[0m\u001b[0;32m      2\u001b[0m \u001b[1;32mfrom\u001b[0m \u001b[0mkeras\u001b[0m\u001b[1;33m.\u001b[0m\u001b[0mlayers\u001b[0m \u001b[1;32mimport\u001b[0m \u001b[0mDense\u001b[0m\u001b[1;33m,\u001b[0m\u001b[0mActivation\u001b[0m\u001b[1;33m\u001b[0m\u001b[0m\n\u001b[0;32m      3\u001b[0m \u001b[1;32mfrom\u001b[0m \u001b[0mkeras\u001b[0m\u001b[1;33m.\u001b[0m\u001b[0moptimizers\u001b[0m \u001b[1;32mimport\u001b[0m \u001b[0mSGD\u001b[0m\u001b[1;33m\u001b[0m\u001b[0m\n",
      "\u001b[1;31mModuleNotFoundError\u001b[0m: No module named 'keras'"
     ]
    }
   ],
   "source": [
    "from keras.models import Sequential\n",
    "from keras.layers import Dense,Activation\n",
    "from keras.optimizers import SGD"
   ]
  },
  {
   "cell_type": "code",
   "execution_count": null,
   "metadata": {},
   "outputs": [],
   "source": [
    "train_data,test_data,train_target,test_target = train_test_split(iris.data,iris.tatget,test_size=0.2,random_state=1)\n"
   ]
  },
  {
   "cell_type": "code",
   "execution_count": null,
   "metadata": {},
   "outputs": [],
   "source": []
  },
  {
   "cell_type": "code",
   "execution_count": null,
   "metadata": {},
   "outputs": [],
   "source": []
  },
  {
   "cell_type": "code",
   "execution_count": null,
   "metadata": {},
   "outputs": [],
   "source": []
  },
  {
   "cell_type": "code",
   "execution_count": null,
   "metadata": {},
   "outputs": [],
   "source": []
  },
  {
   "cell_type": "code",
   "execution_count": null,
   "metadata": {},
   "outputs": [],
   "source": []
  },
  {
   "cell_type": "code",
   "execution_count": null,
   "metadata": {},
   "outputs": [],
   "source": []
  },
  {
   "cell_type": "code",
   "execution_count": null,
   "metadata": {},
   "outputs": [],
   "source": []
  },
  {
   "cell_type": "code",
   "execution_count": null,
   "metadata": {},
   "outputs": [],
   "source": []
  },
  {
   "cell_type": "code",
   "execution_count": null,
   "metadata": {},
   "outputs": [],
   "source": []
  },
  {
   "cell_type": "code",
   "execution_count": null,
   "metadata": {},
   "outputs": [],
   "source": []
  },
  {
   "cell_type": "code",
   "execution_count": null,
   "metadata": {},
   "outputs": [],
   "source": []
  },
  {
   "cell_type": "code",
   "execution_count": null,
   "metadata": {},
   "outputs": [],
   "source": []
  },
  {
   "cell_type": "code",
   "execution_count": null,
   "metadata": {},
   "outputs": [],
   "source": []
  }
 ],
 "metadata": {
  "kernelspec": {
   "display_name": "Python 3",
   "language": "python",
   "name": "python3"
  },
  "language_info": {
   "codemirror_mode": {
    "name": "ipython",
    "version": 3
   },
   "file_extension": ".py",
   "mimetype": "text/x-python",
   "name": "python",
   "nbconvert_exporter": "python",
   "pygments_lexer": "ipython3",
   "version": "3.6.4"
  }
 },
 "nbformat": 4,
 "nbformat_minor": 2
}
