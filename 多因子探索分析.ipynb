{
 "cells": [
  {
   "cell_type": "code",
   "execution_count": 4,
   "metadata": {},
   "outputs": [],
   "source": [
    "import pandas as pd \n",
    "import numpy as np "
   ]
  },
  {
   "cell_type": "code",
   "execution_count": 5,
   "metadata": {},
   "outputs": [
    {
     "data": {
      "text/html": [
       "<div>\n",
       "<style scoped>\n",
       "    .dataframe tbody tr th:only-of-type {\n",
       "        vertical-align: middle;\n",
       "    }\n",
       "\n",
       "    .dataframe tbody tr th {\n",
       "        vertical-align: top;\n",
       "    }\n",
       "\n",
       "    .dataframe thead th {\n",
       "        text-align: right;\n",
       "    }\n",
       "</style>\n",
       "<table border=\"1\" class=\"dataframe\">\n",
       "  <thead>\n",
       "    <tr style=\"text-align: right;\">\n",
       "      <th></th>\n",
       "      <th>0</th>\n",
       "    </tr>\n",
       "  </thead>\n",
       "  <tbody>\n",
       "    <tr>\n",
       "      <th>0</th>\n",
       "      <td>501.8</td>\n",
       "    </tr>\n",
       "    <tr>\n",
       "      <th>1</th>\n",
       "      <td>502.4</td>\n",
       "    </tr>\n",
       "    <tr>\n",
       "      <th>2</th>\n",
       "      <td>499.0</td>\n",
       "    </tr>\n",
       "    <tr>\n",
       "      <th>3</th>\n",
       "      <td>500.3</td>\n",
       "    </tr>\n",
       "    <tr>\n",
       "      <th>4</th>\n",
       "      <td>504.5</td>\n",
       "    </tr>\n",
       "    <tr>\n",
       "      <th>5</th>\n",
       "      <td>498.2</td>\n",
       "    </tr>\n",
       "    <tr>\n",
       "      <th>6</th>\n",
       "      <td>505.6</td>\n",
       "    </tr>\n",
       "  </tbody>\n",
       "</table>\n",
       "</div>"
      ],
      "text/plain": [
       "       0\n",
       "0  501.8\n",
       "1  502.4\n",
       "2  499.0\n",
       "3  500.3\n",
       "4  504.5\n",
       "5  498.2\n",
       "6  505.6"
      ]
     },
     "execution_count": 5,
     "metadata": {},
     "output_type": "execute_result"
    }
   ],
   "source": [
    "#洗衣粉假设检验\n",
    "df = pd.DataFrame([501.8,502.4,499,500.3,504.5,498.2,505.6])\n",
    "df"
   ]
  },
  {
   "cell_type": "code",
   "execution_count": 6,
   "metadata": {},
   "outputs": [
    {
     "data": {
      "text/html": [
       "<div>\n",
       "<style scoped>\n",
       "    .dataframe tbody tr th:only-of-type {\n",
       "        vertical-align: middle;\n",
       "    }\n",
       "\n",
       "    .dataframe tbody tr th {\n",
       "        vertical-align: top;\n",
       "    }\n",
       "\n",
       "    .dataframe thead th {\n",
       "        text-align: right;\n",
       "    }\n",
       "</style>\n",
       "<table border=\"1\" class=\"dataframe\">\n",
       "  <thead>\n",
       "    <tr style=\"text-align: right;\">\n",
       "      <th></th>\n",
       "      <th>0</th>\n",
       "    </tr>\n",
       "  </thead>\n",
       "  <tbody>\n",
       "    <tr>\n",
       "      <th>0</th>\n",
       "      <td>501.8</td>\n",
       "    </tr>\n",
       "    <tr>\n",
       "      <th>1</th>\n",
       "      <td>502.4</td>\n",
       "    </tr>\n",
       "    <tr>\n",
       "      <th>2</th>\n",
       "      <td>499.0</td>\n",
       "    </tr>\n",
       "    <tr>\n",
       "      <th>3</th>\n",
       "      <td>500.3</td>\n",
       "    </tr>\n",
       "    <tr>\n",
       "      <th>4</th>\n",
       "      <td>504.5</td>\n",
       "    </tr>\n",
       "    <tr>\n",
       "      <th>5</th>\n",
       "      <td>498.2</td>\n",
       "    </tr>\n",
       "    <tr>\n",
       "      <th>6</th>\n",
       "      <td>505.6</td>\n",
       "    </tr>\n",
       "  </tbody>\n",
       "</table>\n",
       "</div>"
      ],
      "text/plain": [
       "       0\n",
       "0  501.8\n",
       "1  502.4\n",
       "2  499.0\n",
       "3  500.3\n",
       "4  504.5\n",
       "5  498.2\n",
       "6  505.6"
      ]
     },
     "execution_count": 6,
     "metadata": {},
     "output_type": "execute_result"
    }
   ],
   "source": [
    "df"
   ]
  },
  {
   "cell_type": "code",
   "execution_count": 7,
   "metadata": {},
   "outputs": [
    {
     "data": {
      "text/plain": [
       "0    2.22999\n",
       "dtype: float64"
      ]
     },
     "execution_count": 7,
     "metadata": {},
     "output_type": "execute_result"
    }
   ],
   "source": [
    "(df.mean()-500)/np.sqrt(2**2/7)  #假设检验量"
   ]
  },
  {
   "cell_type": "code",
   "execution_count": 8,
   "metadata": {},
   "outputs": [
    {
     "data": {
      "text/plain": [
       "0    501.685714\n",
       "dtype: float64"
      ]
     },
     "execution_count": 8,
     "metadata": {},
     "output_type": "execute_result"
    }
   ],
   "source": [
    "df.mean()"
   ]
  },
  {
   "cell_type": "markdown",
   "metadata": {},
   "source": [
    "P值,0.026<0.05,假设不成立"
   ]
  },
  {
   "cell_type": "markdown",
   "metadata": {},
   "source": [
    "### 卡方检验\n",
    "四格检验"
   ]
  },
  {
   "cell_type": "markdown",
   "metadata": {},
   "source": [
    "t分布检验,两组样本\n",
    "f检验,方差分析"
   ]
  },
  {
   "cell_type": "markdown",
   "metadata": {},
   "source": [
    "### 方差检验\n",
    "\n",
    "SST SSM SSE  \n"
   ]
  },
  {
   "cell_type": "markdown",
   "metadata": {},
   "source": [
    "### 相关系数   \n",
    "[-1,1]\n",
    "\n",
    "Pearson相关系数  皮尔逊  \n",
    "\n",
    "\n",
    "Spearman  \n",
    "只和和名次差有关"
   ]
  },
  {
   "cell_type": "markdown",
   "metadata": {},
   "source": [
    "### 线性回归  \n",
    "回归: 确定2种或以上变量间相互依赖的约定量关系  \n",
    "最小二乘法  \n",
    "决定系数:  \n",
    "残差不相关:  \n"
   ]
  },
  {
   "cell_type": "markdown",
   "metadata": {},
   "source": [
    "### 主成分分析  \n",
    "PCA "
   ]
  },
  {
   "cell_type": "markdown",
   "metadata": {},
   "source": [
    "1. 协方差矩阵\n",
    "2. 特征值,特征向量\n",
    "3. \n"
   ]
  },
  {
   "cell_type": "markdown",
   "metadata": {},
   "source": [
    "### 奇异值分解\n"
   ]
  },
  {
   "cell_type": "code",
   "execution_count": 9,
   "metadata": {},
   "outputs": [],
   "source": [
    "import numpy as np \n",
    "import scipy.stats as ss "
   ]
  },
  {
   "cell_type": "code",
   "execution_count": 10,
   "metadata": {},
   "outputs": [],
   "source": [
    "norm_dist = ss.norm.rvs(size=20)"
   ]
  },
  {
   "cell_type": "code",
   "execution_count": 11,
   "metadata": {},
   "outputs": [
    {
     "data": {
      "text/plain": [
       "array([-1.25240029,  1.07827051,  0.90474583, -1.36404336, -2.32996328,\n",
       "       -1.54880045, -2.07811688,  0.94595214, -1.56547698, -0.82799354,\n",
       "       -0.70114724, -2.41484806, -1.29427576,  0.86546996, -1.71721031,\n",
       "       -0.27629003, -2.4307791 ,  0.8729721 ,  0.66547345,  1.58125931])"
      ]
     },
     "execution_count": 11,
     "metadata": {},
     "output_type": "execute_result"
    }
   ],
   "source": [
    "norm_dist"
   ]
  },
  {
   "cell_type": "code",
   "execution_count": 12,
   "metadata": {},
   "outputs": [
    {
     "data": {
      "text/plain": [
       "NormaltestResult(statistic=6.607632137955714, pvalue=0.036742686902429295)"
      ]
     },
     "execution_count": 12,
     "metadata": {},
     "output_type": "execute_result"
    }
   ],
   "source": [
    "ss.normaltest(norm_dist)   #基于偏度峰度的检验法"
   ]
  },
  {
   "cell_type": "code",
   "execution_count": 13,
   "metadata": {},
   "outputs": [
    {
     "data": {
      "text/plain": [
       "(126.08080808080808, 2.9521414005078985e-29, 1, array([[55., 55.],\n",
       "        [45., 45.]]))"
      ]
     },
     "execution_count": 13,
     "metadata": {},
     "output_type": "execute_result"
    }
   ],
   "source": [
    "#卡方\n",
    "ss.chi2_contingency([[15,95],[85,5]])\n",
    "#检验统计量,p值,自由度,理论分布"
   ]
  },
  {
   "cell_type": "code",
   "execution_count": 14,
   "metadata": {},
   "outputs": [
    {
     "data": {
      "text/plain": [
       "Ttest_indResult(statistic=-0.17735055500687985, pvalue=0.8605097852470439)"
      ]
     },
     "execution_count": 14,
     "metadata": {},
     "output_type": "execute_result"
    }
   ],
   "source": [
    "#独立分布t检验\n",
    "ss.ttest_ind(ss.norm.rvs(size=10),ss.norm.rvs(size=20))\n",
    "#检验统计量,p值"
   ]
  },
  {
   "cell_type": "code",
   "execution_count": 15,
   "metadata": {},
   "outputs": [
    {
     "data": {
      "text/plain": [
       "Ttest_indResult(statistic=0.9693539874871974, pvalue=0.3331546876336866)"
      ]
     },
     "execution_count": 15,
     "metadata": {},
     "output_type": "execute_result"
    }
   ],
   "source": [
    "#独立分布t检验\n",
    "ss.ttest_ind(ss.norm.rvs(size=100),ss.norm.rvs(size=200))\n",
    "#检验统计量,p值"
   ]
  },
  {
   "cell_type": "code",
   "execution_count": 16,
   "metadata": {},
   "outputs": [
    {
     "data": {
      "text/plain": [
       "F_onewayResult(statistic=17.619417475728156, pvalue=0.0002687153079821641)"
      ]
     },
     "execution_count": 16,
     "metadata": {},
     "output_type": "execute_result"
    }
   ],
   "source": [
    "#方差检验\n",
    "ss.f_oneway([49, 50, 39,40,43], [28, 32, 30,26,34], [38,40,45,42,48])#F分布检验"
   ]
  },
  {
   "cell_type": "code",
   "execution_count": 17,
   "metadata": {},
   "outputs": [
    {
     "name": "stderr",
     "output_type": "stream",
     "text": [
      "C:\\ProgramData\\Anaconda3\\lib\\site-packages\\statsmodels\\compat\\pandas.py:56: FutureWarning: The pandas.core.datetools module is deprecated and will be removed in a future version. Please use the pandas.tseries module instead.\n",
      "  from pandas.core import datetools\n"
     ]
    }
   ],
   "source": [
    "from statsmodels.graphics.api import qqplot  #检验是否是正态分布, 在对角线上就是\n",
    "import matplotlib.pyplot as plt"
   ]
  },
  {
   "cell_type": "code",
   "execution_count": 18,
   "metadata": {},
   "outputs": [
    {
     "data": {
      "image/png": "[encoded data removed]",
      "text/plain": [
       "<matplotlib.figure.Figure at 0x1f71e00b748>"
      ]
     },
     "metadata": {},
     "output_type": "display_data"
    }
   ],
   "source": [
    "plt.show(qqplot(ss.norm.rvs(size = 100)))"
   ]
  },
  {
   "cell_type": "code",
   "execution_count": 19,
   "metadata": {},
   "outputs": [],
   "source": [
    "import pandas as pd"
   ]
  },
  {
   "cell_type": "code",
   "execution_count": 20,
   "metadata": {},
   "outputs": [
    {
     "data": {
      "text/plain": [
       "0    0.1\n",
       "1    0.2\n",
       "2    1.1\n",
       "3    2.4\n",
       "4    1.3\n",
       "5    0.3\n",
       "6    0.5\n",
       "dtype: float64"
      ]
     },
     "execution_count": 20,
     "metadata": {},
     "output_type": "execute_result"
    }
   ],
   "source": [
    "s1 = pd.Series([0.1, 0.2, 1.1, 2.4, 1.3, 0.3, 0.5])\n",
    "s1"
   ]
  },
  {
   "cell_type": "code",
   "execution_count": 21,
   "metadata": {},
   "outputs": [
    {
     "data": {
      "text/plain": [
       "0    0.5\n",
       "1    0.4\n",
       "2    1.2\n",
       "3    2.5\n",
       "4    1.1\n",
       "5    0.7\n",
       "6    0.1\n",
       "dtype: float64"
      ]
     },
     "execution_count": 21,
     "metadata": {},
     "output_type": "execute_result"
    }
   ],
   "source": [
    "s2 = pd.Series([0.5, 0.4, 1.2, 2.5, 1.1, 0.7, 0.1])\n",
    "s2"
   ]
  },
  {
   "cell_type": "code",
   "execution_count": 22,
   "metadata": {},
   "outputs": [
    {
     "data": {
      "text/plain": [
       "0.7142857142857144"
      ]
     },
     "execution_count": 22,
     "metadata": {},
     "output_type": "execute_result"
    }
   ],
   "source": [
    "s1.corr(s2,method='spearman')"
   ]
  },
  {
   "cell_type": "code",
   "execution_count": 23,
   "metadata": {},
   "outputs": [
    {
     "data": {
      "text/html": [
       "<div>\n",
       "<style scoped>\n",
       "    .dataframe tbody tr th:only-of-type {\n",
       "        vertical-align: middle;\n",
       "    }\n",
       "\n",
       "    .dataframe tbody tr th {\n",
       "        vertical-align: top;\n",
       "    }\n",
       "\n",
       "    .dataframe thead th {\n",
       "        text-align: right;\n",
       "    }\n",
       "</style>\n",
       "<table border=\"1\" class=\"dataframe\">\n",
       "  <thead>\n",
       "    <tr style=\"text-align: right;\">\n",
       "      <th></th>\n",
       "      <th>0</th>\n",
       "      <th>1</th>\n",
       "    </tr>\n",
       "  </thead>\n",
       "  <tbody>\n",
       "    <tr>\n",
       "      <th>0</th>\n",
       "      <td>0.1</td>\n",
       "      <td>0.5</td>\n",
       "    </tr>\n",
       "    <tr>\n",
       "      <th>1</th>\n",
       "      <td>0.2</td>\n",
       "      <td>0.4</td>\n",
       "    </tr>\n",
       "    <tr>\n",
       "      <th>2</th>\n",
       "      <td>1.1</td>\n",
       "      <td>1.2</td>\n",
       "    </tr>\n",
       "    <tr>\n",
       "      <th>3</th>\n",
       "      <td>2.4</td>\n",
       "      <td>2.5</td>\n",
       "    </tr>\n",
       "    <tr>\n",
       "      <th>4</th>\n",
       "      <td>1.3</td>\n",
       "      <td>1.1</td>\n",
       "    </tr>\n",
       "    <tr>\n",
       "      <th>5</th>\n",
       "      <td>0.3</td>\n",
       "      <td>0.7</td>\n",
       "    </tr>\n",
       "    <tr>\n",
       "      <th>6</th>\n",
       "      <td>0.5</td>\n",
       "      <td>0.1</td>\n",
       "    </tr>\n",
       "  </tbody>\n",
       "</table>\n",
       "</div>"
      ],
      "text/plain": [
       "     0    1\n",
       "0  0.1  0.5\n",
       "1  0.2  0.4\n",
       "2  1.1  1.2\n",
       "3  2.4  2.5\n",
       "4  1.3  1.1\n",
       "5  0.3  0.7\n",
       "6  0.5  0.1"
      ]
     },
     "execution_count": 23,
     "metadata": {},
     "output_type": "execute_result"
    }
   ],
   "source": [
    "df = pd.DataFrame(np.array([s1,s2]).T)\n",
    "df"
   ]
  },
  {
   "cell_type": "code",
   "execution_count": 24,
   "metadata": {},
   "outputs": [
    {
     "data": {
      "text/html": [
       "<div>\n",
       "<style scoped>\n",
       "    .dataframe tbody tr th:only-of-type {\n",
       "        vertical-align: middle;\n",
       "    }\n",
       "\n",
       "    .dataframe tbody tr th {\n",
       "        vertical-align: top;\n",
       "    }\n",
       "\n",
       "    .dataframe thead th {\n",
       "        text-align: right;\n",
       "    }\n",
       "</style>\n",
       "<table border=\"1\" class=\"dataframe\">\n",
       "  <thead>\n",
       "    <tr style=\"text-align: right;\">\n",
       "      <th></th>\n",
       "      <th>0</th>\n",
       "      <th>1</th>\n",
       "    </tr>\n",
       "  </thead>\n",
       "  <tbody>\n",
       "    <tr>\n",
       "      <th>0</th>\n",
       "      <td>1.000000</td>\n",
       "      <td>0.714286</td>\n",
       "    </tr>\n",
       "    <tr>\n",
       "      <th>1</th>\n",
       "      <td>0.714286</td>\n",
       "      <td>1.000000</td>\n",
       "    </tr>\n",
       "  </tbody>\n",
       "</table>\n",
       "</div>"
      ],
      "text/plain": [
       "          0         1\n",
       "0  1.000000  0.714286\n",
       "1  0.714286  1.000000"
      ]
     },
     "execution_count": 24,
     "metadata": {},
     "output_type": "execute_result"
    }
   ],
   "source": [
    "df.corr(method='spearman')"
   ]
  },
  {
   "cell_type": "code",
   "execution_count": 25,
   "metadata": {},
   "outputs": [],
   "source": [
    "x = np.arange(10).astype(np.float).reshape((10,1))"
   ]
  },
  {
   "cell_type": "code",
   "execution_count": 26,
   "metadata": {},
   "outputs": [],
   "source": [
    "y = x*3+4+np.random.random((10,1))"
   ]
  },
  {
   "cell_type": "code",
   "execution_count": 27,
   "metadata": {},
   "outputs": [
    {
     "data": {
      "text/plain": [
       "array([[0.],\n",
       "       [1.],\n",
       "       [2.],\n",
       "       [3.],\n",
       "       [4.],\n",
       "       [5.],\n",
       "       [6.],\n",
       "       [7.],\n",
       "       [8.],\n",
       "       [9.]])"
      ]
     },
     "execution_count": 27,
     "metadata": {},
     "output_type": "execute_result"
    }
   ],
   "source": [
    "x"
   ]
  },
  {
   "cell_type": "code",
   "execution_count": 28,
   "metadata": {},
   "outputs": [
    {
     "data": {
      "text/plain": [
       "array([[ 4.76965699],\n",
       "       [ 7.79887651],\n",
       "       [10.45730905],\n",
       "       [13.4101049 ],\n",
       "       [16.44017379],\n",
       "       [19.63268741],\n",
       "       [22.33012074],\n",
       "       [25.01414168],\n",
       "       [28.07055481],\n",
       "       [31.17873077]])"
      ]
     },
     "execution_count": 28,
     "metadata": {},
     "output_type": "execute_result"
    }
   ],
   "source": [
    "y"
   ]
  },
  {
   "cell_type": "code",
   "execution_count": 29,
   "metadata": {},
   "outputs": [],
   "source": [
    "from sklearn.linear_model import  LinearRegression"
   ]
  },
  {
   "cell_type": "code",
   "execution_count": 30,
   "metadata": {},
   "outputs": [],
   "source": [
    "reg = LinearRegression()"
   ]
  },
  {
   "cell_type": "code",
   "execution_count": 31,
   "metadata": {},
   "outputs": [],
   "source": [
    "res = reg.fit(x,y)  #拟合"
   ]
  },
  {
   "cell_type": "code",
   "execution_count": 32,
   "metadata": {},
   "outputs": [],
   "source": [
    "y_pred = reg.predict(x)"
   ]
  },
  {
   "cell_type": "code",
   "execution_count": 33,
   "metadata": {},
   "outputs": [
    {
     "data": {
      "text/plain": [
       "array([[ 4.75605013],\n",
       "       [ 7.67920247],\n",
       "       [10.60235481],\n",
       "       [13.52550715],\n",
       "       [16.4486595 ],\n",
       "       [19.37181184],\n",
       "       [22.29496418],\n",
       "       [25.21811652],\n",
       "       [28.14126886],\n",
       "       [31.0644212 ]])"
      ]
     },
     "execution_count": 33,
     "metadata": {},
     "output_type": "execute_result"
    }
   ],
   "source": [
    "y_pred"
   ]
  },
  {
   "cell_type": "code",
   "execution_count": 34,
   "metadata": {},
   "outputs": [
    {
     "data": {
      "text/plain": [
       "array([[2.92315234]])"
      ]
     },
     "execution_count": 34,
     "metadata": {},
     "output_type": "execute_result"
    }
   ],
   "source": [
    "reg.coef_     #参数"
   ]
  },
  {
   "cell_type": "code",
   "execution_count": 35,
   "metadata": {},
   "outputs": [
    {
     "data": {
      "text/plain": [
       "array([4.75605013])"
      ]
     },
     "execution_count": 35,
     "metadata": {},
     "output_type": "execute_result"
    }
   ],
   "source": [
    "reg.intercept_   #截距"
   ]
  },
  {
   "cell_type": "code",
   "execution_count": 36,
   "metadata": {},
   "outputs": [
    {
     "data": {
      "text/html": [
       "<div>\n",
       "<style scoped>\n",
       "    .dataframe tbody tr th:only-of-type {\n",
       "        vertical-align: middle;\n",
       "    }\n",
       "\n",
       "    .dataframe tbody tr th {\n",
       "        vertical-align: top;\n",
       "    }\n",
       "\n",
       "    .dataframe thead th {\n",
       "        text-align: right;\n",
       "    }\n",
       "</style>\n",
       "<table border=\"1\" class=\"dataframe\">\n",
       "  <thead>\n",
       "    <tr style=\"text-align: right;\">\n",
       "      <th></th>\n",
       "      <th>0</th>\n",
       "      <th>1</th>\n",
       "    </tr>\n",
       "  </thead>\n",
       "  <tbody>\n",
       "    <tr>\n",
       "      <th>0</th>\n",
       "      <td>2.5</td>\n",
       "      <td>2.4</td>\n",
       "    </tr>\n",
       "    <tr>\n",
       "      <th>1</th>\n",
       "      <td>0.5</td>\n",
       "      <td>0.7</td>\n",
       "    </tr>\n",
       "    <tr>\n",
       "      <th>2</th>\n",
       "      <td>2.2</td>\n",
       "      <td>2.9</td>\n",
       "    </tr>\n",
       "    <tr>\n",
       "      <th>3</th>\n",
       "      <td>1.9</td>\n",
       "      <td>2.2</td>\n",
       "    </tr>\n",
       "    <tr>\n",
       "      <th>4</th>\n",
       "      <td>3.1</td>\n",
       "      <td>3.0</td>\n",
       "    </tr>\n",
       "    <tr>\n",
       "      <th>5</th>\n",
       "      <td>2.3</td>\n",
       "      <td>2.7</td>\n",
       "    </tr>\n",
       "    <tr>\n",
       "      <th>6</th>\n",
       "      <td>2.0</td>\n",
       "      <td>1.6</td>\n",
       "    </tr>\n",
       "    <tr>\n",
       "      <th>7</th>\n",
       "      <td>1.0</td>\n",
       "      <td>1.1</td>\n",
       "    </tr>\n",
       "    <tr>\n",
       "      <th>8</th>\n",
       "      <td>1.5</td>\n",
       "      <td>1.6</td>\n",
       "    </tr>\n",
       "    <tr>\n",
       "      <th>9</th>\n",
       "      <td>1.1</td>\n",
       "      <td>0.9</td>\n",
       "    </tr>\n",
       "  </tbody>\n",
       "</table>\n",
       "</div>"
      ],
      "text/plain": [
       "     0    1\n",
       "0  2.5  2.4\n",
       "1  0.5  0.7\n",
       "2  2.2  2.9\n",
       "3  1.9  2.2\n",
       "4  3.1  3.0\n",
       "5  2.3  2.7\n",
       "6  2.0  1.6\n",
       "7  1.0  1.1\n",
       "8  1.5  1.6\n",
       "9  1.1  0.9"
      ]
     },
     "execution_count": 36,
     "metadata": {},
     "output_type": "execute_result"
    }
   ],
   "source": [
    "data = pd.DataFrame(np.array([np.array([2.5, 0.5, 2.2, 1.9, 3.1, 2.3, 2, 1, 1.5, 1.1]),\n",
    "                                np.array([2.4, 0.7, 2.9, 2.2, 3, 2.7, 1.6, 1.1, 1.6, 0.9])]).T)\n",
    "data"
   ]
  },
  {
   "cell_type": "code",
   "execution_count": 37,
   "metadata": {},
   "outputs": [],
   "source": [
    "#pca\n",
    "from sklearn.decomposition import PCA"
   ]
  },
  {
   "cell_type": "code",
   "execution_count": 38,
   "metadata": {},
   "outputs": [],
   "source": [
    "lower_dim = PCA(n_components=1)"
   ]
  },
  {
   "cell_type": "code",
   "execution_count": 39,
   "metadata": {},
   "outputs": [
    {
     "data": {
      "text/plain": [
       "PCA(copy=True, iterated_power='auto', n_components=1, random_state=None,\n",
       "  svd_solver='auto', tol=0.0, whiten=False)"
      ]
     },
     "execution_count": 39,
     "metadata": {},
     "output_type": "execute_result"
    }
   ],
   "source": [
    "lower_dim.fit(data)"
   ]
  },
  {
   "cell_type": "code",
   "execution_count": 40,
   "metadata": {},
   "outputs": [
    {
     "name": "stdout",
     "output_type": "stream",
     "text": [
      "PCA\n",
      "[0.96318131]\n",
      "[1.28402771]\n"
     ]
    }
   ],
   "source": [
    "print(\"PCA\")\n",
    "print(lower_dim.explained_variance_ratio_)\n",
    "print(lower_dim.explained_variance_)"
   ]
  },
  {
   "cell_type": "code",
   "execution_count": 41,
   "metadata": {},
   "outputs": [
    {
     "data": {
      "text/plain": [
       "array([[-0.82797019],\n",
       "       [ 1.77758033],\n",
       "       [-0.99219749],\n",
       "       [-0.27421042],\n",
       "       [-1.67580142],\n",
       "       [-0.9129491 ],\n",
       "       [ 0.09910944],\n",
       "       [ 1.14457216],\n",
       "       [ 0.43804614],\n",
       "       [ 1.22382056]])"
      ]
     },
     "execution_count": 41,
     "metadata": {},
     "output_type": "execute_result"
    }
   ],
   "source": [
    "lower_dim.fit_transform(data)"
   ]
  },
  {
   "cell_type": "code",
   "execution_count": 42,
   "metadata": {},
   "outputs": [
    {
     "name": "stdout",
     "output_type": "stream",
     "text": [
      "[0.0490834 +0.j 1.28402771+0.j]\n",
      "[[-0.73517866 -0.6778734 ]\n",
      " [ 0.6778734  -0.73517866]]\n",
      "[0 1]\n",
      "[1]\n"
     ]
    },
    {
     "data": {
      "text/plain": [
       "(array([[-0.82797019],\n",
       "        [ 1.77758033],\n",
       "        [-0.99219749],\n",
       "        [-0.27421042],\n",
       "        [-1.67580142],\n",
       "        [-0.9129491 ],\n",
       "        [ 0.09910944],\n",
       "        [ 1.14457216],\n",
       "        [ 0.43804614],\n",
       "        [ 1.22382056]]), array([0.0490834 +0.j, 1.28402771+0.j]))"
      ]
     },
     "execution_count": 42,
     "metadata": {},
     "output_type": "execute_result"
    }
   ],
   "source": [
    "def myPCA(data,n_components=100000000000000):\n",
    "    mean_vals = np.mean(data,axis=0)\n",
    "    mid = data-mean_vals\n",
    "    cov_mat = np.cov(mid,rowvar = False)   #协方差\n",
    "    from scipy import linalg\n",
    "    eig_vals,eig_vects = linalg.eig(np.mat(cov_mat))   #协方差特征值,特征向量\n",
    "    print(eig_vals)\n",
    "    print(eig_vects)\n",
    "    eig_val_index = np.argsort(eig_vals)  #排序后的索引\n",
    "    print(eig_val_index)\n",
    "    eig_val_index = eig_val_index[:-(n_components+1):-1]\n",
    "    print(eig_val_index)\n",
    "    eig_vects = eig_vects[:,eig_val_index]\n",
    "    lower_dim_mat = np.dot(mid,eig_vects)   \n",
    "    return lower_dim_mat,eig_vals\n",
    "data = pd.DataFrame(np.array([np.array([2.5, 0.5, 2.2, 1.9, 3.1, 2.3, 2, 1, 1.5, 1.1]),\n",
    "                                    np.array([2.4, 0.7, 2.9, 2.2, 3, 2.7, 1.6, 1.1, 1.6, 0.9])]).T)\n",
    "myPCA(data,n_components=1)"
   ]
  },
  {
   "cell_type": "markdown",
   "metadata": {},
   "source": [
    "奇异值降维,主成分分析"
   ]
  },
  {
   "cell_type": "markdown",
   "metadata": {},
   "source": [
    "### 复合分析"
   ]
  },
  {
   "cell_type": "code",
   "execution_count": 43,
   "metadata": {},
   "outputs": [],
   "source": [
    "import scipy.stats as ss\n",
    "import pandas as pd\n",
    "import seaborn as sns\n",
    "import matplotlib.pyplot as plt"
   ]
  },
  {
   "cell_type": "code",
   "execution_count": 44,
   "metadata": {},
   "outputs": [
    {
     "data": {
      "text/html": [
       "<div>\n",
       "<style scoped>\n",
       "    .dataframe tbody tr th:only-of-type {\n",
       "        vertical-align: middle;\n",
       "    }\n",
       "\n",
       "    .dataframe tbody tr th {\n",
       "        vertical-align: top;\n",
       "    }\n",
       "\n",
       "    .dataframe thead th {\n",
       "        text-align: right;\n",
       "    }\n",
       "</style>\n",
       "<table border=\"1\" class=\"dataframe\">\n",
       "  <thead>\n",
       "    <tr style=\"text-align: right;\">\n",
       "      <th></th>\n",
       "      <th>satisfaction_level</th>\n",
       "      <th>last_evaluation</th>\n",
       "      <th>number_project</th>\n",
       "      <th>average_monthly_hours</th>\n",
       "      <th>time_spend_company</th>\n",
       "      <th>Work_accident</th>\n",
       "      <th>left</th>\n",
       "      <th>promotion_last_5years</th>\n",
       "      <th>department</th>\n",
       "      <th>salary</th>\n",
       "    </tr>\n",
       "  </thead>\n",
       "  <tbody>\n",
       "    <tr>\n",
       "      <th>0</th>\n",
       "      <td>0.38</td>\n",
       "      <td>0.53</td>\n",
       "      <td>2</td>\n",
       "      <td>157</td>\n",
       "      <td>3</td>\n",
       "      <td>0</td>\n",
       "      <td>1</td>\n",
       "      <td>0</td>\n",
       "      <td>sales</td>\n",
       "      <td>low</td>\n",
       "    </tr>\n",
       "    <tr>\n",
       "      <th>1</th>\n",
       "      <td>0.80</td>\n",
       "      <td>0.86</td>\n",
       "      <td>5</td>\n",
       "      <td>262</td>\n",
       "      <td>6</td>\n",
       "      <td>0</td>\n",
       "      <td>1</td>\n",
       "      <td>0</td>\n",
       "      <td>sales</td>\n",
       "      <td>medium</td>\n",
       "    </tr>\n",
       "    <tr>\n",
       "      <th>2</th>\n",
       "      <td>0.11</td>\n",
       "      <td>0.88</td>\n",
       "      <td>7</td>\n",
       "      <td>272</td>\n",
       "      <td>4</td>\n",
       "      <td>0</td>\n",
       "      <td>1</td>\n",
       "      <td>0</td>\n",
       "      <td>sales</td>\n",
       "      <td>medium</td>\n",
       "    </tr>\n",
       "    <tr>\n",
       "      <th>3</th>\n",
       "      <td>0.72</td>\n",
       "      <td>0.87</td>\n",
       "      <td>5</td>\n",
       "      <td>223</td>\n",
       "      <td>5</td>\n",
       "      <td>0</td>\n",
       "      <td>1</td>\n",
       "      <td>0</td>\n",
       "      <td>sales</td>\n",
       "      <td>low</td>\n",
       "    </tr>\n",
       "    <tr>\n",
       "      <th>4</th>\n",
       "      <td>0.37</td>\n",
       "      <td>0.52</td>\n",
       "      <td>2</td>\n",
       "      <td>159</td>\n",
       "      <td>3</td>\n",
       "      <td>0</td>\n",
       "      <td>1</td>\n",
       "      <td>0</td>\n",
       "      <td>sales</td>\n",
       "      <td>low</td>\n",
       "    </tr>\n",
       "  </tbody>\n",
       "</table>\n",
       "</div>"
      ],
      "text/plain": [
       "   satisfaction_level  last_evaluation  number_project  average_monthly_hours  \\\n",
       "0                0.38             0.53               2                    157   \n",
       "1                0.80             0.86               5                    262   \n",
       "2                0.11             0.88               7                    272   \n",
       "3                0.72             0.87               5                    223   \n",
       "4                0.37             0.52               2                    159   \n",
       "\n",
       "   time_spend_company  Work_accident  left  promotion_last_5years department  \\\n",
       "0                   3              0     1                      0      sales   \n",
       "1                   6              0     1                      0      sales   \n",
       "2                   4              0     1                      0      sales   \n",
       "3                   5              0     1                      0      sales   \n",
       "4                   3              0     1                      0      sales   \n",
       "\n",
       "   salary  \n",
       "0     low  \n",
       "1  medium  \n",
       "2  medium  \n",
       "3     low  \n",
       "4     low  "
      ]
     },
     "execution_count": 44,
     "metadata": {},
     "output_type": "execute_result"
    }
   ],
   "source": [
    "df = pd.read_csv('./data/HR.csv')\n",
    "df.head()\n",
    "# print(type(df[['satisfaction_level']].head()))\n",
    "# df[['satisfaction_level'][0]].head()\n",
    "df[['satisfaction_level'][0]]\n",
    "\n",
    "df.head()\n",
    "# df['left'].value_counts()"
   ]
  },
  {
   "cell_type": "markdown",
   "metadata": {},
   "source": [
    "t检验"
   ]
  },
  {
   "cell_type": "code",
   "execution_count": 45,
   "metadata": {},
   "outputs": [
    {
     "data": {
      "text/plain": [
       "{'IT': array([   61,    62,    63, ..., 14932, 14933, 14938], dtype=int64),\n",
       " 'RandD': array([  301,   302,   303,   304,   305,   453,   454,   455,   456,\n",
       "          457,   605,   606,   607,   608,   609,   833,   834,   835,\n",
       "          836,   837,   985,   986,   987,   988,   989,  1061,  1062,\n",
       "         1063,  1064,  1065,  1217,  1218,  1219,  1291,  1292,  1293,\n",
       "         1294,  1295,  1296,  1368,  1369,  1370,  1371,  1372,  1373,\n",
       "         1445,  1446,  1447,  1448,  1449,  1450,  1522,  1523,  1524,\n",
       "         1525,  1526,  1598,  1599,  1600,  1601,  1602,  1675,  1676,\n",
       "         1677,  1678,  1679,  1751,  1752,  1753,  1754,  1755,  1827,\n",
       "         1828,  1829,  1830,  1831,  1903,  1904,  1905,  1906,  1907,\n",
       "         1979,  1980,  1981,  1982,  1983,  2055,  2056,  2057,  2058,\n",
       "         2059,  2131,  2132,  2133,  2134,  2135,  2207,  2208,  2209,\n",
       "         2210,  2211,  2283,  2284,  2285,  2286,  2287,  2359,  2360,\n",
       "         2361,  2362,  2363,  2435,  2436,  2437,  2438,  2439,  2511,\n",
       "         2512,  2513,  2514,  2515,  2588,  2589,  2590,  2591,  2592,\n",
       "         2593,  2665,  2666,  2667,  2668,  2669,  2670,  2742,  2743,\n",
       "         2744,  2745,  2746,  2747,  2819,  2820,  2821,  2822,  2823,\n",
       "         2824,  2896,  2897,  2898,  2899,  2900,  2972,  2973,  2974,\n",
       "         2975,  2976,  3049,  3050,  3051,  3052,  3053,  3125,  3126,\n",
       "         3127,  3128,  3129,  3201,  3202,  3203,  3204,  3205,  3277,\n",
       "         3278,  3279,  3280,  3281,  3353,  3354,  3355,  3356,  3357,\n",
       "         3429,  3430,  3431,  3432,  3433,  3505,  3506,  3507,  3508,\n",
       "         3509,  3581,  3582,  3583,  3584,  3585,  3657,  3658,  3659,\n",
       "         3660,  3661,  3733,  3734,  3735,  3736,  3737,  3809,  3810,\n",
       "         3811,  3812,  3813,  3885,  3886,  3887,  3888,  3889,  3962,\n",
       "         3963,  3964,  3965,  3966,  3967,  4039,  4040,  4041,  4042,\n",
       "         4043,  4044,  4116,  4117,  4118,  4119,  4120,  4121,  4193,\n",
       "         4194,  4195,  4196,  4197,  4198,  4270,  4271,  4272,  4273,\n",
       "         4274,  4346,  4347,  4348,  4349,  4350,  4423,  4424,  4425,\n",
       "         4426,  4427,  4499,  4500,  4501,  4502,  4503,  4575,  4576,\n",
       "         4577,  4578,  4579,  4651,  4652,  4653,  4654,  4655,  4727,\n",
       "         4728,  4729,  4730,  4731,  4803,  4804,  4805,  4806,  4807,\n",
       "         4879,  4880,  4881,  4882,  4883,  4955,  4956,  4957,  4958,\n",
       "         4959,  5031,  5032,  5033,  5034,  5035,  5107,  5108,  5109,\n",
       "         5110,  5111,  5183,  5184,  5185,  5186,  5187,  5259,  5260,\n",
       "         5261,  5262,  5263,  5336,  5337,  5338,  5339,  5340,  5341,\n",
       "         5413,  5414,  5415,  5416,  5417,  5418,  5490,  5491,  5492,\n",
       "         5493,  5494,  5495,  5567,  5568,  5569,  5570,  5571,  5572,\n",
       "         5644,  5645,  5646,  5647,  5648,  5720,  5721,  5722,  5723,\n",
       "         5724,  5797,  5798,  5799,  5800,  5801,  5873,  5874,  5875,\n",
       "         5876,  5877,  5949,  5950,  5951,  5952,  5953,  6025,  6026,\n",
       "         6027,  6028,  6029,  6101,  6102,  6103,  6104,  6105,  6177,\n",
       "         6178,  6179,  6180,  6181,  6253,  6254,  6255,  6256,  6257,\n",
       "         6329,  6330,  6331,  6332,  6333,  6405,  6406,  6407,  6408,\n",
       "         6409,  6481,  6482,  6483,  6484,  6485,  6557,  6558,  6559,\n",
       "         6560,  6561,  6633,  6634,  6635,  6636,  6637,  6710,  6711,\n",
       "         6712,  6713,  6714,  6715,  6787,  6788,  6789,  6790,  6791,\n",
       "         6792,  6864,  6865,  6866,  6867,  6868,  6869,  6941,  6942,\n",
       "         6943,  6944,  6945,  6946,  7018,  7019,  7020,  7021,  7022,\n",
       "         7094,  7095,  7096,  7097,  7098,  7171,  7172,  7173,  7174,\n",
       "         7175,  7247,  7248,  7249,  7250,  7251,  7323,  7324,  7325,\n",
       "         7326,  7327,  7399,  7400,  7401,  7402,  7403,  7475,  7476,\n",
       "         7477,  7478,  7479,  7551,  7552,  7553,  7554,  7555,  7627,\n",
       "         7628,  7629,  7630,  7631,  7703,  7704,  7705,  7706,  7707,\n",
       "         7779,  7780,  7781,  7782,  7783,  7855,  7856,  7857,  7858,\n",
       "         7859,  7931,  7932,  7933,  7934,  7935,  8007,  8008,  8009,\n",
       "         8010,  8011,  8084,  8085,  8086,  8087,  8088,  8089,  8161,\n",
       "         8162,  8163,  8164,  8165,  8166,  8238,  8239,  8240,  8241,\n",
       "         8242,  8243,  8315,  8316,  8317,  8318,  8319,  8320,  8392,\n",
       "         8393,  8394,  8395,  8396,  8468,  8469,  8470,  8471,  8472,\n",
       "         8545,  8546,  8547,  8548,  8549,  8621,  8622,  8623,  8624,\n",
       "         8625,  8697,  8698,  8699,  8700,  8701,  8773,  8774,  8775,\n",
       "         8776,  8777,  8849,  8850,  8851,  8852,  8853,  8925,  8926,\n",
       "         8927,  8928,  8929,  9001,  9002,  9003,  9004,  9005,  9077,\n",
       "         9078,  9079,  9080,  9081,  9153,  9154,  9155,  9156,  9157,\n",
       "         9229,  9230,  9231,  9232,  9233,  9305,  9306,  9307,  9308,\n",
       "         9309,  9381,  9382,  9383,  9384,  9385,  9535,  9536,  9537,\n",
       "         9538,  9539,  9540,  9689,  9690,  9691,  9692,  9693,  9694,\n",
       "         9766,  9767,  9768,  9769,  9770, 10147, 10148, 10149, 10150,\n",
       "        10151, 10223, 10224, 10225, 10226, 10227, 10299, 10300, 10301,\n",
       "        10302, 10303, 10375, 10376, 10377, 10378, 10379, 10451, 10452,\n",
       "        10453, 10454, 10455, 10527, 10528, 10529, 10530, 10531, 10603,\n",
       "        10604, 10605, 10606, 10607, 10679, 10680, 10681, 10682, 10683,\n",
       "        10755, 10756, 10757, 10758, 10759, 10832, 10833, 10834, 10835,\n",
       "        10836, 10837, 10909, 10910, 10911, 10912, 10913, 10914, 10986,\n",
       "        10987, 10988, 10989, 10990, 10991, 11001, 11002, 11003, 11004,\n",
       "        11005, 11006, 11179, 11180, 11181, 11182, 11183, 11184, 11478,\n",
       "        11479, 11480, 11481, 11482, 11483, 11659, 11660, 11661, 11662,\n",
       "        11663, 11664, 12301, 12302, 12303, 12304, 12305, 12453, 12454,\n",
       "        12455, 12456, 12457, 12605, 12606, 12607, 12608, 12609, 12814,\n",
       "        12815, 12816, 12817, 12818, 12890, 12891, 12892, 12893, 12894,\n",
       "        12966, 12967, 12968, 12969, 12970, 13043, 13044, 13045, 13046,\n",
       "        13047, 13048, 13120, 13121, 13122, 13123, 13124, 13125, 13197,\n",
       "        13198, 13199, 13200, 13201, 13202, 13212, 13213, 13214, 13215,\n",
       "        13216, 13217, 13390, 13391, 13392, 13393, 13394, 13395, 13689,\n",
       "        13690, 13691, 13692, 13693, 13694, 13870, 13871, 13872, 13873,\n",
       "        13874, 13875, 14512, 14513, 14514, 14515, 14516, 14664, 14665,\n",
       "        14666, 14667, 14668, 14816, 14817, 14818, 14819, 14820, 14939,\n",
       "        14940, 14941, 14942, 14943], dtype=int64),\n",
       " 'accounting': array([   28,    29,    30,    79,   105,   106,   107,   155,   181,\n",
       "          182,   183,   224,   225,   232,   258,   259,   260,   308,\n",
       "          334,   335,   336,   377,   378,   384,   410,   411,   412,\n",
       "          460,   486,   487,   488,   529,   530,   536,   562,   563,\n",
       "          564,   612,   638,   639,   640,   688,   714,   715,   716,\n",
       "          764,   790,   791,   792,   840,   866,   867,   868,   916,\n",
       "          942,   943,   944,   992,  1018,  1019,  1020,  1068,  1094,\n",
       "         1095,  1096,  1145,  1171,  1172,  1173,  1222,  1248,  1249,\n",
       "         1250,  1299,  1325,  1326,  1327,  1376,  1402,  1403,  1404,\n",
       "         1453,  1479,  1480,  1481,  1529,  1555,  1556,  1557,  1606,\n",
       "         1632,  1633,  1634,  1682,  1708,  1709,  1710,  1758,  1784,\n",
       "         1785,  1786,  1834,  1860,  1861,  1862,  1910,  1936,  1937,\n",
       "         1938,  1986,  2012,  2013,  2014,  2062,  2088,  2089,  2090,\n",
       "         2138,  2164,  2165,  2166,  2214,  2240,  2241,  2242,  2290,\n",
       "         2316,  2317,  2318,  2366,  2392,  2393,  2394,  2442,  2468,\n",
       "         2469,  2470,  2519,  2545,  2546,  2547,  2596,  2622,  2623,\n",
       "         2624,  2673,  2699,  2700,  2701,  2750,  2776,  2777,  2778,\n",
       "         2827,  2853,  2854,  2855,  2903,  2929,  2930,  2931,  2980,\n",
       "         3006,  3007,  3008,  3056,  3082,  3083,  3084,  3132,  3158,\n",
       "         3159,  3160,  3208,  3234,  3235,  3236,  3284,  3310,  3311,\n",
       "         3312,  3360,  3386,  3387,  3388,  3436,  3462,  3463,  3464,\n",
       "         3512,  3538,  3539,  3540,  3588,  3614,  3615,  3616,  3664,\n",
       "         3690,  3691,  3692,  3740,  3766,  3767,  3768,  3816,  3842,\n",
       "         3843,  3844,  3893,  3919,  3920,  3921,  3970,  3996,  3997,\n",
       "         3998,  4047,  4073,  4074,  4075,  4124,  4150,  4151,  4152,\n",
       "         4201,  4227,  4228,  4229,  4277,  4303,  4304,  4305,  4354,\n",
       "         4380,  4381,  4382,  4430,  4456,  4457,  4458,  4506,  4532,\n",
       "         4533,  4534,  4582,  4608,  4609,  4610,  4658,  4684,  4685,\n",
       "         4686,  4734,  4760,  4761,  4762,  4810,  4836,  4837,  4838,\n",
       "         4886,  4912,  4913,  4914,  4962,  4988,  4989,  4990,  5038,\n",
       "         5064,  5065,  5066,  5114,  5140,  5141,  5142,  5190,  5216,\n",
       "         5217,  5218,  5267,  5293,  5294,  5295,  5344,  5370,  5371,\n",
       "         5372,  5421,  5447,  5448,  5449,  5498,  5524,  5525,  5526,\n",
       "         5575,  5601,  5602,  5603,  5651,  5677,  5678,  5679,  5728,\n",
       "         5754,  5755,  5756,  5804,  5830,  5831,  5832,  5880,  5906,\n",
       "         5907,  5908,  5956,  5982,  5983,  5984,  6032,  6058,  6059,\n",
       "         6060,  6108,  6134,  6135,  6136,  6184,  6210,  6211,  6212,\n",
       "         6260,  6286,  6287,  6288,  6336,  6362,  6363,  6364,  6412,\n",
       "         6438,  6439,  6440,  6488,  6514,  6515,  6516,  6564,  6590,\n",
       "         6591,  6592,  6641,  6667,  6668,  6669,  6718,  6744,  6745,\n",
       "         6746,  6795,  6821,  6822,  6823,  6872,  6898,  6899,  6900,\n",
       "         6949,  6975,  6976,  6977,  7025,  7051,  7052,  7053,  7102,\n",
       "         7128,  7129,  7130,  7178,  7204,  7205,  7206,  7254,  7280,\n",
       "         7281,  7282,  7330,  7356,  7357,  7358,  7406,  7432,  7433,\n",
       "         7434,  7482,  7508,  7509,  7510,  7558,  7584,  7585,  7586,\n",
       "         7634,  7660,  7661,  7662,  7710,  7736,  7737,  7738,  7786,\n",
       "         7812,  7813,  7814,  7862,  7888,  7889,  7890,  7938,  7964,\n",
       "         7965,  7966,  8015,  8041,  8042,  8043,  8092,  8118,  8119,\n",
       "         8120,  8169,  8195,  8196,  8197,  8246,  8272,  8273,  8274,\n",
       "         8323,  8349,  8350,  8351,  8399,  8425,  8426,  8427,  8476,\n",
       "         8502,  8503,  8504,  8552,  8578,  8579,  8580,  8628,  8654,\n",
       "         8655,  8656,  8704,  8730,  8731,  8732,  8780,  8806,  8807,\n",
       "         8808,  8856,  8882,  8883,  8884,  8932,  8958,  8959,  8960,\n",
       "         9008,  9034,  9035,  9036,  9084,  9110,  9111,  9112,  9160,\n",
       "         9186,  9187,  9188,  9236,  9262,  9263,  9264,  9312,  9338,\n",
       "         9339,  9340,  9389,  9415,  9416,  9417,  9466,  9492,  9493,\n",
       "         9494,  9543,  9569,  9570,  9571,  9613,  9614,  9620,  9646,\n",
       "         9647,  9648,  9697,  9723,  9724,  9725,  9773,  9799,  9800,\n",
       "         9801,  9843,  9844,  9850,  9876,  9877,  9878,  9920,  9921,\n",
       "         9926,  9952,  9953,  9954,  9996,  9997, 10002, 10028, 10029,\n",
       "        10030, 10072, 10073, 10078, 10104, 10105, 10106, 10154, 10180,\n",
       "        10181, 10182, 10230, 10256, 10257, 10258, 10306, 10332, 10333,\n",
       "        10334, 10382, 10408, 10409, 10410, 10458, 10484, 10485, 10486,\n",
       "        10534, 10560, 10561, 10562, 10610, 10636, 10637, 10638, 10686,\n",
       "        10712, 10713, 10714, 10763, 10789, 10790, 10791, 10840, 10866,\n",
       "        10867, 10868, 10917, 10943, 10944, 10945, 11009, 11035, 11036,\n",
       "        11037, 11101, 11127, 11128, 11129, 11187, 11213, 11214, 11215,\n",
       "        11277, 11303, 11304, 11305, 11400, 11429, 11457, 11486, 11581,\n",
       "        11610, 11638, 11667, 11762, 11791, 11819, 11848, 11943, 11971,\n",
       "        11972, 12028, 12029, 12030, 12079, 12105, 12106, 12107, 12155,\n",
       "        12181, 12182, 12183, 12224, 12225, 12232, 12258, 12259, 12260,\n",
       "        12308, 12334, 12335, 12336, 12377, 12378, 12384, 12410, 12411,\n",
       "        12412, 12460, 12486, 12487, 12488, 12529, 12530, 12536, 12562,\n",
       "        12563, 12564, 12612, 12638, 12639, 12640, 12688, 12714, 12715,\n",
       "        12716, 12764, 12821, 12847, 12848, 12849, 12897, 12923, 12924,\n",
       "        12925, 12974, 13000, 13001, 13002, 13051, 13077, 13078, 13079,\n",
       "        13128, 13154, 13155, 13156, 13220, 13246, 13247, 13248, 13312,\n",
       "        13338, 13339, 13340, 13398, 13424, 13425, 13426, 13488, 13514,\n",
       "        13515, 13516, 13611, 13640, 13668, 13697, 13792, 13821, 13849,\n",
       "        13878, 13973, 14002, 14030, 14059, 14154, 14182, 14183, 14239,\n",
       "        14240, 14241, 14290, 14316, 14317, 14318, 14366, 14392, 14393,\n",
       "        14394, 14435, 14436, 14443, 14469, 14470, 14471, 14519, 14545,\n",
       "        14546, 14547, 14588, 14589, 14595, 14621, 14622, 14623, 14671,\n",
       "        14697, 14698, 14699, 14740, 14741, 14747, 14773, 14774, 14775,\n",
       "        14823, 14849, 14850, 14851, 14896, 14897, 14898, 14946, 14972,\n",
       "        14973, 14974], dtype=int64),\n",
       " 'hr': array([   31,    32,    33,    34,   108,   109,   110,   111,   184,\n",
       "          185,   186,   187,   226,   227,   228,   261,   262,   263,\n",
       "          264,   337,   338,   339,   340,   379,   380,   381,   413,\n",
       "          414,   415,   416,   489,   490,   491,   492,   531,   532,\n",
       "          533,   565,   566,   567,   568,   641,   642,   643,   644,\n",
       "          717,   718,   719,   720,   793,   794,   795,   796,   869,\n",
       "          870,   871,   872,   945,   946,   947,   948,  1021,  1022,\n",
       "         1023,  1024,  1097,  1098,  1099,  1100,  1174,  1175,  1176,\n",
       "         1177,  1251,  1252,  1253,  1254,  1328,  1329,  1330,  1331,\n",
       "         1405,  1406,  1407,  1408,  1482,  1483,  1484,  1485,  1558,\n",
       "         1559,  1560,  1561,  1635,  1636,  1637,  1638,  1711,  1712,\n",
       "         1713,  1714,  1787,  1788,  1789,  1790,  1863,  1864,  1865,\n",
       "         1866,  1939,  1940,  1941,  1942,  2015,  2016,  2017,  2018,\n",
       "         2091,  2092,  2093,  2094,  2167,  2168,  2169,  2170,  2243,\n",
       "         2244,  2245,  2246,  2319,  2320,  2321,  2322,  2395,  2396,\n",
       "         2397,  2398,  2471,  2472,  2473,  2474,  2548,  2549,  2550,\n",
       "         2551,  2625,  2626,  2627,  2628,  2702,  2703,  2704,  2705,\n",
       "         2779,  2780,  2781,  2782,  2856,  2857,  2858,  2859,  2932,\n",
       "         2933,  2934,  2935,  3009,  3010,  3011,  3012,  3085,  3086,\n",
       "         3087,  3088,  3161,  3162,  3163,  3164,  3237,  3238,  3239,\n",
       "         3240,  3313,  3314,  3315,  3316,  3389,  3390,  3391,  3392,\n",
       "         3465,  3466,  3467,  3468,  3541,  3542,  3543,  3544,  3617,\n",
       "         3618,  3619,  3620,  3693,  3694,  3695,  3696,  3769,  3770,\n",
       "         3771,  3772,  3845,  3846,  3847,  3848,  3922,  3923,  3924,\n",
       "         3925,  3999,  4000,  4001,  4002,  4076,  4077,  4078,  4079,\n",
       "         4153,  4154,  4155,  4156,  4230,  4231,  4232,  4233,  4306,\n",
       "         4307,  4308,  4309,  4383,  4384,  4385,  4386,  4459,  4460,\n",
       "         4461,  4462,  4535,  4536,  4537,  4538,  4611,  4612,  4613,\n",
       "         4614,  4687,  4688,  4689,  4690,  4763,  4764,  4765,  4766,\n",
       "         4839,  4840,  4841,  4842,  4915,  4916,  4917,  4918,  4991,\n",
       "         4992,  4993,  4994,  5067,  5068,  5069,  5070,  5143,  5144,\n",
       "         5145,  5146,  5219,  5220,  5221,  5222,  5296,  5297,  5298,\n",
       "         5299,  5373,  5374,  5375,  5376,  5450,  5451,  5452,  5453,\n",
       "         5527,  5528,  5529,  5530,  5604,  5605,  5606,  5607,  5680,\n",
       "         5681,  5682,  5683,  5757,  5758,  5759,  5760,  5833,  5834,\n",
       "         5835,  5836,  5909,  5910,  5911,  5912,  5985,  5986,  5987,\n",
       "         5988,  6061,  6062,  6063,  6064,  6137,  6138,  6139,  6140,\n",
       "         6213,  6214,  6215,  6216,  6289,  6290,  6291,  6292,  6365,\n",
       "         6366,  6367,  6368,  6441,  6442,  6443,  6444,  6517,  6518,\n",
       "         6519,  6520,  6593,  6594,  6595,  6596,  6670,  6671,  6672,\n",
       "         6673,  6747,  6748,  6749,  6750,  6824,  6825,  6826,  6827,\n",
       "         6901,  6902,  6903,  6904,  6978,  6979,  6980,  6981,  7054,\n",
       "         7055,  7056,  7057,  7131,  7132,  7133,  7134,  7207,  7208,\n",
       "         7209,  7210,  7283,  7284,  7285,  7286,  7359,  7360,  7361,\n",
       "         7362,  7435,  7436,  7437,  7438,  7511,  7512,  7513,  7514,\n",
       "         7587,  7588,  7589,  7590,  7663,  7664,  7665,  7666,  7739,\n",
       "         7740,  7741,  7742,  7815,  7816,  7817,  7818,  7891,  7892,\n",
       "         7893,  7894,  7967,  7968,  7969,  7970,  8044,  8045,  8046,\n",
       "         8047,  8121,  8122,  8123,  8124,  8198,  8199,  8200,  8201,\n",
       "         8275,  8276,  8277,  8278,  8352,  8353,  8354,  8355,  8428,\n",
       "         8429,  8430,  8431,  8505,  8506,  8507,  8508,  8581,  8582,\n",
       "         8583,  8584,  8657,  8658,  8659,  8660,  8733,  8734,  8735,\n",
       "         8736,  8809,  8810,  8811,  8812,  8885,  8886,  8887,  8888,\n",
       "         8961,  8962,  8963,  8964,  9037,  9038,  9039,  9040,  9113,\n",
       "         9114,  9115,  9116,  9189,  9190,  9191,  9192,  9265,  9266,\n",
       "         9267,  9268,  9341,  9342,  9343,  9344,  9418,  9419,  9420,\n",
       "         9421,  9495,  9496,  9497,  9498,  9572,  9573,  9574,  9575,\n",
       "         9649,  9650,  9651,  9652,  9726,  9727,  9728,  9729,  9802,\n",
       "         9803,  9804,  9805,  9879,  9880,  9881,  9882,  9955,  9956,\n",
       "         9957,  9958, 10031, 10032, 10033, 10034, 10107, 10108, 10109,\n",
       "        10110, 10183, 10184, 10185, 10186, 10259, 10260, 10261, 10262,\n",
       "        10335, 10336, 10337, 10338, 10411, 10412, 10413, 10414, 10487,\n",
       "        10488, 10489, 10490, 10563, 10564, 10565, 10566, 10639, 10640,\n",
       "        10641, 10642, 10715, 10716, 10717, 10718, 10792, 10793, 10794,\n",
       "        10795, 10869, 10870, 10871, 10872, 10946, 10947, 10948, 10949,\n",
       "        11038, 11039, 11040, 11041, 11130, 11131, 11132, 11133, 11216,\n",
       "        11217, 11218, 11219, 11306, 11307, 11308, 11309, 12031, 12032,\n",
       "        12033, 12034, 12108, 12109, 12110, 12111, 12184, 12185, 12186,\n",
       "        12187, 12226, 12227, 12228, 12261, 12262, 12263, 12264, 12337,\n",
       "        12338, 12339, 12340, 12379, 12380, 12381, 12413, 12414, 12415,\n",
       "        12416, 12489, 12490, 12491, 12492, 12531, 12532, 12533, 12565,\n",
       "        12566, 12567, 12568, 12641, 12642, 12643, 12644, 12717, 12718,\n",
       "        12719, 12720, 12850, 12851, 12852, 12853, 12926, 12927, 12928,\n",
       "        12929, 13003, 13004, 13005, 13006, 13080, 13081, 13082, 13083,\n",
       "        13157, 13158, 13159, 13160, 13249, 13250, 13251, 13252, 13341,\n",
       "        13342, 13343, 13344, 13427, 13428, 13429, 13430, 13517, 13518,\n",
       "        13519, 13520, 14242, 14243, 14244, 14245, 14319, 14320, 14321,\n",
       "        14322, 14395, 14396, 14397, 14398, 14437, 14438, 14439, 14472,\n",
       "        14473, 14474, 14475, 14548, 14549, 14550, 14551, 14590, 14591,\n",
       "        14592, 14624, 14625, 14626, 14627, 14700, 14701, 14702, 14703,\n",
       "        14742, 14743, 14744, 14776, 14777, 14778, 14779, 14852, 14853,\n",
       "        14854, 14855, 14899, 14900, 14901, 14902, 14975, 14976, 14977,\n",
       "        14978], dtype=int64),\n",
       " 'management': array([   60,    82,   137,   158,   213,   235,   290,   311,   366,\n",
       "          387,   442,   463,   518,   539,   594,   615,   670,   691,\n",
       "          746,   767,   822,   843,   898,   919,   974,   995,  1050,\n",
       "         1071,  1126,  1148,  1203,  1225,  1280,  1302,  1357,  1379,\n",
       "         1434,  1456,  1511,  1532,  1587,  1609,  1664,  1685,  1740,\n",
       "         1761,  1816,  1837,  1892,  1913,  1968,  1989,  2044,  2065,\n",
       "         2120,  2141,  2196,  2217,  2272,  2293,  2348,  2369,  2424,\n",
       "         2445,  2500,  2522,  2577,  2599,  2654,  2676,  2731,  2753,\n",
       "         2808,  2830,  2885,  2906,  2961,  2983,  3038,  3059,  3114,\n",
       "         3135,  3190,  3211,  3266,  3287,  3342,  3363,  3418,  3439,\n",
       "         3494,  3515,  3570,  3591,  3646,  3667,  3722,  3743,  3798,\n",
       "         3819,  3874,  3896,  3951,  3973,  4028,  4050,  4105,  4127,\n",
       "         4182,  4204,  4259,  4280,  4335,  4357,  4412,  4433,  4488,\n",
       "         4509,  4564,  4585,  4640,  4661,  4716,  4737,  4792,  4813,\n",
       "         4868,  4889,  4944,  4965,  5020,  5041,  5096,  5117,  5172,\n",
       "         5193,  5248,  5270,  5325,  5347,  5402,  5424,  5479,  5501,\n",
       "         5556,  5578,  5633,  5654,  5709,  5731,  5786,  5807,  5862,\n",
       "         5883,  5938,  5959,  6014,  6035,  6090,  6111,  6166,  6187,\n",
       "         6242,  6263,  6318,  6339,  6394,  6415,  6470,  6491,  6546,\n",
       "         6567,  6622,  6644,  6699,  6721,  6776,  6798,  6853,  6875,\n",
       "         6930,  6952,  7007,  7028,  7083,  7105,  7160,  7181,  7236,\n",
       "         7257,  7312,  7333,  7388,  7409,  7464,  7485,  7540,  7561,\n",
       "         7616,  7637,  7692,  7713,  7768,  7789,  7844,  7865,  7920,\n",
       "         7941,  7996,  8018,  8073,  8095,  8150,  8172,  8227,  8249,\n",
       "         8304,  8326,  8381,  8402,  8457,  8479,  8534,  8555,  8610,\n",
       "         8631,  8686,  8707,  8762,  8783,  8838,  8859,  8914,  8935,\n",
       "         8990,  9011,  9066,  9087,  9142,  9163,  9218,  9239,  9294,\n",
       "         9315,  9370,  9392,  9447,  9469,  9524,  9546,  9601,  9617,\n",
       "         9623,  9678,  9700,  9755,  9776,  9831,  9847,  9853,  9908,\n",
       "         9924,  9929,  9984, 10000, 10005, 10060, 10076, 10081, 10136,\n",
       "        10157, 10212, 10233, 10288, 10309, 10364, 10385, 10440, 10461,\n",
       "        10516, 10537, 10592, 10613, 10668, 10689, 10744, 10766, 10821,\n",
       "        10843, 10898, 10920, 10975, 11012, 11067, 11078, 11079, 11080,\n",
       "        11081, 11082, 11083, 11093, 11094, 11095, 11096, 11097, 11098,\n",
       "        11104, 11159, 11190, 11245, 11256, 11257, 11258, 11259, 11260,\n",
       "        11261, 11269, 11270, 11271, 11272, 11273, 11274, 11280, 11335,\n",
       "        11346, 11347, 11348, 11349, 11350, 11351, 11392, 11393, 11394,\n",
       "        11395, 11396, 11397, 11403, 11421, 11422, 11423, 11424, 11425,\n",
       "        11426, 11432, 11449, 11450, 11451, 11452, 11453, 11454, 11460,\n",
       "        11489, 11516, 11527, 11528, 11529, 11530, 11531, 11532, 11573,\n",
       "        11574, 11575, 11576, 11577, 11578, 11584, 11602, 11603, 11604,\n",
       "        11605, 11606, 11607, 11613, 11630, 11631, 11632, 11633, 11634,\n",
       "        11635, 11641, 11670, 11697, 11708, 11709, 11710, 11711, 11712,\n",
       "        11713, 11754, 11755, 11756, 11757, 11758, 11759, 11765, 11783,\n",
       "        11784, 11785, 11786, 11787, 11788, 11794, 11811, 11812, 11813,\n",
       "        11814, 11815, 11816, 11822, 11840, 11841, 11842, 11843, 11844,\n",
       "        11845, 11851, 11878, 11889, 11890, 11891, 11892, 11893, 11894,\n",
       "        11935, 11936, 11937, 11938, 11939, 11940, 11946, 11975, 11993,\n",
       "        11994, 11995, 11996, 11997, 12060, 12082, 12137, 12158, 12213,\n",
       "        12235, 12290, 12311, 12366, 12387, 12442, 12463, 12518, 12539,\n",
       "        12594, 12615, 12670, 12691, 12746, 12767, 12803, 12824, 12879,\n",
       "        12900, 12955, 12977, 13032, 13054, 13109, 13131, 13186, 13223,\n",
       "        13278, 13289, 13290, 13291, 13292, 13293, 13294, 13304, 13305,\n",
       "        13306, 13307, 13308, 13309, 13315, 13370, 13401, 13456, 13467,\n",
       "        13468, 13469, 13470, 13471, 13472, 13480, 13481, 13482, 13483,\n",
       "        13484, 13485, 13491, 13546, 13557, 13558, 13559, 13560, 13561,\n",
       "        13562, 13603, 13604, 13605, 13606, 13607, 13608, 13614, 13632,\n",
       "        13633, 13634, 13635, 13636, 13637, 13643, 13660, 13661, 13662,\n",
       "        13663, 13664, 13665, 13671, 13700, 13727, 13738, 13739, 13740,\n",
       "        13741, 13742, 13743, 13784, 13785, 13786, 13787, 13788, 13789,\n",
       "        13795, 13813, 13814, 13815, 13816, 13817, 13818, 13824, 13841,\n",
       "        13842, 13843, 13844, 13845, 13846, 13852, 13881, 13908, 13919,\n",
       "        13920, 13921, 13922, 13923, 13924, 13965, 13966, 13967, 13968,\n",
       "        13969, 13970, 13976, 13994, 13995, 13996, 13997, 13998, 13999,\n",
       "        14005, 14022, 14023, 14024, 14025, 14026, 14027, 14033, 14051,\n",
       "        14052, 14053, 14054, 14055, 14056, 14062, 14089, 14100, 14101,\n",
       "        14102, 14103, 14104, 14105, 14146, 14147, 14148, 14149, 14150,\n",
       "        14151, 14157, 14186, 14204, 14205, 14206, 14207, 14208, 14271,\n",
       "        14293, 14348, 14369, 14424, 14446, 14501, 14522, 14577, 14598,\n",
       "        14653, 14674, 14729, 14750, 14805, 14826, 14873, 14928, 14949],\n",
       "       dtype=int64),\n",
       " 'marketing': array([   77,    83,    84,    85,   148,   149,   150,   151,   152,\n",
       "          153,   159,   160,   161,   229,   230,   236,   237,   238,\n",
       "          306,   312,   313,   314,   382,   388,   389,   390,   458,\n",
       "          464,   465,   466,   534,   540,   541,   542,   610,   616,\n",
       "          617,   618,   686,   692,   693,   694,   762,   768,   769,\n",
       "          770,   838,   844,   845,   846,   914,   920,   921,   922,\n",
       "          990,   996,   997,   998,  1066,  1072,  1073,  1074,  1142,\n",
       "         1143,  1149,  1150,  1151,  1220,  1226,  1227,  1228,  1297,\n",
       "         1303,  1304,  1305,  1374,  1380,  1381,  1382,  1451,  1457,\n",
       "         1458,  1459,  1527,  1533,  1534,  1535,  1603,  1604,  1610,\n",
       "         1611,  1612,  1680,  1686,  1687,  1688,  1756,  1762,  1763,\n",
       "         1764,  1832,  1838,  1839,  1840,  1908,  1914,  1915,  1916,\n",
       "         1984,  1990,  1991,  1992,  2060,  2066,  2067,  2068,  2136,\n",
       "         2142,  2143,  2144,  2212,  2218,  2219,  2220,  2288,  2294,\n",
       "         2295,  2296,  2364,  2370,  2371,  2372,  2440,  2446,  2447,\n",
       "         2448,  2516,  2517,  2523,  2524,  2525,  2594,  2600,  2601,\n",
       "         2602,  2671,  2677,  2678,  2679,  2748,  2754,  2755,  2756,\n",
       "         2825,  2831,  2832,  2833,  2901,  2907,  2908,  2909,  2977,\n",
       "         2978,  2984,  2985,  2986,  3054,  3060,  3061,  3062,  3130,\n",
       "         3136,  3137,  3138,  3206,  3212,  3213,  3214,  3282,  3288,\n",
       "         3289,  3290,  3358,  3364,  3365,  3366,  3434,  3440,  3441,\n",
       "         3442,  3510,  3516,  3517,  3518,  3586,  3592,  3593,  3594,\n",
       "         3662,  3668,  3669,  3670,  3738,  3744,  3745,  3746,  3814,\n",
       "         3820,  3821,  3822,  3890,  3891,  3897,  3898,  3899,  3968,\n",
       "         3974,  3975,  3976,  4045,  4051,  4052,  4053,  4122,  4128,\n",
       "         4129,  4130,  4199,  4205,  4206,  4207,  4275,  4281,  4282,\n",
       "         4283,  4351,  4352,  4358,  4359,  4360,  4428,  4434,  4435,\n",
       "         4436,  4504,  4510,  4511,  4512,  4580,  4586,  4587,  4588,\n",
       "         4656,  4662,  4663,  4664,  4732,  4738,  4739,  4740,  4808,\n",
       "         4814,  4815,  4816,  4884,  4890,  4891,  4892,  4960,  4966,\n",
       "         4967,  4968,  5036,  5042,  5043,  5044,  5112,  5118,  5119,\n",
       "         5120,  5188,  5194,  5195,  5196,  5264,  5265,  5271,  5272,\n",
       "         5273,  5342,  5348,  5349,  5350,  5419,  5425,  5426,  5427,\n",
       "         5496,  5502,  5503,  5504,  5573,  5579,  5580,  5581,  5649,\n",
       "         5655,  5656,  5657,  5725,  5726,  5732,  5733,  5734,  5802,\n",
       "         5808,  5809,  5810,  5878,  5884,  5885,  5886,  5954,  5960,\n",
       "         5961,  5962,  6030,  6036,  6037,  6038,  6106,  6112,  6113,\n",
       "         6114,  6182,  6188,  6189,  6190,  6258,  6264,  6265,  6266,\n",
       "         6334,  6340,  6341,  6342,  6410,  6416,  6417,  6418,  6486,\n",
       "         6492,  6493,  6494,  6562,  6568,  6569,  6570,  6638,  6639,\n",
       "         6645,  6646,  6647,  6716,  6722,  6723,  6724,  6793,  6799,\n",
       "         6800,  6801,  6870,  6876,  6877,  6878,  6947,  6953,  6954,\n",
       "         6955,  7023,  7029,  7030,  7031,  7099,  7100,  7106,  7107,\n",
       "         7108,  7176,  7182,  7183,  7184,  7252,  7258,  7259,  7260,\n",
       "         7328,  7334,  7335,  7336,  7404,  7410,  7411,  7412,  7480,\n",
       "         7486,  7487,  7488,  7556,  7562,  7563,  7564,  7632,  7638,\n",
       "         7639,  7640,  7708,  7714,  7715,  7716,  7784,  7790,  7791,\n",
       "         7792,  7860,  7866,  7867,  7868,  7936,  7942,  7943,  7944,\n",
       "         8012,  8013,  8019,  8020,  8021,  8090,  8096,  8097,  8098,\n",
       "         8167,  8173,  8174,  8175,  8244,  8250,  8251,  8252,  8321,\n",
       "         8327,  8328,  8329,  8397,  8403,  8404,  8405,  8473,  8474,\n",
       "         8480,  8481,  8482,  8550,  8556,  8557,  8558,  8626,  8632,\n",
       "         8633,  8634,  8702,  8708,  8709,  8710,  8778,  8784,  8785,\n",
       "         8786,  8854,  8860,  8861,  8862,  8930,  8936,  8937,  8938,\n",
       "         9006,  9012,  9013,  9014,  9082,  9088,  9089,  9090,  9158,\n",
       "         9164,  9165,  9166,  9234,  9240,  9241,  9242,  9310,  9316,\n",
       "         9317,  9318,  9386,  9387,  9393,  9394,  9395,  9458,  9459,\n",
       "         9460,  9461,  9462,  9463,  9464,  9470,  9471,  9472,  9541,\n",
       "         9547,  9548,  9549,  9612,  9618,  9624,  9625,  9626,  9695,\n",
       "         9701,  9702,  9703,  9771,  9777,  9778,  9779,  9842,  9848,\n",
       "         9854,  9855,  9856,  9919,  9930,  9931,  9932,  9995, 10006,\n",
       "        10007, 10008, 10071, 10082, 10083, 10084, 10152, 10158, 10159,\n",
       "        10160, 10228, 10234, 10235, 10236, 10304, 10310, 10311, 10312,\n",
       "        10380, 10386, 10387, 10388, 10456, 10462, 10463, 10464, 10532,\n",
       "        10538, 10539, 10540, 10608, 10614, 10615, 10616, 10684, 10690,\n",
       "        10691, 10692, 10760, 10761, 10767, 10768, 10769, 10838, 10844,\n",
       "        10845, 10846, 10915, 10921, 10922, 10923, 11007, 11013, 11014,\n",
       "        11015, 11099, 11105, 11106, 11107, 11185, 11191, 11192, 11193,\n",
       "        11275, 11281, 11282, 11283, 11398, 11404, 11405, 11406, 11427,\n",
       "        11433, 11434, 11435, 11455, 11461, 11462, 11463, 11484, 11490,\n",
       "        11491, 11492, 11579, 11585, 11586, 11587, 11608, 11614, 11615,\n",
       "        11616, 11636, 11642, 11643, 11644, 11665, 11671, 11672, 11673,\n",
       "        11760, 11766, 11767, 11768, 11789, 11795, 11796, 11797, 11817,\n",
       "        11823, 11824, 11825, 11846, 11852, 11853, 11854, 11941, 11947,\n",
       "        11948, 11949, 11970, 11976, 11977, 11978, 11998, 12077, 12083,\n",
       "        12084, 12085, 12148, 12149, 12150, 12151, 12152, 12153, 12159,\n",
       "        12160, 12161, 12229, 12230, 12236, 12237, 12238, 12306, 12312,\n",
       "        12313, 12314, 12382, 12388, 12389, 12390, 12458, 12464, 12465,\n",
       "        12466, 12534, 12540, 12541, 12542, 12610, 12616, 12617, 12618,\n",
       "        12686, 12692, 12693, 12694, 12762, 12768, 12769, 12770, 12819,\n",
       "        12825, 12826, 12827, 12895, 12901, 12902, 12903, 12971, 12972,\n",
       "        12978, 12979, 12980, 13049, 13055, 13056, 13057, 13126, 13132,\n",
       "        13133, 13134, 13218, 13224, 13225, 13226, 13310, 13316, 13317,\n",
       "        13318, 13396, 13402, 13403, 13404, 13486, 13492, 13493, 13494,\n",
       "        13609, 13615, 13616, 13617, 13638, 13644, 13645, 13646, 13666,\n",
       "        13672, 13673, 13674, 13695, 13701, 13702, 13703, 13790, 13796,\n",
       "        13797, 13798, 13819, 13825, 13826, 13827, 13847, 13853, 13854,\n",
       "        13855, 13876, 13882, 13883, 13884, 13971, 13977, 13978, 13979,\n",
       "        14000, 14006, 14007, 14008, 14028, 14034, 14035, 14036, 14057,\n",
       "        14063, 14064, 14065, 14152, 14158, 14159, 14160, 14181, 14187,\n",
       "        14188, 14189, 14209, 14288, 14294, 14295, 14296, 14359, 14360,\n",
       "        14361, 14362, 14363, 14364, 14370, 14371, 14372, 14440, 14441,\n",
       "        14447, 14448, 14449, 14517, 14523, 14524, 14525, 14593, 14599,\n",
       "        14600, 14601, 14669, 14675, 14676, 14677, 14745, 14751, 14752,\n",
       "        14753, 14821, 14827, 14828, 14829, 14874, 14875, 14876, 14944,\n",
       "        14950, 14951, 14952], dtype=int64),\n",
       " 'product_mng': array([   66,    67,    68,    69,    71,    72,    73,    74,    75,\n",
       "           76,   143,   144,   145,   146,   219,   220,   221,   222,\n",
       "          296,   297,   298,   299,   372,   373,   374,   375,   448,\n",
       "          449,   450,   451,   524,   525,   526,   527,   600,   601,\n",
       "          602,   603,   676,   677,   678,   679,   752,   753,   754,\n",
       "          755,   828,   829,   830,   831,   904,   905,   906,   907,\n",
       "          980,   981,   982,   983,  1056,  1057,  1058,  1059,  1132,\n",
       "         1133,  1134,  1135,  1209,  1210,  1211,  1212,  1286,  1287,\n",
       "         1288,  1289,  1363,  1364,  1365,  1366,  1440,  1441,  1442,\n",
       "         1443,  1517,  1518,  1519,  1520,  1593,  1594,  1595,  1596,\n",
       "         1670,  1671,  1672,  1673,  1746,  1747,  1748,  1749,  1822,\n",
       "         1823,  1824,  1825,  1898,  1899,  1900,  1901,  1974,  1975,\n",
       "         1976,  1977,  2050,  2051,  2052,  2053,  2126,  2127,  2128,\n",
       "         2129,  2202,  2203,  2204,  2205,  2278,  2279,  2280,  2281,\n",
       "         2354,  2355,  2356,  2357,  2430,  2431,  2432,  2433,  2506,\n",
       "         2507,  2508,  2509,  2583,  2584,  2585,  2586,  2660,  2661,\n",
       "         2662,  2663,  2737,  2738,  2739,  2740,  2814,  2815,  2816,\n",
       "         2817,  2891,  2892,  2893,  2894,  2967,  2968,  2969,  2970,\n",
       "         3044,  3045,  3046,  3047,  3120,  3121,  3122,  3123,  3196,\n",
       "         3197,  3198,  3199,  3272,  3273,  3274,  3275,  3348,  3349,\n",
       "         3350,  3351,  3424,  3425,  3426,  3427,  3500,  3501,  3502,\n",
       "         3503,  3576,  3577,  3578,  3579,  3652,  3653,  3654,  3655,\n",
       "         3728,  3729,  3730,  3731,  3804,  3805,  3806,  3807,  3880,\n",
       "         3881,  3882,  3883,  3957,  3958,  3959,  3960,  4034,  4035,\n",
       "         4036,  4037,  4111,  4112,  4113,  4114,  4188,  4189,  4190,\n",
       "         4191,  4265,  4266,  4267,  4268,  4341,  4342,  4343,  4344,\n",
       "         4418,  4419,  4420,  4421,  4494,  4495,  4496,  4497,  4570,\n",
       "         4571,  4572,  4573,  4646,  4647,  4648,  4649,  4722,  4723,\n",
       "         4724,  4725,  4798,  4799,  4800,  4801,  4874,  4875,  4876,\n",
       "         4877,  4950,  4951,  4952,  4953,  5026,  5027,  5028,  5029,\n",
       "         5102,  5103,  5104,  5105,  5178,  5179,  5180,  5181,  5254,\n",
       "         5255,  5256,  5257,  5331,  5332,  5333,  5334,  5408,  5409,\n",
       "         5410,  5411,  5485,  5486,  5487,  5488,  5562,  5563,  5564,\n",
       "         5565,  5639,  5640,  5641,  5642,  5715,  5716,  5717,  5718,\n",
       "         5792,  5793,  5794,  5795,  5868,  5869,  5870,  5871,  5944,\n",
       "         5945,  5946,  5947,  6020,  6021,  6022,  6023,  6096,  6097,\n",
       "         6098,  6099,  6172,  6173,  6174,  6175,  6248,  6249,  6250,\n",
       "         6251,  6324,  6325,  6326,  6327,  6400,  6401,  6402,  6403,\n",
       "         6476,  6477,  6478,  6479,  6552,  6553,  6554,  6555,  6628,\n",
       "         6629,  6630,  6631,  6705,  6706,  6707,  6708,  6782,  6783,\n",
       "         6784,  6785,  6859,  6860,  6861,  6862,  6936,  6937,  6938,\n",
       "         6939,  7013,  7014,  7015,  7016,  7089,  7090,  7091,  7092,\n",
       "         7166,  7167,  7168,  7169,  7242,  7243,  7244,  7245,  7318,\n",
       "         7319,  7320,  7321,  7394,  7395,  7396,  7397,  7470,  7471,\n",
       "         7472,  7473,  7546,  7547,  7548,  7549,  7622,  7623,  7624,\n",
       "         7625,  7698,  7699,  7700,  7701,  7774,  7775,  7776,  7777,\n",
       "         7850,  7851,  7852,  7853,  7926,  7927,  7928,  7929,  8002,\n",
       "         8003,  8004,  8005,  8079,  8080,  8081,  8082,  8156,  8157,\n",
       "         8158,  8159,  8233,  8234,  8235,  8236,  8310,  8311,  8312,\n",
       "         8313,  8387,  8388,  8389,  8390,  8463,  8464,  8465,  8466,\n",
       "         8540,  8541,  8542,  8543,  8616,  8617,  8618,  8619,  8692,\n",
       "         8693,  8694,  8695,  8768,  8769,  8770,  8771,  8844,  8845,\n",
       "         8846,  8847,  8920,  8921,  8922,  8923,  8996,  8997,  8998,\n",
       "         8999,  9072,  9073,  9074,  9075,  9148,  9149,  9150,  9151,\n",
       "         9224,  9225,  9226,  9227,  9300,  9301,  9302,  9303,  9376,\n",
       "         9377,  9378,  9379,  9453,  9454,  9455,  9456,  9530,  9531,\n",
       "         9532,  9533,  9607,  9608,  9609,  9610,  9684,  9685,  9686,\n",
       "         9687,  9761,  9762,  9763,  9764,  9837,  9838,  9839,  9840,\n",
       "         9914,  9915,  9916,  9917,  9990,  9991,  9992,  9993, 10066,\n",
       "        10067, 10068, 10069, 10142, 10143, 10144, 10145, 10218, 10219,\n",
       "        10220, 10221, 10294, 10295, 10296, 10297, 10370, 10371, 10372,\n",
       "        10373, 10446, 10447, 10448, 10449, 10522, 10523, 10524, 10525,\n",
       "        10598, 10599, 10600, 10601, 10674, 10675, 10676, 10677, 10750,\n",
       "        10751, 10752, 10753, 10827, 10828, 10829, 10830, 10904, 10905,\n",
       "        10906, 10907, 10981, 10982, 10983, 10984, 10996, 10997, 10998,\n",
       "        10999, 11073, 11074, 11075, 11076, 11088, 11089, 11090, 11091,\n",
       "        11165, 11166, 11167, 11168, 11174, 11175, 11176, 11177, 11251,\n",
       "        11252, 11253, 11254, 11264, 11265, 11266, 11267, 11341, 11342,\n",
       "        11343, 11344, 11387, 11388, 11389, 11390, 11416, 11417, 11418,\n",
       "        11419, 11444, 11445, 11446, 11447, 11473, 11474, 11475, 11476,\n",
       "        11522, 11523, 11524, 11525, 11568, 11569, 11570, 11571, 11597,\n",
       "        11598, 11599, 11600, 11625, 11626, 11627, 11628, 11654, 11655,\n",
       "        11656, 11657, 11703, 11704, 11705, 11706, 11749, 11750, 11751,\n",
       "        11752, 11778, 11779, 11780, 11781, 11806, 11807, 11808, 11809,\n",
       "        11835, 11836, 11837, 11838, 11884, 11885, 11886, 11887, 11930,\n",
       "        11931, 11932, 11933, 11959, 11960, 11961, 11962, 11987, 11988,\n",
       "        11989, 11990, 12066, 12067, 12068, 12069, 12071, 12072, 12073,\n",
       "        12074, 12075, 12076, 12143, 12144, 12145, 12146, 12219, 12220,\n",
       "        12221, 12222, 12296, 12297, 12298, 12299, 12372, 12373, 12374,\n",
       "        12375, 12448, 12449, 12450, 12451, 12524, 12525, 12526, 12527,\n",
       "        12600, 12601, 12602, 12603, 12676, 12677, 12678, 12679, 12752,\n",
       "        12753, 12754, 12755, 12809, 12810, 12811, 12812, 12885, 12886,\n",
       "        12887, 12888, 12961, 12962, 12963, 12964, 13038, 13039, 13040,\n",
       "        13041, 13115, 13116, 13117, 13118, 13192, 13193, 13194, 13195,\n",
       "        13207, 13208, 13209, 13210, 13284, 13285, 13286, 13287, 13299,\n",
       "        13300, 13301, 13302, 13376, 13377, 13378, 13379, 13385, 13386,\n",
       "        13387, 13388, 13462, 13463, 13464, 13465, 13475, 13476, 13477,\n",
       "        13478, 13552, 13553, 13554, 13555, 13598, 13599, 13600, 13601,\n",
       "        13627, 13628, 13629, 13630, 13655, 13656, 13657, 13658, 13684,\n",
       "        13685, 13686, 13687, 13733, 13734, 13735, 13736, 13779, 13780,\n",
       "        13781, 13782, 13808, 13809, 13810, 13811, 13836, 13837, 13838,\n",
       "        13839, 13865, 13866, 13867, 13868, 13914, 13915, 13916, 13917,\n",
       "        13960, 13961, 13962, 13963, 13989, 13990, 13991, 13992, 14017,\n",
       "        14018, 14019, 14020, 14046, 14047, 14048, 14049, 14095, 14096,\n",
       "        14097, 14098, 14141, 14142, 14143, 14144, 14170, 14171, 14172,\n",
       "        14173, 14198, 14199, 14200, 14201, 14277, 14278, 14279, 14280,\n",
       "        14282, 14283, 14284, 14285, 14286, 14287, 14354, 14355, 14356,\n",
       "        14357, 14430, 14431, 14432, 14433, 14507, 14508, 14509, 14510,\n",
       "        14583, 14584, 14585, 14586, 14659, 14660, 14661, 14662, 14735,\n",
       "        14736, 14737, 14738, 14811, 14812, 14813, 14814, 14934, 14935,\n",
       "        14936, 14937], dtype=int64),\n",
       " 'sales': array([    0,     1,     2, ..., 14969, 14970, 14971], dtype=int64),\n",
       " 'support': array([   46,    47,    48, ..., 14996, 14997, 14998], dtype=int64),\n",
       " 'technical': array([   35,    36,    37, ..., 14987, 14988, 14989], dtype=int64)}"
      ]
     },
     "execution_count": 45,
     "metadata": {},
     "output_type": "execute_result"
    }
   ],
   "source": [
    "dp_indices=df.groupby(by=\"department\").indices  #indices是分组后的索引\n",
    "dp_indices  #字典"
   ]
  },
  {
   "cell_type": "code",
   "execution_count": 46,
   "metadata": {},
   "outputs": [
    {
     "name": "stdout",
     "output_type": "stream",
     "text": [
      "[1 1 1 ... 1 1 1]\n",
      "[1 1 1 ... 1 1 1]\n"
     ]
    }
   ],
   "source": [
    "sales_values=df[\"left\"].iloc[dp_indices[\"sales\"]].values\n",
    "technical_values=df[\"left\"].iloc[dp_indices[\"technical\"]].values\n",
    "print(sales_values)\n",
    "print(technical_values)"
   ]
  },
  {
   "cell_type": "code",
   "execution_count": 47,
   "metadata": {},
   "outputs": [
    {
     "name": "stdout",
     "output_type": "stream",
     "text": [
      "Ttest_indResult(statistic=-1.0601649378624074, pvalue=0.2891069046174478)\n"
     ]
    },
    {
     "data": {
      "text/plain": [
       "['IT',\n",
       " 'RandD',\n",
       " 'accounting',\n",
       " 'hr',\n",
       " 'management',\n",
       " 'marketing',\n",
       " 'product_mng',\n",
       " 'sales',\n",
       " 'support',\n",
       " 'technical']"
      ]
     },
     "execution_count": 47,
     "metadata": {},
     "output_type": "execute_result"
    }
   ],
   "source": [
    "print(ss.ttest_ind(sales_values,technical_values))\n",
    "dp_keys=list(dp_indices.keys())\n",
    "dp_t_mat=np.zeros((len(dp_keys),len(dp_keys)))\n",
    "dp_keys"
   ]
  },
  {
   "cell_type": "code",
   "execution_count": 48,
   "metadata": {},
   "outputs": [
    {
     "data": {
      "text/plain": [
       "<matplotlib.axes._subplots.AxesSubplot at 0x1f71e4e2ac8>"
      ]
     },
     "execution_count": 48,
     "metadata": {},
     "output_type": "execute_result"
    },
    {
     "data": {
      "image/png": "[encoded data removed]",
      "text/plain": [
       "<matplotlib.figure.Figure at 0x1f71e4e2550>"
      ]
     },
     "metadata": {},
     "output_type": "display_data"
    }
   ],
   "source": [
    "for i in range(len(dp_keys)):\n",
    "    for j in range(len(dp_keys)):\n",
    "        p_value=ss.ttest_ind(df[\"left\"].iloc[dp_indices[dp_keys[i]]].values,\\\n",
    "                             df[\"left\"].iloc[dp_indices[dp_keys[j]]].values)[1]\n",
    "        if p_value<0.05:\n",
    "            dp_t_mat[i][j]=-1\n",
    "        else:\n",
    "            dp_t_mat[i][j]=p_value\n",
    "sns.heatmap(dp_t_mat,xticklabels=dp_keys,yticklabels=dp_keys)\n",
    "#黑色显著差异"
   ]
  },
  {
   "cell_type": "code",
   "execution_count": 49,
   "metadata": {},
   "outputs": [
    {
     "data": {
      "text/html": [
       "<div>\n",
       "<style scoped>\n",
       "    .dataframe tbody tr th:only-of-type {\n",
       "        vertical-align: middle;\n",
       "    }\n",
       "\n",
       "    .dataframe tbody tr th {\n",
       "        vertical-align: top;\n",
       "    }\n",
       "\n",
       "    .dataframe thead th {\n",
       "        text-align: right;\n",
       "    }\n",
       "</style>\n",
       "<table border=\"1\" class=\"dataframe\">\n",
       "  <thead>\n",
       "    <tr style=\"text-align: right;\">\n",
       "      <th></th>\n",
       "      <th>time_spend_company</th>\n",
       "      <th>2</th>\n",
       "      <th>3</th>\n",
       "      <th>4</th>\n",
       "      <th>5</th>\n",
       "      <th>6</th>\n",
       "      <th>7</th>\n",
       "      <th>8</th>\n",
       "      <th>10</th>\n",
       "    </tr>\n",
       "    <tr>\n",
       "      <th>department</th>\n",
       "      <th>salary</th>\n",
       "      <th></th>\n",
       "      <th></th>\n",
       "      <th></th>\n",
       "      <th></th>\n",
       "      <th></th>\n",
       "      <th></th>\n",
       "      <th></th>\n",
       "      <th></th>\n",
       "    </tr>\n",
       "  </thead>\n",
       "  <tbody>\n",
       "    <tr>\n",
       "      <th rowspan=\"3\" valign=\"top\">IT</th>\n",
       "      <th>high</th>\n",
       "      <td>0.000000</td>\n",
       "      <td>0.054054</td>\n",
       "      <td>0.000000</td>\n",
       "      <td>0.333333</td>\n",
       "      <td>0.000000</td>\n",
       "      <td>NaN</td>\n",
       "      <td>NaN</td>\n",
       "      <td>NaN</td>\n",
       "    </tr>\n",
       "    <tr>\n",
       "      <th>low</th>\n",
       "      <td>0.000000</td>\n",
       "      <td>0.284091</td>\n",
       "      <td>0.394737</td>\n",
       "      <td>0.625000</td>\n",
       "      <td>0.259259</td>\n",
       "      <td>0.0</td>\n",
       "      <td>0.0</td>\n",
       "      <td>0.0</td>\n",
       "    </tr>\n",
       "    <tr>\n",
       "      <th>medium</th>\n",
       "      <td>0.033058</td>\n",
       "      <td>0.171171</td>\n",
       "      <td>0.352273</td>\n",
       "      <td>0.452830</td>\n",
       "      <td>0.000000</td>\n",
       "      <td>0.0</td>\n",
       "      <td>0.0</td>\n",
       "      <td>0.0</td>\n",
       "    </tr>\n",
       "    <tr>\n",
       "      <th rowspan=\"3\" valign=\"top\">RandD</th>\n",
       "      <th>high</th>\n",
       "      <td>0.000000</td>\n",
       "      <td>0.120000</td>\n",
       "      <td>0.125000</td>\n",
       "      <td>0.000000</td>\n",
       "      <td>0.000000</td>\n",
       "      <td>NaN</td>\n",
       "      <td>0.0</td>\n",
       "      <td>NaN</td>\n",
       "    </tr>\n",
       "    <tr>\n",
       "      <th>low</th>\n",
       "      <td>0.012048</td>\n",
       "      <td>0.140127</td>\n",
       "      <td>0.163934</td>\n",
       "      <td>0.475000</td>\n",
       "      <td>0.176471</td>\n",
       "      <td>NaN</td>\n",
       "      <td>0.0</td>\n",
       "      <td>NaN</td>\n",
       "    </tr>\n",
       "    <tr>\n",
       "      <th>medium</th>\n",
       "      <td>0.011364</td>\n",
       "      <td>0.125786</td>\n",
       "      <td>0.301587</td>\n",
       "      <td>0.526316</td>\n",
       "      <td>0.083333</td>\n",
       "      <td>NaN</td>\n",
       "      <td>NaN</td>\n",
       "      <td>NaN</td>\n",
       "    </tr>\n",
       "    <tr>\n",
       "      <th rowspan=\"3\" valign=\"top\">accounting</th>\n",
       "      <th>high</th>\n",
       "      <td>0.000000</td>\n",
       "      <td>0.114286</td>\n",
       "      <td>0.100000</td>\n",
       "      <td>0.000000</td>\n",
       "      <td>0.000000</td>\n",
       "      <td>NaN</td>\n",
       "      <td>0.0</td>\n",
       "      <td>NaN</td>\n",
       "    </tr>\n",
       "    <tr>\n",
       "      <th>low</th>\n",
       "      <td>0.000000</td>\n",
       "      <td>0.277108</td>\n",
       "      <td>0.386364</td>\n",
       "      <td>0.485714</td>\n",
       "      <td>0.200000</td>\n",
       "      <td>NaN</td>\n",
       "      <td>0.0</td>\n",
       "      <td>0.0</td>\n",
       "    </tr>\n",
       "    <tr>\n",
       "      <th>medium</th>\n",
       "      <td>0.046154</td>\n",
       "      <td>0.313433</td>\n",
       "      <td>0.419355</td>\n",
       "      <td>0.589744</td>\n",
       "      <td>0.315789</td>\n",
       "      <td>NaN</td>\n",
       "      <td>0.0</td>\n",
       "      <td>0.0</td>\n",
       "    </tr>\n",
       "    <tr>\n",
       "      <th rowspan=\"3\" valign=\"top\">hr</th>\n",
       "      <th>high</th>\n",
       "      <td>0.000000</td>\n",
       "      <td>0.200000</td>\n",
       "      <td>0.272727</td>\n",
       "      <td>NaN</td>\n",
       "      <td>0.000000</td>\n",
       "      <td>NaN</td>\n",
       "      <td>NaN</td>\n",
       "      <td>NaN</td>\n",
       "    </tr>\n",
       "    <tr>\n",
       "      <th>low</th>\n",
       "      <td>0.000000</td>\n",
       "      <td>0.290909</td>\n",
       "      <td>0.411765</td>\n",
       "      <td>0.486486</td>\n",
       "      <td>0.454545</td>\n",
       "      <td>NaN</td>\n",
       "      <td>NaN</td>\n",
       "      <td>NaN</td>\n",
       "    </tr>\n",
       "    <tr>\n",
       "      <th>medium</th>\n",
       "      <td>0.000000</td>\n",
       "      <td>0.418301</td>\n",
       "      <td>0.450000</td>\n",
       "      <td>0.473684</td>\n",
       "      <td>0.275862</td>\n",
       "      <td>NaN</td>\n",
       "      <td>0.0</td>\n",
       "      <td>NaN</td>\n",
       "    </tr>\n",
       "    <tr>\n",
       "      <th rowspan=\"3\" valign=\"top\">management</th>\n",
       "      <th>high</th>\n",
       "      <td>0.000000</td>\n",
       "      <td>0.000000</td>\n",
       "      <td>0.055556</td>\n",
       "      <td>0.000000</td>\n",
       "      <td>0.000000</td>\n",
       "      <td>0.0</td>\n",
       "      <td>0.0</td>\n",
       "      <td>0.0</td>\n",
       "    </tr>\n",
       "    <tr>\n",
       "      <th>low</th>\n",
       "      <td>0.000000</td>\n",
       "      <td>0.390244</td>\n",
       "      <td>0.437500</td>\n",
       "      <td>0.687500</td>\n",
       "      <td>0.285714</td>\n",
       "      <td>NaN</td>\n",
       "      <td>NaN</td>\n",
       "      <td>0.0</td>\n",
       "    </tr>\n",
       "    <tr>\n",
       "      <th>medium</th>\n",
       "      <td>0.027027</td>\n",
       "      <td>0.096386</td>\n",
       "      <td>0.414634</td>\n",
       "      <td>0.250000</td>\n",
       "      <td>0.000000</td>\n",
       "      <td>0.0</td>\n",
       "      <td>0.0</td>\n",
       "      <td>0.0</td>\n",
       "    </tr>\n",
       "    <tr>\n",
       "      <th rowspan=\"3\" valign=\"top\">marketing</th>\n",
       "      <th>high</th>\n",
       "      <td>0.000000</td>\n",
       "      <td>0.230769</td>\n",
       "      <td>0.000000</td>\n",
       "      <td>0.000000</td>\n",
       "      <td>0.000000</td>\n",
       "      <td>NaN</td>\n",
       "      <td>0.0</td>\n",
       "      <td>0.0</td>\n",
       "    </tr>\n",
       "    <tr>\n",
       "      <th>low</th>\n",
       "      <td>0.000000</td>\n",
       "      <td>0.328042</td>\n",
       "      <td>0.451613</td>\n",
       "      <td>0.636364</td>\n",
       "      <td>0.576923</td>\n",
       "      <td>0.0</td>\n",
       "      <td>0.0</td>\n",
       "      <td>0.0</td>\n",
       "    </tr>\n",
       "    <tr>\n",
       "      <th>medium</th>\n",
       "      <td>0.000000</td>\n",
       "      <td>0.227273</td>\n",
       "      <td>0.147059</td>\n",
       "      <td>0.588235</td>\n",
       "      <td>0.150000</td>\n",
       "      <td>0.0</td>\n",
       "      <td>0.0</td>\n",
       "      <td>0.0</td>\n",
       "    </tr>\n",
       "    <tr>\n",
       "      <th rowspan=\"3\" valign=\"top\">product_mng</th>\n",
       "      <th>high</th>\n",
       "      <td>0.000000</td>\n",
       "      <td>0.133333</td>\n",
       "      <td>0.222222</td>\n",
       "      <td>0.000000</td>\n",
       "      <td>0.000000</td>\n",
       "      <td>0.0</td>\n",
       "      <td>NaN</td>\n",
       "      <td>0.0</td>\n",
       "    </tr>\n",
       "    <tr>\n",
       "      <th>low</th>\n",
       "      <td>0.000000</td>\n",
       "      <td>0.219780</td>\n",
       "      <td>0.333333</td>\n",
       "      <td>0.545455</td>\n",
       "      <td>0.666667</td>\n",
       "      <td>0.0</td>\n",
       "      <td>0.0</td>\n",
       "      <td>0.0</td>\n",
       "    </tr>\n",
       "    <tr>\n",
       "      <th>medium</th>\n",
       "      <td>0.000000</td>\n",
       "      <td>0.252874</td>\n",
       "      <td>0.215385</td>\n",
       "      <td>0.647059</td>\n",
       "      <td>0.368421</td>\n",
       "      <td>0.0</td>\n",
       "      <td>0.0</td>\n",
       "      <td>0.0</td>\n",
       "    </tr>\n",
       "    <tr>\n",
       "      <th rowspan=\"3\" valign=\"top\">sales</th>\n",
       "      <th>high</th>\n",
       "      <td>0.000000</td>\n",
       "      <td>0.029126</td>\n",
       "      <td>0.097561</td>\n",
       "      <td>0.500000</td>\n",
       "      <td>0.000000</td>\n",
       "      <td>0.0</td>\n",
       "      <td>NaN</td>\n",
       "      <td>0.0</td>\n",
       "    </tr>\n",
       "    <tr>\n",
       "      <th>low</th>\n",
       "      <td>0.033259</td>\n",
       "      <td>0.365962</td>\n",
       "      <td>0.417143</td>\n",
       "      <td>0.677165</td>\n",
       "      <td>0.402299</td>\n",
       "      <td>0.0</td>\n",
       "      <td>0.0</td>\n",
       "      <td>0.0</td>\n",
       "    </tr>\n",
       "    <tr>\n",
       "      <th>medium</th>\n",
       "      <td>0.023873</td>\n",
       "      <td>0.190601</td>\n",
       "      <td>0.269091</td>\n",
       "      <td>0.451852</td>\n",
       "      <td>0.164557</td>\n",
       "      <td>0.0</td>\n",
       "      <td>0.0</td>\n",
       "      <td>0.0</td>\n",
       "    </tr>\n",
       "    <tr>\n",
       "      <th rowspan=\"3\" valign=\"top\">support</th>\n",
       "      <th>high</th>\n",
       "      <td>0.000000</td>\n",
       "      <td>0.067797</td>\n",
       "      <td>0.050000</td>\n",
       "      <td>0.272727</td>\n",
       "      <td>0.000000</td>\n",
       "      <td>NaN</td>\n",
       "      <td>NaN</td>\n",
       "      <td>0.0</td>\n",
       "    </tr>\n",
       "    <tr>\n",
       "      <th>low</th>\n",
       "      <td>0.022523</td>\n",
       "      <td>0.352031</td>\n",
       "      <td>0.466667</td>\n",
       "      <td>0.600000</td>\n",
       "      <td>0.568966</td>\n",
       "      <td>NaN</td>\n",
       "      <td>0.0</td>\n",
       "      <td>0.0</td>\n",
       "    </tr>\n",
       "    <tr>\n",
       "      <th>medium</th>\n",
       "      <td>0.024000</td>\n",
       "      <td>0.140704</td>\n",
       "      <td>0.208054</td>\n",
       "      <td>0.568182</td>\n",
       "      <td>0.333333</td>\n",
       "      <td>NaN</td>\n",
       "      <td>0.0</td>\n",
       "      <td>0.0</td>\n",
       "    </tr>\n",
       "    <tr>\n",
       "      <th rowspan=\"3\" valign=\"top\">technical</th>\n",
       "      <th>high</th>\n",
       "      <td>0.000000</td>\n",
       "      <td>0.137255</td>\n",
       "      <td>0.093750</td>\n",
       "      <td>0.444444</td>\n",
       "      <td>0.000000</td>\n",
       "      <td>NaN</td>\n",
       "      <td>NaN</td>\n",
       "      <td>0.0</td>\n",
       "    </tr>\n",
       "    <tr>\n",
       "      <th>low</th>\n",
       "      <td>0.003333</td>\n",
       "      <td>0.256849</td>\n",
       "      <td>0.466912</td>\n",
       "      <td>0.606299</td>\n",
       "      <td>0.306667</td>\n",
       "      <td>NaN</td>\n",
       "      <td>0.0</td>\n",
       "      <td>0.0</td>\n",
       "    </tr>\n",
       "    <tr>\n",
       "      <th>medium</th>\n",
       "      <td>0.028226</td>\n",
       "      <td>0.212632</td>\n",
       "      <td>0.394366</td>\n",
       "      <td>0.635659</td>\n",
       "      <td>0.303030</td>\n",
       "      <td>0.0</td>\n",
       "      <td>0.0</td>\n",
       "      <td>0.0</td>\n",
       "    </tr>\n",
       "  </tbody>\n",
       "</table>\n",
       "</div>"
      ],
      "text/plain": [
       "time_spend_company        2         3         4         5         6    7   \\\n",
       "department  salary                                                          \n",
       "IT          high    0.000000  0.054054  0.000000  0.333333  0.000000  NaN   \n",
       "            low     0.000000  0.284091  0.394737  0.625000  0.259259  0.0   \n",
       "            medium  0.033058  0.171171  0.352273  0.452830  0.000000  0.0   \n",
       "RandD       high    0.000000  0.120000  0.125000  0.000000  0.000000  NaN   \n",
       "            low     0.012048  0.140127  0.163934  0.475000  0.176471  NaN   \n",
       "            medium  0.011364  0.125786  0.301587  0.526316  0.083333  NaN   \n",
       "accounting  high    0.000000  0.114286  0.100000  0.000000  0.000000  NaN   \n",
       "            low     0.000000  0.277108  0.386364  0.485714  0.200000  NaN   \n",
       "            medium  0.046154  0.313433  0.419355  0.589744  0.315789  NaN   \n",
       "hr          high    0.000000  0.200000  0.272727       NaN  0.000000  NaN   \n",
       "            low     0.000000  0.290909  0.411765  0.486486  0.454545  NaN   \n",
       "            medium  0.000000  0.418301  0.450000  0.473684  0.275862  NaN   \n",
       "management  high    0.000000  0.000000  0.055556  0.000000  0.000000  0.0   \n",
       "            low     0.000000  0.390244  0.437500  0.687500  0.285714  NaN   \n",
       "            medium  0.027027  0.096386  0.414634  0.250000  0.000000  0.0   \n",
       "marketing   high    0.000000  0.230769  0.000000  0.000000  0.000000  NaN   \n",
       "            low     0.000000  0.328042  0.451613  0.636364  0.576923  0.0   \n",
       "            medium  0.000000  0.227273  0.147059  0.588235  0.150000  0.0   \n",
       "product_mng high    0.000000  0.133333  0.222222  0.000000  0.000000  0.0   \n",
       "            low     0.000000  0.219780  0.333333  0.545455  0.666667  0.0   \n",
       "            medium  0.000000  0.252874  0.215385  0.647059  0.368421  0.0   \n",
       "sales       high    0.000000  0.029126  0.097561  0.500000  0.000000  0.0   \n",
       "            low     0.033259  0.365962  0.417143  0.677165  0.402299  0.0   \n",
       "            medium  0.023873  0.190601  0.269091  0.451852  0.164557  0.0   \n",
       "support     high    0.000000  0.067797  0.050000  0.272727  0.000000  NaN   \n",
       "            low     0.022523  0.352031  0.466667  0.600000  0.568966  NaN   \n",
       "            medium  0.024000  0.140704  0.208054  0.568182  0.333333  NaN   \n",
       "technical   high    0.000000  0.137255  0.093750  0.444444  0.000000  NaN   \n",
       "            low     0.003333  0.256849  0.466912  0.606299  0.306667  NaN   \n",
       "            medium  0.028226  0.212632  0.394366  0.635659  0.303030  0.0   \n",
       "\n",
       "time_spend_company   8    10  \n",
       "department  salary            \n",
       "IT          high    NaN  NaN  \n",
       "            low     0.0  0.0  \n",
       "            medium  0.0  0.0  \n",
       "RandD       high    0.0  NaN  \n",
       "            low     0.0  NaN  \n",
       "            medium  NaN  NaN  \n",
       "accounting  high    0.0  NaN  \n",
       "            low     0.0  0.0  \n",
       "            medium  0.0  0.0  \n",
       "hr          high    NaN  NaN  \n",
       "            low     NaN  NaN  \n",
       "            medium  0.0  NaN  \n",
       "management  high    0.0  0.0  \n",
       "            low     NaN  0.0  \n",
       "            medium  0.0  0.0  \n",
       "marketing   high    0.0  0.0  \n",
       "            low     0.0  0.0  \n",
       "            medium  0.0  0.0  \n",
       "product_mng high    NaN  0.0  \n",
       "            low     0.0  0.0  \n",
       "            medium  0.0  0.0  \n",
       "sales       high    NaN  0.0  \n",
       "            low     0.0  0.0  \n",
       "            medium  0.0  0.0  \n",
       "support     high    NaN  0.0  \n",
       "            low     0.0  0.0  \n",
       "            medium  0.0  0.0  \n",
       "technical   high    NaN  0.0  \n",
       "            low     0.0  0.0  \n",
       "            medium  0.0  0.0  "
      ]
     },
     "execution_count": 49,
     "metadata": {},
     "output_type": "execute_result"
    }
   ],
   "source": [
    "piv_tb=pd.pivot_table(df, values=\"left\", index=[\"department\", \"salary\"],\n",
    "                      columns=[\"time_spend_company\"],aggfunc=np.mean)\n",
    "piv_tb"
   ]
  },
  {
   "cell_type": "code",
   "execution_count": 50,
   "metadata": {},
   "outputs": [
    {
     "name": "stdout",
     "output_type": "stream",
     "text": [
      "MultiIndex(levels=[[0, 1], ['high', 'low', 'medium']],\n",
      "           labels=[[0, 0, 0, 1, 1, 1], [0, 1, 2, 0, 1, 2]],\n",
      "           names=['promotion_last_5years', 'salary'])\n"
     ]
    },
    {
     "data": {
      "text/html": [
       "<div>\n",
       "<style scoped>\n",
       "    .dataframe tbody tr th:only-of-type {\n",
       "        vertical-align: middle;\n",
       "    }\n",
       "\n",
       "    .dataframe tbody tr th {\n",
       "        vertical-align: top;\n",
       "    }\n",
       "\n",
       "    .dataframe thead th {\n",
       "        text-align: right;\n",
       "    }\n",
       "</style>\n",
       "<table border=\"1\" class=\"dataframe\">\n",
       "  <thead>\n",
       "    <tr style=\"text-align: right;\">\n",
       "      <th></th>\n",
       "      <th>Work_accident</th>\n",
       "      <th>0</th>\n",
       "      <th>1</th>\n",
       "    </tr>\n",
       "    <tr>\n",
       "      <th>promotion_last_5years</th>\n",
       "      <th>salary</th>\n",
       "      <th></th>\n",
       "      <th></th>\n",
       "    </tr>\n",
       "  </thead>\n",
       "  <tbody>\n",
       "    <tr>\n",
       "      <th rowspan=\"3\" valign=\"top\">0</th>\n",
       "      <th>high</th>\n",
       "      <td>0.082996</td>\n",
       "      <td>0.000000</td>\n",
       "    </tr>\n",
       "    <tr>\n",
       "      <th>low</th>\n",
       "      <td>0.331728</td>\n",
       "      <td>0.090020</td>\n",
       "    </tr>\n",
       "    <tr>\n",
       "      <th>medium</th>\n",
       "      <td>0.230683</td>\n",
       "      <td>0.081655</td>\n",
       "    </tr>\n",
       "    <tr>\n",
       "      <th rowspan=\"3\" valign=\"top\">1</th>\n",
       "      <th>high</th>\n",
       "      <td>0.000000</td>\n",
       "      <td>0.000000</td>\n",
       "    </tr>\n",
       "    <tr>\n",
       "      <th>low</th>\n",
       "      <td>0.229167</td>\n",
       "      <td>0.166667</td>\n",
       "    </tr>\n",
       "    <tr>\n",
       "      <th>medium</th>\n",
       "      <td>0.028986</td>\n",
       "      <td>0.023256</td>\n",
       "    </tr>\n",
       "  </tbody>\n",
       "</table>\n",
       "</div>"
      ],
      "text/plain": [
       "Work_accident                        0         1\n",
       "promotion_last_5years salary                    \n",
       "0                     high    0.082996  0.000000\n",
       "                      low     0.331728  0.090020\n",
       "                      medium  0.230683  0.081655\n",
       "1                     high    0.000000  0.000000\n",
       "                      low     0.229167  0.166667\n",
       "                      medium  0.028986  0.023256"
      ]
     },
     "execution_count": 50,
     "metadata": {},
     "output_type": "execute_result"
    }
   ],
   "source": [
    "piv_tb=pd.pivot_table(df, values=\"left\",index=[\"department\",\"salary\"],\n",
    "                      columns=[\"number_project\"],aggfunc=np.mean)\n",
    "piv_tb = pd.pivot_table(df, values=\"left\", index=[\"promotion_last_5years\", \"salary\"],\n",
    "                        columns=[\"Work_accident\"],aggfunc=np.mean)\n",
    "print(piv_tb.index)\n",
    "piv_tb"
   ]
  },
  {
   "cell_type": "code",
   "execution_count": 51,
   "metadata": {},
   "outputs": [
    {
     "data": {
      "image/png": "[encoded data removed]",
      "text/plain": [
       "<matplotlib.figure.Figure at 0x1f71e47eb70>"
      ]
     },
     "metadata": {},
     "output_type": "display_data"
    }
   ],
   "source": [
    "sns.set_context(font_scale=1.5)\n",
    "sns.heatmap(piv_tb,vmax=1,vmin=0,cmap=sns.color_palette('Reds',n_colors=256))\n",
    "plt.show()"
   ]
  },
  {
   "cell_type": "markdown",
   "metadata": {},
   "source": [
    "### 分组分析与钻取"
   ]
  },
  {
   "cell_type": "markdown",
   "metadata": {},
   "source": [
    "不纯度指标-Gini系数,决策树cart算法,\n",
    "基尼系数介于0-1之间，基尼系数越大，表示不平等程度越高"
   ]
  },
  {
   "cell_type": "code",
   "execution_count": 52,
   "metadata": {
    "scrolled": false
   },
   "outputs": [
    {
     "data": {
      "text/plain": [
       "<matplotlib.axes._subplots.AxesSubplot at 0x1f71e5ee438>"
      ]
     },
     "execution_count": 52,
     "metadata": {},
     "output_type": "execute_result"
    },
    {
     "data": {
      "image/png": "[encoded data removed]",
      "text/plain": [
       "<matplotlib.figure.Figure at 0x1f71e050198>"
      ]
     },
     "metadata": {},
     "output_type": "display_data"
    }
   ],
   "source": [
    "sns.set()\n",
    "sns.barplot(x = 'salary',y='left',hue='department',data=df)"
   ]
  },
  {
   "cell_type": "code",
   "execution_count": 53,
   "metadata": {},
   "outputs": [],
   "source": [
    "sl_s = df['satisfaction_level']\n",
    "# sns.barplot(np.array(range(len(sl_s))),sl_s.sort_values())   "
   ]
  },
  {
   "cell_type": "markdown",
   "metadata": {},
   "source": [
    "### 相关分析"
   ]
  },
  {
   "cell_type": "code",
   "execution_count": 54,
   "metadata": {},
   "outputs": [],
   "source": [
    "import matplotlib.pyplot as plt\n",
    "import seaborn as sns \n",
    "import pandas as pd \n",
    "import numpy as np \n",
    "%matplotlib inline"
   ]
  },
  {
   "cell_type": "code",
   "execution_count": 55,
   "metadata": {},
   "outputs": [],
   "source": [
    "sns.set_context(font_scale = 1.5)"
   ]
  },
  {
   "cell_type": "code",
   "execution_count": 56,
   "metadata": {},
   "outputs": [],
   "source": [
    "df = pd.read_csv('./data/HR.csv')"
   ]
  },
  {
   "cell_type": "code",
   "execution_count": 57,
   "metadata": {},
   "outputs": [
    {
     "data": {
      "text/plain": [
       "<matplotlib.axes._subplots.AxesSubplot at 0x1f71e648908>"
      ]
     },
     "execution_count": 57,
     "metadata": {},
     "output_type": "execute_result"
    },
    {
     "data": {
      "image/png": "[encoded data removed]",
      "text/plain": [
       "<matplotlib.figure.Figure at 0x1f71e6ab400>"
      ]
     },
     "metadata": {},
     "output_type": "display_data"
    }
   ],
   "source": [
    "#corr计算两列值的相关系数\n",
    "sns.heatmap(df.corr(),vmin=-1,vmax=1,cmap=sns.color_palette('RdBu',n_colors=128))"
   ]
  },
  {
   "cell_type": "markdown",
   "metadata": {},
   "source": [
    "2类属性,0或1,相关系数直接判断相关性corr"
   ]
  },
  {
   "cell_type": "markdown",
   "metadata": {},
   "source": [
    "- 熵,H(Y),       衡量不确定性,样本类别越多分布越均匀熵越大,1个类别时为0  \n",
    "- 条件熵,H(Y|Y),   Y条件下y的不确定性,  \n",
    "- 互信息(熵增益)   I(Y,Y) = I(Y,Y)  \n",
    "- 熵增益律   互信息I除H(Y)\n",
    "- 相关性      $corr=\\frac{I(x,y)}{\\sqrt{(H(X)H(Y))}}$"
   ]
  },
  {
   "cell_type": "code",
   "execution_count": 58,
   "metadata": {},
   "outputs": [],
   "source": [
    "s1 = pd.Series(['X1','X1','X2','X2','X2','X2'])\n",
    "s2 = pd.Series(['Y1','Y1','Y1','Y2','Y2','Y2'])"
   ]
  },
  {
   "cell_type": "code",
   "execution_count": 59,
   "metadata": {},
   "outputs": [],
   "source": [
    "def getEntropy(s):\n",
    "    if not isinstance(s, pd.core.series.Series):\n",
    "        s = pd.Series(s)    \n",
    "    prt_ary = pd.groupby(s,by=s).count().values/float(len(s))\n",
    "    return -(np.log2(prt_ary)*prt_ary).sum()"
   ]
  },
  {
   "cell_type": "code",
   "execution_count": 60,
   "metadata": {},
   "outputs": [
    {
     "name": "stdout",
     "output_type": "stream",
     "text": [
      "Entropy: 1.0\n",
      "Entropy: 0.9182958340544896\n"
     ]
    },
    {
     "name": "stderr",
     "output_type": "stream",
     "text": [
      "C:\\ProgramData\\Anaconda3\\lib\\site-packages\\ipykernel_launcher.py:4: FutureWarning: pd.groupby() is deprecated and will be removed; Please use the Series.groupby() or DataFrame.groupby() methods\n",
      "  after removing the cwd from sys.path.\n"
     ]
    }
   ],
   "source": [
    "print('Entropy:',getEntropy(s2))\n",
    "print('Entropy:',getEntropy(s1))"
   ]
  },
  {
   "cell_type": "code",
   "execution_count": 61,
   "metadata": {},
   "outputs": [
    {
     "name": "stdout",
     "output_type": "stream",
     "text": [
      "d  {'X1': ['Y1', 'Y1'], 'X2': ['Y1', 'Y2', 'Y2', 'Y2']}\n"
     ]
    }
   ],
   "source": [
    "#条件熵\n",
    "def getCondEntropy(s1,s2):    \n",
    "    d = dict()\n",
    "    for i in list(range(len(s1))):\n",
    "        d[s1[i]]=d.get(s1[i],[])+[s2[i]]\n",
    "    return sum([getEntropy(d[k]) * len(d[k]) / float(len(s1)) for k in d])\n",
    "d = dict()\n",
    "for i in list(range(len(s1))):\n",
    "    d[s1[i]]=d.get(s1[i],[])+[s2[i]]\n",
    "print('d ',d)"
   ]
  },
  {
   "cell_type": "code",
   "execution_count": 62,
   "metadata": {},
   "outputs": [
    {
     "name": "stderr",
     "output_type": "stream",
     "text": [
      "C:\\ProgramData\\Anaconda3\\lib\\site-packages\\ipykernel_launcher.py:4: FutureWarning: pd.groupby() is deprecated and will be removed; Please use the Series.groupby() or DataFrame.groupby() methods\n",
      "  after removing the cwd from sys.path.\n"
     ]
    },
    {
     "data": {
      "text/plain": [
       "0.5408520829727552"
      ]
     },
     "execution_count": 62,
     "metadata": {},
     "output_type": "execute_result"
    }
   ],
   "source": [
    "#,s1下s2的\n",
    "getCondEntropy(s1,s2)"
   ]
  },
  {
   "cell_type": "code",
   "execution_count": 63,
   "metadata": {},
   "outputs": [
    {
     "name": "stderr",
     "output_type": "stream",
     "text": [
      "C:\\ProgramData\\Anaconda3\\lib\\site-packages\\ipykernel_launcher.py:4: FutureWarning: pd.groupby() is deprecated and will be removed; Please use the Series.groupby() or DataFrame.groupby() methods\n",
      "  after removing the cwd from sys.path.\n"
     ]
    },
    {
     "data": {
      "text/plain": [
       "0.4591479170272448"
      ]
     },
     "execution_count": 63,
     "metadata": {},
     "output_type": "execute_result"
    }
   ],
   "source": [
    "getCondEntropy(s2,s1)"
   ]
  },
  {
   "cell_type": "code",
   "execution_count": 64,
   "metadata": {},
   "outputs": [],
   "source": [
    "#互信息 I\n",
    "def getEntropyGain(s1,s2): \n",
    "    return getEntropy(s2)-getCondEntropy(s1,s2)"
   ]
  },
  {
   "cell_type": "code",
   "execution_count": 65,
   "metadata": {},
   "outputs": [
    {
     "name": "stdout",
     "output_type": "stream",
     "text": [
      "0.4591479170272448\n",
      "0.4591479170272448\n"
     ]
    },
    {
     "name": "stderr",
     "output_type": "stream",
     "text": [
      "C:\\ProgramData\\Anaconda3\\lib\\site-packages\\ipykernel_launcher.py:4: FutureWarning: pd.groupby() is deprecated and will be removed; Please use the Series.groupby() or DataFrame.groupby() methods\n",
      "  after removing the cwd from sys.path.\n"
     ]
    }
   ],
   "source": [
    "print(getEntropyGain(s1,s2))\n",
    "print(getEntropyGain(s2,s1))"
   ]
  },
  {
   "cell_type": "code",
   "execution_count": 66,
   "metadata": {},
   "outputs": [],
   "source": [
    "#熵增益率\n",
    "def getEntropyGainRatio(s1,s2):\n",
    "    return getEntropyGain(s1,s2)/getEntropy(s2)"
   ]
  },
  {
   "cell_type": "code",
   "execution_count": 67,
   "metadata": {},
   "outputs": [
    {
     "name": "stdout",
     "output_type": "stream",
     "text": [
      "0.4591479170272448\n",
      "0.5\n"
     ]
    },
    {
     "name": "stderr",
     "output_type": "stream",
     "text": [
      "C:\\ProgramData\\Anaconda3\\lib\\site-packages\\ipykernel_launcher.py:4: FutureWarning: pd.groupby() is deprecated and will be removed; Please use the Series.groupby() or DataFrame.groupby() methods\n",
      "  after removing the cwd from sys.path.\n"
     ]
    }
   ],
   "source": [
    "print(getEntropyGainRatio(s1,s2))\n",
    "print(getEntropyGainRatio(s2,s1))"
   ]
  },
  {
   "cell_type": "code",
   "execution_count": 68,
   "metadata": {},
   "outputs": [],
   "source": [
    "import math\n",
    "def getDiscreteCorr(s1,s2):\n",
    "    return getEntropyGain(s1,s2)/math.sqrt(getEntropy(s1)*getEntropy(s2))"
   ]
  },
  {
   "cell_type": "code",
   "execution_count": 69,
   "metadata": {},
   "outputs": [
    {
     "name": "stderr",
     "output_type": "stream",
     "text": [
      "C:\\ProgramData\\Anaconda3\\lib\\site-packages\\ipykernel_launcher.py:4: FutureWarning: pd.groupby() is deprecated and will be removed; Please use the Series.groupby() or DataFrame.groupby() methods\n",
      "  after removing the cwd from sys.path.\n"
     ]
    },
    {
     "data": {
      "text/plain": [
       "0.4791387674918639"
      ]
     },
     "execution_count": 69,
     "metadata": {},
     "output_type": "execute_result"
    }
   ],
   "source": [
    "getDiscreteCorr(s1,s2)\n",
    "getDiscreteCorr(s2,s1)\n"
   ]
  },
  {
   "cell_type": "code",
   "execution_count": 70,
   "metadata": {},
   "outputs": [],
   "source": [
    "#可能性平方和\n",
    "def getProbSS(s):\n",
    "    if not isinstance(s,pd.core.series.Series):\n",
    "        s = pd.Series(s)\n",
    "    prt_ary = np.array(pd.groupby(s, by=s).count().values / float(len(s)))\n",
    "    return sum(prt_ary ** 2)\n",
    "#Gini系数\n",
    "def getGini(a1, a2):\n",
    "    assert (len(a1) == len(a2))\n",
    "    d = dict()\n",
    "    for i in list(range(len(a1))):\n",
    "        d[a1[i]] = d.get(a1[i], []) + [a2[i]]\n",
    "    return 1 - sum([getProbSS(d[k]) * len(d[k]) / float(len(a1)) for k in d])"
   ]
  },
  {
   "cell_type": "code",
   "execution_count": 71,
   "metadata": {},
   "outputs": [
    {
     "name": "stdout",
     "output_type": "stream",
     "text": [
      "Gini 0.25\n",
      "Gini 0.2222222222222222\n"
     ]
    },
    {
     "name": "stderr",
     "output_type": "stream",
     "text": [
      "C:\\ProgramData\\Anaconda3\\lib\\site-packages\\ipykernel_launcher.py:5: FutureWarning: pd.groupby() is deprecated and will be removed; Please use the Series.groupby() or DataFrame.groupby() methods\n",
      "  \"\"\"\n"
     ]
    }
   ],
   "source": [
    "print('Gini',getGini(s1,s2))\n",
    "print('Gini',getGini(s2,s1))"
   ]
  },
  {
   "cell_type": "code",
   "execution_count": 72,
   "metadata": {},
   "outputs": [
    {
     "name": "stderr",
     "output_type": "stream",
     "text": [
      "C:\\ProgramData\\Anaconda3\\lib\\site-packages\\ipykernel_launcher.py:5: FutureWarning: pd.groupby() is deprecated and will be removed; Please use the Series.groupby() or DataFrame.groupby() methods\n",
      "  \"\"\"\n"
     ]
    },
    {
     "data": {
      "text/plain": [
       "0.5"
      ]
     },
     "execution_count": 72,
     "metadata": {},
     "output_type": "execute_result"
    }
   ],
   "source": [
    "s3 = pd.Series(['Y11','Y11','Y11','Y11','Y11','Y11'])\n",
    "getGini(s3,s2)"
   ]
  },
  {
   "cell_type": "markdown",
   "metadata": {},
   "source": [
    "### 因子分析"
   ]
  },
  {
   "cell_type": "code",
   "execution_count": 73,
   "metadata": {},
   "outputs": [],
   "source": [
    "from sklearn.decomposition import PCA"
   ]
  },
  {
   "cell_type": "code",
   "execution_count": 74,
   "metadata": {},
   "outputs": [],
   "source": [
    "my_pca = PCA(n_components=7)"
   ]
  },
  {
   "cell_type": "code",
   "execution_count": 75,
   "metadata": {},
   "outputs": [
    {
     "name": "stdout",
     "output_type": "stream",
     "text": [
      "[9.98565340e-01 8.69246970e-04 4.73865973e-04 4.96932182e-05\n",
      " 2.43172315e-05 9.29496619e-06 8.24128218e-06]\n"
     ]
    },
    {
     "data": {
      "text/plain": [
       "<matplotlib.axes._subplots.AxesSubplot at 0x1f71e767e10>"
      ]
     },
     "execution_count": 75,
     "metadata": {},
     "output_type": "execute_result"
    },
    {
     "data": {
      "image/png": "[encoded data removed]",
      "text/plain": [
       "<matplotlib.figure.Figure at 0x1f71e6dc2b0>"
      ]
     },
     "metadata": {},
     "output_type": "display_data"
    }
   ],
   "source": [
    "my_pca=PCA(n_components=7)\n",
    "lower_mat=my_pca.fit_transform(df.drop(labels=[\"salary\",\"department\",\"left\"],axis=1).values)\n",
    "print(my_pca.explained_variance_ratio_)\n",
    "sns.heatmap(pd.DataFrame(lower_mat).corr(),vmax=1,vmin=-1,cmap=sns.color_palette('RdBu',n_colors=128))\n"
   ]
  },
  {
   "cell_type": "code",
   "execution_count": null,
   "metadata": {},
   "outputs": [],
   "source": []
  },
  {
   "cell_type": "code",
   "execution_count": null,
   "metadata": {},
   "outputs": [],
   "source": []
  },
  {
   "cell_type": "code",
   "execution_count": null,
   "metadata": {},
   "outputs": [],
   "source": []
  },
  {
   "cell_type": "code",
   "execution_count": null,
   "metadata": {},
   "outputs": [],
   "source": []
  },
  {
   "cell_type": "code",
   "execution_count": null,
   "metadata": {},
   "outputs": [],
   "source": []
  },
  {
   "cell_type": "code",
   "execution_count": null,
   "metadata": {},
   "outputs": [],
   "source": []
  },
  {
   "cell_type": "code",
   "execution_count": null,
   "metadata": {},
   "outputs": [],
   "source": []
  },
  {
   "cell_type": "code",
   "execution_count": null,
   "metadata": {},
   "outputs": [],
   "source": []
  },
  {
   "cell_type": "code",
   "execution_count": null,
   "metadata": {},
   "outputs": [],
   "source": []
  },
  {
   "cell_type": "code",
   "execution_count": null,
   "metadata": {},
   "outputs": [],
   "source": []
  },
  {
   "cell_type": "code",
   "execution_count": null,
   "metadata": {},
   "outputs": [],
   "source": []
  },
  {
   "cell_type": "code",
   "execution_count": null,
   "metadata": {},
   "outputs": [],
   "source": []
  },
  {
   "cell_type": "code",
   "execution_count": null,
   "metadata": {},
   "outputs": [],
   "source": []
  },
  {
   "cell_type": "code",
   "execution_count": null,
   "metadata": {},
   "outputs": [],
   "source": []
  },
  {
   "cell_type": "code",
   "execution_count": null,
   "metadata": {},
   "outputs": [],
   "source": []
  }
 ],
 "metadata": {
  "kernelspec": {
   "display_name": "Python 3",
   "language": "python",
   "name": "python3"
  },
  "language_info": {
   "codemirror_mode": {
    "name": "ipython",
    "version": 3
   },
   "file_extension": ".py",
   "mimetype": "text/x-python",
   "name": "python",
   "nbconvert_exporter": "python",
   "pygments_lexer": "ipython3",
   "version": "3.6.4"
  }
 },
 "nbformat": 4,
 "nbformat_minor": 2
}
